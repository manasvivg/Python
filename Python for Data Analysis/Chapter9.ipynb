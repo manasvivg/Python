{
 "metadata": {
  "name": "",
  "signature": "sha256:cd17a6ddf31b6f190816cdbcc49858e2baacdcc7123e22f2ea7921db8876ce96"
 },
 "nbformat": 3,
 "nbformat_minor": 0,
 "worksheets": [
  {
   "cells": [
    {
     "cell_type": "code",
     "collapsed": false,
     "input": [
      "from pandas  import Series, DataFrame\n",
      "import pandas as pd\n",
      "import numpy as np"
     ],
     "language": "python",
     "metadata": {},
     "outputs": [],
     "prompt_number": 9
    },
    {
     "cell_type": "code",
     "collapsed": false,
     "input": [
      "df = DataFrame({'key1' : ['a', 'a', 'b', 'b', 'a'],\n",
      "                'key2' : ['one', 'two', 'one', 'two', 'one'],\n",
      "                'data1' : np.random.randn(5), \n",
      "                'data2' : np.random.randn(5)})\n",
      "\n",
      "df"
     ],
     "language": "python",
     "metadata": {},
     "outputs": [
      {
       "html": [
        "<div style=\"max-height:1000px;max-width:1500px;overflow:auto;\">\n",
        "<table border=\"1\" class=\"dataframe\">\n",
        "  <thead>\n",
        "    <tr style=\"text-align: right;\">\n",
        "      <th></th>\n",
        "      <th>data1</th>\n",
        "      <th>data2</th>\n",
        "      <th>key1</th>\n",
        "      <th>key2</th>\n",
        "    </tr>\n",
        "  </thead>\n",
        "  <tbody>\n",
        "    <tr>\n",
        "      <th>0</th>\n",
        "      <td>-1.021828</td>\n",
        "      <td>-0.183647</td>\n",
        "      <td> a</td>\n",
        "      <td> one</td>\n",
        "    </tr>\n",
        "    <tr>\n",
        "      <th>1</th>\n",
        "      <td> 2.339853</td>\n",
        "      <td>-0.776693</td>\n",
        "      <td> a</td>\n",
        "      <td> two</td>\n",
        "    </tr>\n",
        "    <tr>\n",
        "      <th>2</th>\n",
        "      <td> 1.589354</td>\n",
        "      <td>-0.017251</td>\n",
        "      <td> b</td>\n",
        "      <td> one</td>\n",
        "    </tr>\n",
        "    <tr>\n",
        "      <th>3</th>\n",
        "      <td> 2.450760</td>\n",
        "      <td>-1.964927</td>\n",
        "      <td> b</td>\n",
        "      <td> two</td>\n",
        "    </tr>\n",
        "    <tr>\n",
        "      <th>4</th>\n",
        "      <td> 1.380614</td>\n",
        "      <td> 0.986798</td>\n",
        "      <td> a</td>\n",
        "      <td> one</td>\n",
        "    </tr>\n",
        "  </tbody>\n",
        "</table>\n",
        "</div>"
       ],
       "metadata": {},
       "output_type": "pyout",
       "prompt_number": 10,
       "text": [
        "      data1     data2 key1 key2\n",
        "0 -1.021828 -0.183647    a  one\n",
        "1  2.339853 -0.776693    a  two\n",
        "2  1.589354 -0.017251    b  one\n",
        "3  2.450760 -1.964927    b  two\n",
        "4  1.380614  0.986798    a  one"
       ]
      }
     ],
     "prompt_number": 10
    },
    {
     "cell_type": "code",
     "collapsed": false,
     "input": [
      "df['data1'].groupby(df['key1']).mean()"
     ],
     "language": "python",
     "metadata": {},
     "outputs": [
      {
       "metadata": {},
       "output_type": "pyout",
       "prompt_number": 12,
       "text": [
        "key1\n",
        "a       0.899547\n",
        "b       2.020057\n",
        "Name: data1, dtype: float64"
       ]
      }
     ],
     "prompt_number": 12
    },
    {
     "cell_type": "code",
     "collapsed": false,
     "input": [
      "means = df['data1'].groupby([df['key1'], df['key2']]).mean()\n",
      "means"
     ],
     "language": "python",
     "metadata": {},
     "outputs": [
      {
       "metadata": {},
       "output_type": "pyout",
       "prompt_number": 15,
       "text": [
        "key1  key2\n",
        "a     one     0.179393\n",
        "      two     2.339853\n",
        "b     one     1.589354\n",
        "      two     2.450760\n",
        "Name: data1, dtype: float64"
       ]
      }
     ],
     "prompt_number": 15
    },
    {
     "cell_type": "code",
     "collapsed": false,
     "input": [
      "means.unstack()"
     ],
     "language": "python",
     "metadata": {},
     "outputs": [
      {
       "html": [
        "<div style=\"max-height:1000px;max-width:1500px;overflow:auto;\">\n",
        "<table border=\"1\" class=\"dataframe\">\n",
        "  <thead>\n",
        "    <tr style=\"text-align: right;\">\n",
        "      <th>key2</th>\n",
        "      <th>one</th>\n",
        "      <th>two</th>\n",
        "    </tr>\n",
        "    <tr>\n",
        "      <th>key1</th>\n",
        "      <th></th>\n",
        "      <th></th>\n",
        "    </tr>\n",
        "  </thead>\n",
        "  <tbody>\n",
        "    <tr>\n",
        "      <th>a</th>\n",
        "      <td> 0.179393</td>\n",
        "      <td> 2.339853</td>\n",
        "    </tr>\n",
        "    <tr>\n",
        "      <th>b</th>\n",
        "      <td> 1.589354</td>\n",
        "      <td> 2.450760</td>\n",
        "    </tr>\n",
        "  </tbody>\n",
        "</table>\n",
        "</div>"
       ],
       "metadata": {},
       "output_type": "pyout",
       "prompt_number": 16,
       "text": [
        "key2       one       two\n",
        "key1                    \n",
        "a     0.179393  2.339853\n",
        "b     1.589354  2.450760"
       ]
      }
     ],
     "prompt_number": 16
    },
    {
     "cell_type": "code",
     "collapsed": false,
     "input": [
      "states = np.array(['Ohio', 'California', 'California', 'Ohio', 'Ohio'])\n",
      "years = np.array([2005, 2005, 2006, 2005, 2006])\n",
      "df['data1'].groupby([states, years]).mean()"
     ],
     "language": "python",
     "metadata": {},
     "outputs": [
      {
       "metadata": {},
       "output_type": "pyout",
       "prompt_number": 18,
       "text": [
        "California  2005    2.339853\n",
        "            2006    1.589354\n",
        "Ohio        2005    0.714466\n",
        "            2006    1.380614\n",
        "Name: data1, dtype: float64"
       ]
      }
     ],
     "prompt_number": 18
    },
    {
     "cell_type": "code",
     "collapsed": false,
     "input": [
      "df.groupby(['key1','key2']).mean()"
     ],
     "language": "python",
     "metadata": {},
     "outputs": [
      {
       "html": [
        "<div style=\"max-height:1000px;max-width:1500px;overflow:auto;\">\n",
        "<table border=\"1\" class=\"dataframe\">\n",
        "  <thead>\n",
        "    <tr style=\"text-align: right;\">\n",
        "      <th></th>\n",
        "      <th></th>\n",
        "      <th>data1</th>\n",
        "      <th>data2</th>\n",
        "    </tr>\n",
        "    <tr>\n",
        "      <th>key1</th>\n",
        "      <th>key2</th>\n",
        "      <th></th>\n",
        "      <th></th>\n",
        "    </tr>\n",
        "  </thead>\n",
        "  <tbody>\n",
        "    <tr>\n",
        "      <th rowspan=\"2\" valign=\"top\">a</th>\n",
        "      <th>one</th>\n",
        "      <td> 0.179393</td>\n",
        "      <td> 0.401575</td>\n",
        "    </tr>\n",
        "    <tr>\n",
        "      <th>two</th>\n",
        "      <td> 2.339853</td>\n",
        "      <td>-0.776693</td>\n",
        "    </tr>\n",
        "    <tr>\n",
        "      <th rowspan=\"2\" valign=\"top\">b</th>\n",
        "      <th>one</th>\n",
        "      <td> 1.589354</td>\n",
        "      <td>-0.017251</td>\n",
        "    </tr>\n",
        "    <tr>\n",
        "      <th>two</th>\n",
        "      <td> 2.450760</td>\n",
        "      <td>-1.964927</td>\n",
        "    </tr>\n",
        "  </tbody>\n",
        "</table>\n",
        "</div>"
       ],
       "metadata": {},
       "output_type": "pyout",
       "prompt_number": 20,
       "text": [
        "              data1     data2\n",
        "key1 key2                    \n",
        "a    one   0.179393  0.401575\n",
        "     two   2.339853 -0.776693\n",
        "b    one   1.589354 -0.017251\n",
        "     two   2.450760 -1.964927"
       ]
      }
     ],
     "prompt_number": 20
    },
    {
     "cell_type": "code",
     "collapsed": false,
     "input": [
      "df.groupby(['key1', 'key2']).size()"
     ],
     "language": "python",
     "metadata": {},
     "outputs": [
      {
       "metadata": {},
       "output_type": "pyout",
       "prompt_number": 21,
       "text": [
        "key1  key2\n",
        "a     one     2\n",
        "      two     1\n",
        "b     one     1\n",
        "      two     1\n",
        "dtype: int64"
       ]
      }
     ],
     "prompt_number": 21
    },
    {
     "cell_type": "code",
     "collapsed": false,
     "input": [
      "for name, group in df.groupby('key1'):\n",
      "    print name\n",
      "    print group"
     ],
     "language": "python",
     "metadata": {},
     "outputs": [
      {
       "output_type": "stream",
       "stream": "stdout",
       "text": [
        "a\n",
        "      data1     data2 key1 key2\n",
        "0 -1.021828 -0.183647    a  one\n",
        "1  2.339853 -0.776693    a  two\n",
        "4  1.380614  0.986798    a  one\n",
        "b\n",
        "      data1     data2 key1 key2\n",
        "2  1.589354 -0.017251    b  one\n",
        "3  2.450760 -1.964927    b  two\n"
       ]
      }
     ],
     "prompt_number": 23
    },
    {
     "cell_type": "code",
     "collapsed": false,
     "input": [
      "for (k1,k2), group in df.groupby(['key1','key2']):\n",
      "    print k1,k2\n",
      "    print group"
     ],
     "language": "python",
     "metadata": {},
     "outputs": [
      {
       "output_type": "stream",
       "stream": "stdout",
       "text": [
        "a one\n",
        "      data1     data2 key1 key2\n",
        "0 -1.021828 -0.183647    a  one\n",
        "4  1.380614  0.986798    a  one\n",
        "a two\n",
        "      data1     data2 key1 key2\n",
        "1  2.339853 -0.776693    a  two\n",
        "b one\n",
        "      data1     data2 key1 key2\n",
        "2  1.589354 -0.017251    b  one\n",
        "b two\n",
        "     data1     data2 key1 key2\n",
        "3  2.45076 -1.964927    b  two\n"
       ]
      }
     ],
     "prompt_number": 25
    },
    {
     "cell_type": "code",
     "collapsed": false,
     "input": [
      "pieces = dict(list(df.groupby('key1')))"
     ],
     "language": "python",
     "metadata": {},
     "outputs": [],
     "prompt_number": 26
    },
    {
     "cell_type": "code",
     "collapsed": false,
     "input": [
      "pieces['b']"
     ],
     "language": "python",
     "metadata": {},
     "outputs": [
      {
       "html": [
        "<div style=\"max-height:1000px;max-width:1500px;overflow:auto;\">\n",
        "<table border=\"1\" class=\"dataframe\">\n",
        "  <thead>\n",
        "    <tr style=\"text-align: right;\">\n",
        "      <th></th>\n",
        "      <th>data1</th>\n",
        "      <th>data2</th>\n",
        "      <th>key1</th>\n",
        "      <th>key2</th>\n",
        "    </tr>\n",
        "  </thead>\n",
        "  <tbody>\n",
        "    <tr>\n",
        "      <th>2</th>\n",
        "      <td> 1.589354</td>\n",
        "      <td>-0.017251</td>\n",
        "      <td> b</td>\n",
        "      <td> one</td>\n",
        "    </tr>\n",
        "    <tr>\n",
        "      <th>3</th>\n",
        "      <td> 2.450760</td>\n",
        "      <td>-1.964927</td>\n",
        "      <td> b</td>\n",
        "      <td> two</td>\n",
        "    </tr>\n",
        "  </tbody>\n",
        "</table>\n",
        "</div>"
       ],
       "metadata": {},
       "output_type": "pyout",
       "prompt_number": 29,
       "text": [
        "      data1     data2 key1 key2\n",
        "2  1.589354 -0.017251    b  one\n",
        "3  2.450760 -1.964927    b  two"
       ]
      }
     ],
     "prompt_number": 29
    },
    {
     "cell_type": "code",
     "collapsed": false,
     "input": [
      "grouped = df.groupby(df.dtypes, axis=1)\n",
      "dict(list(grouped))"
     ],
     "language": "python",
     "metadata": {},
     "outputs": [
      {
       "metadata": {},
       "output_type": "pyout",
       "prompt_number": 30,
       "text": [
        "{dtype('float64'):       data1     data2\n",
        " 0 -1.021828 -0.183647\n",
        " 1  2.339853 -0.776693\n",
        " 2  1.589354 -0.017251\n",
        " 3  2.450760 -1.964927\n",
        " 4  1.380614  0.986798, dtype('O'):   key1 key2\n",
        " 0    a  one\n",
        " 1    a  two\n",
        " 2    b  one\n",
        " 3    b  two\n",
        " 4    a  one}"
       ]
      }
     ],
     "prompt_number": 30
    },
    {
     "cell_type": "code",
     "collapsed": false,
     "input": [
      "df.groupby(['key1','key2'])['data2'].mean()"
     ],
     "language": "python",
     "metadata": {},
     "outputs": [
      {
       "metadata": {},
       "output_type": "pyout",
       "prompt_number": 31,
       "text": [
        "key1  key2\n",
        "a     one     0.401575\n",
        "      two    -0.776693\n",
        "b     one    -0.017251\n",
        "      two    -1.964927\n",
        "Name: data2, dtype: float64"
       ]
      }
     ],
     "prompt_number": 31
    },
    {
     "cell_type": "heading",
     "level": 4,
     "metadata": {},
     "source": [
      "Grouping with Dicts and Series"
     ]
    },
    {
     "cell_type": "code",
     "collapsed": false,
     "input": [
      "people = DataFrame(np.random.randn(5, 5), columns=['a', 'b', 'c', 'd', 'e'],\n",
      "                   index=['Joe', 'Steve', 'Wes', 'Jim', 'Travis'])\n",
      "people.ix[2:3, ['b', 'c']] = np.nan"
     ],
     "language": "python",
     "metadata": {},
     "outputs": [],
     "prompt_number": 49
    },
    {
     "cell_type": "code",
     "collapsed": false,
     "input": [
      "people"
     ],
     "language": "python",
     "metadata": {},
     "outputs": [
      {
       "html": [
        "<div style=\"max-height:1000px;max-width:1500px;overflow:auto;\">\n",
        "<table border=\"1\" class=\"dataframe\">\n",
        "  <thead>\n",
        "    <tr style=\"text-align: right;\">\n",
        "      <th></th>\n",
        "      <th>a</th>\n",
        "      <th>b</th>\n",
        "      <th>c</th>\n",
        "      <th>d</th>\n",
        "      <th>e</th>\n",
        "    </tr>\n",
        "  </thead>\n",
        "  <tbody>\n",
        "    <tr>\n",
        "      <th>Joe</th>\n",
        "      <td> 1.198262</td>\n",
        "      <td>-1.000263</td>\n",
        "      <td> 0.358651</td>\n",
        "      <td>-1.684785</td>\n",
        "      <td> 1.592394</td>\n",
        "    </tr>\n",
        "    <tr>\n",
        "      <th>Steve</th>\n",
        "      <td>-0.427306</td>\n",
        "      <td> 0.003264</td>\n",
        "      <td> 1.275296</td>\n",
        "      <td> 0.244081</td>\n",
        "      <td>-0.031286</td>\n",
        "    </tr>\n",
        "    <tr>\n",
        "      <th>Wes</th>\n",
        "      <td> 0.262345</td>\n",
        "      <td>      NaN</td>\n",
        "      <td>      NaN</td>\n",
        "      <td> 2.196469</td>\n",
        "      <td>-0.594757</td>\n",
        "    </tr>\n",
        "    <tr>\n",
        "      <th>Jim</th>\n",
        "      <td>-0.709655</td>\n",
        "      <td>-0.767290</td>\n",
        "      <td> 1.258613</td>\n",
        "      <td> 1.554681</td>\n",
        "      <td>-1.046861</td>\n",
        "    </tr>\n",
        "    <tr>\n",
        "      <th>Travis</th>\n",
        "      <td>-0.125709</td>\n",
        "      <td>-2.298253</td>\n",
        "      <td>-0.740895</td>\n",
        "      <td>-0.493388</td>\n",
        "      <td> 0.247048</td>\n",
        "    </tr>\n",
        "  </tbody>\n",
        "</table>\n",
        "</div>"
       ],
       "metadata": {},
       "output_type": "pyout",
       "prompt_number": 35,
       "text": [
        "               a         b         c         d         e\n",
        "Joe     1.198262 -1.000263  0.358651 -1.684785  1.592394\n",
        "Steve  -0.427306  0.003264  1.275296  0.244081 -0.031286\n",
        "Wes     0.262345       NaN       NaN  2.196469 -0.594757\n",
        "Jim    -0.709655 -0.767290  1.258613  1.554681 -1.046861\n",
        "Travis -0.125709 -2.298253 -0.740895 -0.493388  0.247048"
       ]
      }
     ],
     "prompt_number": 35
    },
    {
     "cell_type": "code",
     "collapsed": false,
     "input": [
      "mapping = {'a': 'red', 'b': 'red', 'c': 'blue', 'd': 'blue', 'e': 'red', 'f' : 'orange'}"
     ],
     "language": "python",
     "metadata": {},
     "outputs": [],
     "prompt_number": 36
    },
    {
     "cell_type": "code",
     "collapsed": false,
     "input": [
      "mapping"
     ],
     "language": "python",
     "metadata": {},
     "outputs": [
      {
       "metadata": {},
       "output_type": "pyout",
       "prompt_number": 37,
       "text": [
        "{'a': 'red', 'b': 'red', 'c': 'blue', 'd': 'blue', 'e': 'red', 'f': 'orange'}"
       ]
      }
     ],
     "prompt_number": 37
    },
    {
     "cell_type": "code",
     "collapsed": false,
     "input": [
      "people.groupby(mapping,axis=1).sum()"
     ],
     "language": "python",
     "metadata": {},
     "outputs": [
      {
       "html": [
        "<div style=\"max-height:1000px;max-width:1500px;overflow:auto;\">\n",
        "<table border=\"1\" class=\"dataframe\">\n",
        "  <thead>\n",
        "    <tr style=\"text-align: right;\">\n",
        "      <th></th>\n",
        "      <th>blue</th>\n",
        "      <th>red</th>\n",
        "    </tr>\n",
        "  </thead>\n",
        "  <tbody>\n",
        "    <tr>\n",
        "      <th>Joe</th>\n",
        "      <td>-1.326134</td>\n",
        "      <td> 1.790393</td>\n",
        "    </tr>\n",
        "    <tr>\n",
        "      <th>Steve</th>\n",
        "      <td> 1.519377</td>\n",
        "      <td>-0.455328</td>\n",
        "    </tr>\n",
        "    <tr>\n",
        "      <th>Wes</th>\n",
        "      <td> 2.196469</td>\n",
        "      <td>-0.332412</td>\n",
        "    </tr>\n",
        "    <tr>\n",
        "      <th>Jim</th>\n",
        "      <td> 2.813294</td>\n",
        "      <td>-2.523806</td>\n",
        "    </tr>\n",
        "    <tr>\n",
        "      <th>Travis</th>\n",
        "      <td>-1.234283</td>\n",
        "      <td>-2.176913</td>\n",
        "    </tr>\n",
        "  </tbody>\n",
        "</table>\n",
        "</div>"
       ],
       "metadata": {},
       "output_type": "pyout",
       "prompt_number": 39,
       "text": [
        "            blue       red\n",
        "Joe    -1.326134  1.790393\n",
        "Steve   1.519377 -0.455328\n",
        "Wes     2.196469 -0.332412\n",
        "Jim     2.813294 -2.523806\n",
        "Travis -1.234283 -2.176913"
       ]
      }
     ],
     "prompt_number": 39
    },
    {
     "cell_type": "code",
     "collapsed": false,
     "input": [
      "map_series = Series(mapping)\n",
      "map_series"
     ],
     "language": "python",
     "metadata": {},
     "outputs": [
      {
       "metadata": {},
       "output_type": "pyout",
       "prompt_number": 40,
       "text": [
        "a       red\n",
        "b       red\n",
        "c      blue\n",
        "d      blue\n",
        "e       red\n",
        "f    orange\n",
        "dtype: object"
       ]
      }
     ],
     "prompt_number": 40
    },
    {
     "cell_type": "code",
     "collapsed": false,
     "input": [
      "people.groupby(map_series, axis=1).sum()"
     ],
     "language": "python",
     "metadata": {},
     "outputs": [
      {
       "html": [
        "<div style=\"max-height:1000px;max-width:1500px;overflow:auto;\">\n",
        "<table border=\"1\" class=\"dataframe\">\n",
        "  <thead>\n",
        "    <tr style=\"text-align: right;\">\n",
        "      <th></th>\n",
        "      <th>blue</th>\n",
        "      <th>red</th>\n",
        "    </tr>\n",
        "  </thead>\n",
        "  <tbody>\n",
        "    <tr>\n",
        "      <th>Joe</th>\n",
        "      <td>-2.667274</td>\n",
        "      <td> 1.917460</td>\n",
        "    </tr>\n",
        "    <tr>\n",
        "      <th>Steve</th>\n",
        "      <td> 0.043160</td>\n",
        "      <td>-2.283980</td>\n",
        "    </tr>\n",
        "    <tr>\n",
        "      <th>Joe</th>\n",
        "      <td> 0.175471</td>\n",
        "      <td>-1.025786</td>\n",
        "    </tr>\n",
        "    <tr>\n",
        "      <th>Jim</th>\n",
        "      <td>-1.906843</td>\n",
        "      <td>-0.764257</td>\n",
        "    </tr>\n",
        "    <tr>\n",
        "      <th>Travis</th>\n",
        "      <td>-1.412008</td>\n",
        "      <td> 1.345372</td>\n",
        "    </tr>\n",
        "  </tbody>\n",
        "</table>\n",
        "</div>"
       ],
       "metadata": {},
       "output_type": "pyout",
       "prompt_number": 46,
       "text": [
        "            blue       red\n",
        "Joe    -2.667274  1.917460\n",
        "Steve   0.043160 -2.283980\n",
        "Joe     0.175471 -1.025786\n",
        "Jim    -1.906843 -0.764257\n",
        "Travis -1.412008  1.345372"
       ]
      }
     ],
     "prompt_number": 46
    },
    {
     "cell_type": "code",
     "collapsed": false,
     "input": [
      "#double group by dimensions, works only if I make 2 names the same\n",
      "people.groupby(people.index, axis=0).sum().groupby(map_series,axis=1).sum()"
     ],
     "language": "python",
     "metadata": {},
     "outputs": [
      {
       "html": [
        "<div style=\"max-height:1000px;max-width:1500px;overflow:auto;\">\n",
        "<table border=\"1\" class=\"dataframe\">\n",
        "  <thead>\n",
        "    <tr style=\"text-align: right;\">\n",
        "      <th></th>\n",
        "      <th>blue</th>\n",
        "      <th>red</th>\n",
        "    </tr>\n",
        "  </thead>\n",
        "  <tbody>\n",
        "    <tr>\n",
        "      <th>Jim</th>\n",
        "      <td>-0.460307</td>\n",
        "      <td>-1.300016</td>\n",
        "    </tr>\n",
        "    <tr>\n",
        "      <th>Joe</th>\n",
        "      <td> 1.182696</td>\n",
        "      <td> 1.094546</td>\n",
        "    </tr>\n",
        "    <tr>\n",
        "      <th>Steve</th>\n",
        "      <td>-1.034076</td>\n",
        "      <td>-3.085540</td>\n",
        "    </tr>\n",
        "    <tr>\n",
        "      <th>Travis</th>\n",
        "      <td> 3.339935</td>\n",
        "      <td>-2.692657</td>\n",
        "    </tr>\n",
        "    <tr>\n",
        "      <th>Wes</th>\n",
        "      <td>-0.594703</td>\n",
        "      <td> 0.106838</td>\n",
        "    </tr>\n",
        "  </tbody>\n",
        "</table>\n",
        "</div>"
       ],
       "metadata": {},
       "output_type": "pyout",
       "prompt_number": 50,
       "text": [
        "            blue       red\n",
        "Jim    -0.460307 -1.300016\n",
        "Joe     1.182696  1.094546\n",
        "Steve  -1.034076 -3.085540\n",
        "Travis  3.339935 -2.692657\n",
        "Wes    -0.594703  0.106838"
       ]
      }
     ],
     "prompt_number": 50
    },
    {
     "cell_type": "heading",
     "level": 4,
     "metadata": {},
     "source": [
      "grouping with functions"
     ]
    },
    {
     "cell_type": "code",
     "collapsed": false,
     "input": [
      "people"
     ],
     "language": "python",
     "metadata": {},
     "outputs": [
      {
       "html": [
        "<div style=\"max-height:1000px;max-width:1500px;overflow:auto;\">\n",
        "<table border=\"1\" class=\"dataframe\">\n",
        "  <thead>\n",
        "    <tr style=\"text-align: right;\">\n",
        "      <th></th>\n",
        "      <th>a</th>\n",
        "      <th>b</th>\n",
        "      <th>c</th>\n",
        "      <th>d</th>\n",
        "      <th>e</th>\n",
        "    </tr>\n",
        "  </thead>\n",
        "  <tbody>\n",
        "    <tr>\n",
        "      <th>Joe</th>\n",
        "      <td> 0.642964</td>\n",
        "      <td>-1.250986</td>\n",
        "      <td> 0.574094</td>\n",
        "      <td> 0.608602</td>\n",
        "      <td> 1.702569</td>\n",
        "    </tr>\n",
        "    <tr>\n",
        "      <th>Steve</th>\n",
        "      <td>-1.944352</td>\n",
        "      <td>-0.874049</td>\n",
        "      <td>-0.369610</td>\n",
        "      <td>-0.664466</td>\n",
        "      <td>-0.267140</td>\n",
        "    </tr>\n",
        "    <tr>\n",
        "      <th>Wes</th>\n",
        "      <td>-0.506072</td>\n",
        "      <td>      NaN</td>\n",
        "      <td>      NaN</td>\n",
        "      <td>-0.594703</td>\n",
        "      <td> 0.612911</td>\n",
        "    </tr>\n",
        "    <tr>\n",
        "      <th>Jim</th>\n",
        "      <td> 0.432056</td>\n",
        "      <td>-0.028399</td>\n",
        "      <td>-0.851261</td>\n",
        "      <td> 0.390954</td>\n",
        "      <td>-1.703674</td>\n",
        "    </tr>\n",
        "    <tr>\n",
        "      <th>Travis</th>\n",
        "      <td> 0.179806</td>\n",
        "      <td>-1.753018</td>\n",
        "      <td> 1.749825</td>\n",
        "      <td> 1.590110</td>\n",
        "      <td>-1.119444</td>\n",
        "    </tr>\n",
        "  </tbody>\n",
        "</table>\n",
        "</div>"
       ],
       "metadata": {},
       "output_type": "pyout",
       "prompt_number": 51,
       "text": [
        "               a         b         c         d         e\n",
        "Joe     0.642964 -1.250986  0.574094  0.608602  1.702569\n",
        "Steve  -1.944352 -0.874049 -0.369610 -0.664466 -0.267140\n",
        "Wes    -0.506072       NaN       NaN -0.594703  0.612911\n",
        "Jim     0.432056 -0.028399 -0.851261  0.390954 -1.703674\n",
        "Travis  0.179806 -1.753018  1.749825  1.590110 -1.119444"
       ]
      }
     ],
     "prompt_number": 51
    },
    {
     "cell_type": "code",
     "collapsed": false,
     "input": [
      "#GROUP BY LENGTH OF THE NAME\n",
      "people.groupby(len).sum()"
     ],
     "language": "python",
     "metadata": {},
     "outputs": [
      {
       "html": [
        "<div style=\"max-height:1000px;max-width:1500px;overflow:auto;\">\n",
        "<table border=\"1\" class=\"dataframe\">\n",
        "  <thead>\n",
        "    <tr style=\"text-align: right;\">\n",
        "      <th></th>\n",
        "      <th>a</th>\n",
        "      <th>b</th>\n",
        "      <th>c</th>\n",
        "      <th>d</th>\n",
        "      <th>e</th>\n",
        "    </tr>\n",
        "  </thead>\n",
        "  <tbody>\n",
        "    <tr>\n",
        "      <th>3</th>\n",
        "      <td> 0.568947</td>\n",
        "      <td>-1.279385</td>\n",
        "      <td>-0.277168</td>\n",
        "      <td> 0.404853</td>\n",
        "      <td> 0.611806</td>\n",
        "    </tr>\n",
        "    <tr>\n",
        "      <th>5</th>\n",
        "      <td>-1.944352</td>\n",
        "      <td>-0.874049</td>\n",
        "      <td>-0.369610</td>\n",
        "      <td>-0.664466</td>\n",
        "      <td>-0.267140</td>\n",
        "    </tr>\n",
        "    <tr>\n",
        "      <th>6</th>\n",
        "      <td> 0.179806</td>\n",
        "      <td>-1.753018</td>\n",
        "      <td> 1.749825</td>\n",
        "      <td> 1.590110</td>\n",
        "      <td>-1.119444</td>\n",
        "    </tr>\n",
        "  </tbody>\n",
        "</table>\n",
        "</div>"
       ],
       "metadata": {},
       "output_type": "pyout",
       "prompt_number": 53,
       "text": [
        "          a         b         c         d         e\n",
        "3  0.568947 -1.279385 -0.277168  0.404853  0.611806\n",
        "5 -1.944352 -0.874049 -0.369610 -0.664466 -0.267140\n",
        "6  0.179806 -1.753018  1.749825  1.590110 -1.119444"
       ]
      }
     ],
     "prompt_number": 53
    },
    {
     "cell_type": "code",
     "collapsed": false,
     "input": [
      "key_list = ['one', 'one', 'one', 'two', 'two']\n",
      "people.groupby([len,key_list]).sum()"
     ],
     "language": "python",
     "metadata": {},
     "outputs": [
      {
       "html": [
        "<div style=\"max-height:1000px;max-width:1500px;overflow:auto;\">\n",
        "<table border=\"1\" class=\"dataframe\">\n",
        "  <thead>\n",
        "    <tr style=\"text-align: right;\">\n",
        "      <th></th>\n",
        "      <th></th>\n",
        "      <th>a</th>\n",
        "      <th>b</th>\n",
        "      <th>c</th>\n",
        "      <th>d</th>\n",
        "      <th>e</th>\n",
        "    </tr>\n",
        "  </thead>\n",
        "  <tbody>\n",
        "    <tr>\n",
        "      <th rowspan=\"2\" valign=\"top\">3</th>\n",
        "      <th>one</th>\n",
        "      <td> 0.136891</td>\n",
        "      <td>-1.250986</td>\n",
        "      <td> 0.574094</td>\n",
        "      <td> 0.013899</td>\n",
        "      <td> 2.315480</td>\n",
        "    </tr>\n",
        "    <tr>\n",
        "      <th>two</th>\n",
        "      <td> 0.432056</td>\n",
        "      <td>-0.028399</td>\n",
        "      <td>-0.851261</td>\n",
        "      <td> 0.390954</td>\n",
        "      <td>-1.703674</td>\n",
        "    </tr>\n",
        "    <tr>\n",
        "      <th>5</th>\n",
        "      <th>one</th>\n",
        "      <td>-1.944352</td>\n",
        "      <td>-0.874049</td>\n",
        "      <td>-0.369610</td>\n",
        "      <td>-0.664466</td>\n",
        "      <td>-0.267140</td>\n",
        "    </tr>\n",
        "    <tr>\n",
        "      <th>6</th>\n",
        "      <th>two</th>\n",
        "      <td> 0.179806</td>\n",
        "      <td>-1.753018</td>\n",
        "      <td> 1.749825</td>\n",
        "      <td> 1.590110</td>\n",
        "      <td>-1.119444</td>\n",
        "    </tr>\n",
        "  </tbody>\n",
        "</table>\n",
        "</div>"
       ],
       "metadata": {},
       "output_type": "pyout",
       "prompt_number": 54,
       "text": [
        "              a         b         c         d         e\n",
        "3 one  0.136891 -1.250986  0.574094  0.013899  2.315480\n",
        "  two  0.432056 -0.028399 -0.851261  0.390954 -1.703674\n",
        "5 one -1.944352 -0.874049 -0.369610 -0.664466 -0.267140\n",
        "6 two  0.179806 -1.753018  1.749825  1.590110 -1.119444"
       ]
      }
     ],
     "prompt_number": 54
    },
    {
     "cell_type": "heading",
     "level": 3,
     "metadata": {},
     "source": [
      "Group by Index levels\n"
     ]
    },
    {
     "cell_type": "code",
     "collapsed": false,
     "input": [
      "columns= pd.MultiIndex.from_arrays([['US', 'US', 'US', 'JP', 'JP'],[1, 3, 5, 1, 3]], names=['cty', 'tenor'])\n",
      "hier_df = DataFrame(np.random.randn(4, 5), columns=columns)"
     ],
     "language": "python",
     "metadata": {},
     "outputs": [],
     "prompt_number": 55
    },
    {
     "cell_type": "code",
     "collapsed": false,
     "input": [
      "hier_df"
     ],
     "language": "python",
     "metadata": {},
     "outputs": [
      {
       "html": [
        "<div style=\"max-height:1000px;max-width:1500px;overflow:auto;\">\n",
        "<table border=\"1\" class=\"dataframe\">\n",
        "  <thead>\n",
        "    <tr>\n",
        "      <th>cty</th>\n",
        "      <th colspan=\"3\" halign=\"left\">US</th>\n",
        "      <th colspan=\"2\" halign=\"left\">JP</th>\n",
        "    </tr>\n",
        "    <tr>\n",
        "      <th>tenor</th>\n",
        "      <th>1</th>\n",
        "      <th>3</th>\n",
        "      <th>5</th>\n",
        "      <th>1</th>\n",
        "      <th>3</th>\n",
        "    </tr>\n",
        "  </thead>\n",
        "  <tbody>\n",
        "    <tr>\n",
        "      <th>0</th>\n",
        "      <td> 1.029558</td>\n",
        "      <td> 0.217983</td>\n",
        "      <td> 1.211885</td>\n",
        "      <td>-0.558700</td>\n",
        "      <td>-1.421632</td>\n",
        "    </tr>\n",
        "    <tr>\n",
        "      <th>1</th>\n",
        "      <td> 0.367510</td>\n",
        "      <td> 0.718966</td>\n",
        "      <td>-0.472646</td>\n",
        "      <td>-0.939794</td>\n",
        "      <td> 1.090581</td>\n",
        "    </tr>\n",
        "    <tr>\n",
        "      <th>2</th>\n",
        "      <td> 0.611021</td>\n",
        "      <td>-0.233407</td>\n",
        "      <td>-1.556465</td>\n",
        "      <td> 1.631365</td>\n",
        "      <td> 0.172056</td>\n",
        "    </tr>\n",
        "    <tr>\n",
        "      <th>3</th>\n",
        "      <td> 0.154550</td>\n",
        "      <td>-0.251166</td>\n",
        "      <td>-0.125786</td>\n",
        "      <td>-1.212761</td>\n",
        "      <td> 0.137865</td>\n",
        "    </tr>\n",
        "  </tbody>\n",
        "</table>\n",
        "</div>"
       ],
       "metadata": {},
       "output_type": "pyout",
       "prompt_number": 56,
       "text": [
        "cty          US                            JP          \n",
        "tenor         1         3         5         1         3\n",
        "0      1.029558  0.217983  1.211885 -0.558700 -1.421632\n",
        "1      0.367510  0.718966 -0.472646 -0.939794  1.090581\n",
        "2      0.611021 -0.233407 -1.556465  1.631365  0.172056\n",
        "3      0.154550 -0.251166 -0.125786 -1.212761  0.137865"
       ]
      }
     ],
     "prompt_number": 56
    },
    {
     "cell_type": "code",
     "collapsed": false,
     "input": [
      "hier_df.groupby(level='cty', axis=1).count()"
     ],
     "language": "python",
     "metadata": {},
     "outputs": [
      {
       "html": [
        "<div style=\"max-height:1000px;max-width:1500px;overflow:auto;\">\n",
        "<table border=\"1\" class=\"dataframe\">\n",
        "  <thead>\n",
        "    <tr style=\"text-align: right;\">\n",
        "      <th>cty</th>\n",
        "      <th>JP</th>\n",
        "      <th>US</th>\n",
        "    </tr>\n",
        "  </thead>\n",
        "  <tbody>\n",
        "    <tr>\n",
        "      <th>0</th>\n",
        "      <td> 2</td>\n",
        "      <td> 3</td>\n",
        "    </tr>\n",
        "    <tr>\n",
        "      <th>1</th>\n",
        "      <td> 2</td>\n",
        "      <td> 3</td>\n",
        "    </tr>\n",
        "    <tr>\n",
        "      <th>2</th>\n",
        "      <td> 2</td>\n",
        "      <td> 3</td>\n",
        "    </tr>\n",
        "    <tr>\n",
        "      <th>3</th>\n",
        "      <td> 2</td>\n",
        "      <td> 3</td>\n",
        "    </tr>\n",
        "  </tbody>\n",
        "</table>\n",
        "</div>"
       ],
       "metadata": {},
       "output_type": "pyout",
       "prompt_number": 57,
       "text": [
        "cty  JP  US\n",
        "0     2   3\n",
        "1     2   3\n",
        "2     2   3\n",
        "3     2   3"
       ]
      }
     ],
     "prompt_number": 57
    },
    {
     "cell_type": "code",
     "collapsed": false,
     "input": [
      "midx= pd.MultiIndex(levels=[['one', 'two'], ['x','y']], \n",
      "                    labels=[[1,1,0,0,1,1,1,0,0,0],[1,0,1,0,1,0,1,0,1,0]],names=['key1','key2'])\n",
      "mydata = DataFrame({'a' : np.random.randn(10),\n",
      "                    'b' : np.random.randn(10),\n",
      "                    'c' : np.random.randn(10)},\n",
      "                   index = midx)\n",
      "\n"
     ],
     "language": "python",
     "metadata": {},
     "outputs": [],
     "prompt_number": 81
    },
    {
     "cell_type": "code",
     "collapsed": false,
     "input": [
      "mydata"
     ],
     "language": "python",
     "metadata": {},
     "outputs": [
      {
       "html": [
        "<div style=\"max-height:1000px;max-width:1500px;overflow:auto;\">\n",
        "<table border=\"1\" class=\"dataframe\">\n",
        "  <thead>\n",
        "    <tr style=\"text-align: right;\">\n",
        "      <th></th>\n",
        "      <th></th>\n",
        "      <th>a</th>\n",
        "      <th>b</th>\n",
        "      <th>c</th>\n",
        "    </tr>\n",
        "    <tr>\n",
        "      <th>key1</th>\n",
        "      <th>key2</th>\n",
        "      <th></th>\n",
        "      <th></th>\n",
        "      <th></th>\n",
        "    </tr>\n",
        "  </thead>\n",
        "  <tbody>\n",
        "    <tr>\n",
        "      <th rowspan=\"2\" valign=\"top\">two</th>\n",
        "      <th>y</th>\n",
        "      <td>-0.724789</td>\n",
        "      <td> 0.892605</td>\n",
        "      <td> 0.326040</td>\n",
        "    </tr>\n",
        "    <tr>\n",
        "      <th>x</th>\n",
        "      <td>-0.323188</td>\n",
        "      <td>-1.219192</td>\n",
        "      <td>-0.212080</td>\n",
        "    </tr>\n",
        "    <tr>\n",
        "      <th rowspan=\"2\" valign=\"top\">one</th>\n",
        "      <th>y</th>\n",
        "      <td>-0.203451</td>\n",
        "      <td>-1.126776</td>\n",
        "      <td>-0.377586</td>\n",
        "    </tr>\n",
        "    <tr>\n",
        "      <th>x</th>\n",
        "      <td> 2.358236</td>\n",
        "      <td>-2.421885</td>\n",
        "      <td>-0.987658</td>\n",
        "    </tr>\n",
        "    <tr>\n",
        "      <th rowspan=\"3\" valign=\"top\">two</th>\n",
        "      <th>y</th>\n",
        "      <td>-0.641020</td>\n",
        "      <td> 1.695250</td>\n",
        "      <td>-0.882706</td>\n",
        "    </tr>\n",
        "    <tr>\n",
        "      <th>x</th>\n",
        "      <td>-0.226182</td>\n",
        "      <td> 0.766836</td>\n",
        "      <td>-0.144808</td>\n",
        "    </tr>\n",
        "    <tr>\n",
        "      <th>y</th>\n",
        "      <td> 1.056110</td>\n",
        "      <td> 0.251280</td>\n",
        "      <td> 0.471717</td>\n",
        "    </tr>\n",
        "    <tr>\n",
        "      <th rowspan=\"3\" valign=\"top\">one</th>\n",
        "      <th>x</th>\n",
        "      <td> 0.124773</td>\n",
        "      <td> 0.016799</td>\n",
        "      <td>-1.602764</td>\n",
        "    </tr>\n",
        "    <tr>\n",
        "      <th>y</th>\n",
        "      <td>-1.749994</td>\n",
        "      <td>-0.760578</td>\n",
        "      <td>-0.937115</td>\n",
        "    </tr>\n",
        "    <tr>\n",
        "      <th>x</th>\n",
        "      <td> 0.051089</td>\n",
        "      <td>-1.288415</td>\n",
        "      <td>-0.091789</td>\n",
        "    </tr>\n",
        "  </tbody>\n",
        "</table>\n",
        "</div>"
       ],
       "metadata": {},
       "output_type": "pyout",
       "prompt_number": 86,
       "text": [
        "                  a         b         c\n",
        "key1 key2                              \n",
        "two  y    -0.724789  0.892605  0.326040\n",
        "     x    -0.323188 -1.219192 -0.212080\n",
        "one  y    -0.203451 -1.126776 -0.377586\n",
        "     x     2.358236 -2.421885 -0.987658\n",
        "two  y    -0.641020  1.695250 -0.882706\n",
        "     x    -0.226182  0.766836 -0.144808\n",
        "     y     1.056110  0.251280  0.471717\n",
        "one  x     0.124773  0.016799 -1.602764\n",
        "     y    -1.749994 -0.760578 -0.937115\n",
        "     x     0.051089 -1.288415 -0.091789"
       ]
      }
     ],
     "prompt_number": 86
    },
    {
     "cell_type": "code",
     "collapsed": false,
     "input": [
      "mydata.groupby(level=['key1','key2']).count()"
     ],
     "language": "python",
     "metadata": {},
     "outputs": [
      {
       "html": [
        "<div style=\"max-height:1000px;max-width:1500px;overflow:auto;\">\n",
        "<table border=\"1\" class=\"dataframe\">\n",
        "  <thead>\n",
        "    <tr style=\"text-align: right;\">\n",
        "      <th></th>\n",
        "      <th></th>\n",
        "      <th>a</th>\n",
        "      <th>b</th>\n",
        "      <th>c</th>\n",
        "    </tr>\n",
        "    <tr>\n",
        "      <th>key1</th>\n",
        "      <th>key2</th>\n",
        "      <th></th>\n",
        "      <th></th>\n",
        "      <th></th>\n",
        "    </tr>\n",
        "  </thead>\n",
        "  <tbody>\n",
        "    <tr>\n",
        "      <th rowspan=\"2\" valign=\"top\">one</th>\n",
        "      <th>x</th>\n",
        "      <td> 3</td>\n",
        "      <td> 3</td>\n",
        "      <td> 3</td>\n",
        "    </tr>\n",
        "    <tr>\n",
        "      <th>y</th>\n",
        "      <td> 2</td>\n",
        "      <td> 2</td>\n",
        "      <td> 2</td>\n",
        "    </tr>\n",
        "    <tr>\n",
        "      <th rowspan=\"2\" valign=\"top\">two</th>\n",
        "      <th>x</th>\n",
        "      <td> 2</td>\n",
        "      <td> 2</td>\n",
        "      <td> 2</td>\n",
        "    </tr>\n",
        "    <tr>\n",
        "      <th>y</th>\n",
        "      <td> 3</td>\n",
        "      <td> 3</td>\n",
        "      <td> 3</td>\n",
        "    </tr>\n",
        "  </tbody>\n",
        "</table>\n",
        "</div>"
       ],
       "metadata": {},
       "output_type": "pyout",
       "prompt_number": 91,
       "text": [
        "           a  b  c\n",
        "key1 key2         \n",
        "one  x     3  3  3\n",
        "     y     2  2  2\n",
        "two  x     2  2  2\n",
        "     y     3  3  3"
       ]
      }
     ],
     "prompt_number": 91
    },
    {
     "cell_type": "code",
     "collapsed": false,
     "input": [
      "mydata.groupby(level=['key1','key2']).size()"
     ],
     "language": "python",
     "metadata": {},
     "outputs": [
      {
       "metadata": {},
       "output_type": "pyout",
       "prompt_number": 92,
       "text": [
        "key1  key2\n",
        "one   x       3\n",
        "      y       2\n",
        "two   x       2\n",
        "      y       3\n",
        "dtype: int64"
       ]
      }
     ],
     "prompt_number": 92
    },
    {
     "cell_type": "code",
     "collapsed": false,
     "input": [
      "#page 259 aggregation"
     ],
     "language": "python",
     "metadata": {},
     "outputs": [],
     "prompt_number": 93
    }
   ],
   "metadata": {}
  }
 ]
}