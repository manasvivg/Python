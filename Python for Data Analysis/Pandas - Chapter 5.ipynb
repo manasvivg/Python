{
 "metadata": {
  "name": "",
  "signature": "sha256:a4ca2ca319bd59de0fbd74126cb299bf84a673f6aef6a19e78e962a90e48f7e1"
 },
 "nbformat": 3,
 "nbformat_minor": 0,
 "worksheets": [
  {
   "cells": [
    {
     "cell_type": "code",
     "collapsed": false,
     "input": [
      "#Load Libraries\n",
      "from pandas import Series, DataFrame\n",
      "import pandas as pd\n",
      "import numpy as np\n",
      "import matplotlib.pyplot as plt\n",
      "% matplotlib inline"
     ],
     "language": "python",
     "metadata": {},
     "outputs": [],
     "prompt_number": 266
    },
    {
     "cell_type": "heading",
     "level": 1,
     "metadata": {},
     "source": [
      "Series"
     ]
    },
    {
     "cell_type": "code",
     "collapsed": false,
     "input": [
      "obj = Series([4,7,-5,3], index = ['a','b','c','d'])"
     ],
     "language": "python",
     "metadata": {},
     "outputs": [],
     "prompt_number": 21
    },
    {
     "cell_type": "code",
     "collapsed": false,
     "input": [
      "obj"
     ],
     "language": "python",
     "metadata": {},
     "outputs": [
      {
       "metadata": {},
       "output_type": "pyout",
       "prompt_number": 22,
       "text": [
        "a    4\n",
        "b    7\n",
        "c   -5\n",
        "d    3\n",
        "dtype: int64"
       ]
      }
     ],
     "prompt_number": 22
    },
    {
     "cell_type": "code",
     "collapsed": false,
     "input": [
      "obj.values"
     ],
     "language": "python",
     "metadata": {},
     "outputs": [
      {
       "metadata": {},
       "output_type": "pyout",
       "prompt_number": 23,
       "text": [
        "array([ 4,  7, -5,  3])"
       ]
      }
     ],
     "prompt_number": 23
    },
    {
     "cell_type": "code",
     "collapsed": false,
     "input": [
      "sdata = {'Ohio' : 35000,'Texas' : 71000, 'Oregon': 16000, 'Utah' : 5000}"
     ],
     "language": "python",
     "metadata": {},
     "outputs": [],
     "prompt_number": 29
    },
    {
     "cell_type": "code",
     "collapsed": false,
     "input": [
      "obj3 = Series(sdata)\n",
      "obj4 = Series(sdata,index=['California','Ohio','Oregon','Texas'])"
     ],
     "language": "python",
     "metadata": {},
     "outputs": [],
     "prompt_number": 34
    },
    {
     "cell_type": "code",
     "collapsed": false,
     "input": [
      "obj3 + obj4"
     ],
     "language": "python",
     "metadata": {},
     "outputs": [
      {
       "metadata": {},
       "output_type": "pyout",
       "prompt_number": 36,
       "text": [
        "California       NaN\n",
        "Ohio           70000\n",
        "Oregon         32000\n",
        "Texas         142000\n",
        "Utah             NaN\n",
        "dtype: float64"
       ]
      }
     ],
     "prompt_number": 36
    },
    {
     "cell_type": "code",
     "collapsed": false,
     "input": [
      "obj3\n"
     ],
     "language": "python",
     "metadata": {},
     "outputs": [
      {
       "metadata": {},
       "output_type": "pyout",
       "prompt_number": 37,
       "text": [
        "Ohio      35000\n",
        "Oregon    16000\n",
        "Texas     71000\n",
        "Utah       5000\n",
        "dtype: int64"
       ]
      }
     ],
     "prompt_number": 37
    },
    {
     "cell_type": "code",
     "collapsed": false,
     "input": [
      "obj3.name = 'Population'\n",
      "obj3.index.name = 'state'"
     ],
     "language": "python",
     "metadata": {},
     "outputs": [],
     "prompt_number": 39
    },
    {
     "cell_type": "code",
     "collapsed": false,
     "input": [
      "obj3.index = [\"New York\",'Oregon','Texas','Utah']"
     ],
     "language": "python",
     "metadata": {},
     "outputs": [],
     "prompt_number": 41
    },
    {
     "cell_type": "code",
     "collapsed": false,
     "input": [
      "obj3\n"
     ],
     "language": "python",
     "metadata": {},
     "outputs": [
      {
       "metadata": {},
       "output_type": "pyout",
       "prompt_number": 42,
       "text": [
        "New York    35000\n",
        "Oregon      16000\n",
        "Texas       71000\n",
        "Utah         5000\n",
        "Name: Population, dtype: int64"
       ]
      }
     ],
     "prompt_number": 42
    },
    {
     "cell_type": "code",
     "collapsed": false,
     "input": [
      "obj3+obj4\n"
     ],
     "language": "python",
     "metadata": {},
     "outputs": [
      {
       "metadata": {},
       "output_type": "pyout",
       "prompt_number": 43,
       "text": [
        "California       NaN\n",
        "New York         NaN\n",
        "Ohio             NaN\n",
        "Oregon         32000\n",
        "Texas         142000\n",
        "Utah             NaN\n",
        "dtype: float64"
       ]
      }
     ],
     "prompt_number": 43
    },
    {
     "cell_type": "heading",
     "level": 1,
     "metadata": {},
     "source": [
      "DataFrames"
     ]
    },
    {
     "cell_type": "code",
     "collapsed": false,
     "input": [
      "data = {'state': ['Ohio','Ohio','Ohio','Nevada','Nevada'],\n",
      "        'year' : [2000,2001,2002,2001,2002],\n",
      "        'pop' : [1.5,1.7,3.6,2.4,2.9]}\n",
      "frame = DataFrame(data,columns=['year','state','pop','debt'],index=['one','two','three','four','five'])"
     ],
     "language": "python",
     "metadata": {},
     "outputs": [],
     "prompt_number": 52
    },
    {
     "cell_type": "code",
     "collapsed": false,
     "input": [
      "print frame"
     ],
     "language": "python",
     "metadata": {},
     "outputs": [
      {
       "output_type": "stream",
       "stream": "stdout",
       "text": [
        "       year   state  pop debt\n",
        "one    2000    Ohio  1.5  NaN\n",
        "two    2001    Ohio  1.7  NaN\n",
        "three  2002    Ohio  3.6  NaN\n",
        "four   2001  Nevada  2.4  NaN\n",
        "five   2002  Nevada  2.9  NaN\n",
        "\n",
        "[5 rows x 4 columns]\n"
       ]
      }
     ],
     "prompt_number": 56
    },
    {
     "cell_type": "code",
     "collapsed": false,
     "input": [
      "frame.ix['three']"
     ],
     "language": "python",
     "metadata": {},
     "outputs": [
      {
       "metadata": {},
       "output_type": "pyout",
       "prompt_number": 57,
       "text": [
        "year     2002\n",
        "state    Ohio\n",
        "pop       3.6\n",
        "debt      NaN\n",
        "Name: three, dtype: object"
       ]
      }
     ],
     "prompt_number": 57
    },
    {
     "cell_type": "code",
     "collapsed": false,
     "input": [
      "val = Series([-1.2,-1.5,-1.7],index=['two','four','five'])\n",
      "frame['debt'] = val"
     ],
     "language": "python",
     "metadata": {},
     "outputs": [],
     "prompt_number": 63
    },
    {
     "cell_type": "code",
     "collapsed": false,
     "input": [
      "frame['eastern'] = (frame.state == 'Ohio')"
     ],
     "language": "python",
     "metadata": {},
     "outputs": [],
     "prompt_number": 66
    },
    {
     "cell_type": "code",
     "collapsed": false,
     "input": [
      "frame.columns"
     ],
     "language": "python",
     "metadata": {},
     "outputs": [
      {
       "metadata": {},
       "output_type": "pyout",
       "prompt_number": 69,
       "text": [
        "Index([u'year', u'state', u'pop', u'debt', u'eastern'], dtype='object')"
       ]
      }
     ],
     "prompt_number": 69
    },
    {
     "cell_type": "code",
     "collapsed": false,
     "input": [
      "del frame['eastern']"
     ],
     "language": "python",
     "metadata": {},
     "outputs": [],
     "prompt_number": 70
    },
    {
     "cell_type": "code",
     "collapsed": false,
     "input": [
      "frame"
     ],
     "language": "python",
     "metadata": {},
     "outputs": [
      {
       "html": [
        "<div style=\"max-height:1000px;max-width:1500px;overflow:auto;\">\n",
        "<table border=\"1\" class=\"dataframe\">\n",
        "  <thead>\n",
        "    <tr style=\"text-align: right;\">\n",
        "      <th></th>\n",
        "      <th>year</th>\n",
        "      <th>state</th>\n",
        "      <th>pop</th>\n",
        "      <th>debt</th>\n",
        "    </tr>\n",
        "  </thead>\n",
        "  <tbody>\n",
        "    <tr>\n",
        "      <th>one</th>\n",
        "      <td> 2000</td>\n",
        "      <td>   Ohio</td>\n",
        "      <td> 1.5</td>\n",
        "      <td> NaN</td>\n",
        "    </tr>\n",
        "    <tr>\n",
        "      <th>two</th>\n",
        "      <td> 2001</td>\n",
        "      <td>   Ohio</td>\n",
        "      <td> 1.7</td>\n",
        "      <td>-1.2</td>\n",
        "    </tr>\n",
        "    <tr>\n",
        "      <th>three</th>\n",
        "      <td> 2002</td>\n",
        "      <td>   Ohio</td>\n",
        "      <td> 3.6</td>\n",
        "      <td> NaN</td>\n",
        "    </tr>\n",
        "    <tr>\n",
        "      <th>four</th>\n",
        "      <td> 2001</td>\n",
        "      <td> Nevada</td>\n",
        "      <td> 2.4</td>\n",
        "      <td>-1.5</td>\n",
        "    </tr>\n",
        "    <tr>\n",
        "      <th>five</th>\n",
        "      <td> 2002</td>\n",
        "      <td> Nevada</td>\n",
        "      <td> 2.9</td>\n",
        "      <td>-1.7</td>\n",
        "    </tr>\n",
        "  </tbody>\n",
        "</table>\n",
        "<p>5 rows \u00d7 4 columns</p>\n",
        "</div>"
       ],
       "metadata": {},
       "output_type": "pyout",
       "prompt_number": 72,
       "text": [
        "       year   state  pop  debt\n",
        "one    2000    Ohio  1.5   NaN\n",
        "two    2001    Ohio  1.7  -1.2\n",
        "three  2002    Ohio  3.6   NaN\n",
        "four   2001  Nevada  2.4  -1.5\n",
        "five   2002  Nevada  2.9  -1.7\n",
        "\n",
        "[5 rows x 4 columns]"
       ]
      }
     ],
     "prompt_number": 72
    },
    {
     "cell_type": "code",
     "collapsed": false,
     "input": [
      "pop = {'Nevada' : {2001:2.4, 2002:2.9},'Ohio' : {2000:1.5,2001:1.7,2002:3.6}}"
     ],
     "language": "python",
     "metadata": {},
     "outputs": [],
     "prompt_number": 73
    },
    {
     "cell_type": "code",
     "collapsed": false,
     "input": [
      "frame3= DataFrame(pop)"
     ],
     "language": "python",
     "metadata": {},
     "outputs": [],
     "prompt_number": 74
    },
    {
     "cell_type": "code",
     "collapsed": false,
     "input": [
      "frame3"
     ],
     "language": "python",
     "metadata": {},
     "outputs": [
      {
       "html": [
        "<div style=\"max-height:1000px;max-width:1500px;overflow:auto;\">\n",
        "<table border=\"1\" class=\"dataframe\">\n",
        "  <thead>\n",
        "    <tr style=\"text-align: right;\">\n",
        "      <th></th>\n",
        "      <th>Nevada</th>\n",
        "      <th>Ohio</th>\n",
        "    </tr>\n",
        "  </thead>\n",
        "  <tbody>\n",
        "    <tr>\n",
        "      <th>2000</th>\n",
        "      <td> NaN</td>\n",
        "      <td> 1.5</td>\n",
        "    </tr>\n",
        "    <tr>\n",
        "      <th>2001</th>\n",
        "      <td> 2.4</td>\n",
        "      <td> 1.7</td>\n",
        "    </tr>\n",
        "    <tr>\n",
        "      <th>2002</th>\n",
        "      <td> 2.9</td>\n",
        "      <td> 3.6</td>\n",
        "    </tr>\n",
        "  </tbody>\n",
        "</table>\n",
        "<p>3 rows \u00d7 2 columns</p>\n",
        "</div>"
       ],
       "metadata": {},
       "output_type": "pyout",
       "prompt_number": 75,
       "text": [
        "      Nevada  Ohio\n",
        "2000     NaN   1.5\n",
        "2001     2.4   1.7\n",
        "2002     2.9   3.6\n",
        "\n",
        "[3 rows x 2 columns]"
       ]
      }
     ],
     "prompt_number": 75
    },
    {
     "cell_type": "code",
     "collapsed": false,
     "input": [
      "frame3.T"
     ],
     "language": "python",
     "metadata": {},
     "outputs": [
      {
       "html": [
        "<div style=\"max-height:1000px;max-width:1500px;overflow:auto;\">\n",
        "<table border=\"1\" class=\"dataframe\">\n",
        "  <thead>\n",
        "    <tr style=\"text-align: right;\">\n",
        "      <th></th>\n",
        "      <th>2000</th>\n",
        "      <th>2001</th>\n",
        "      <th>2002</th>\n",
        "    </tr>\n",
        "  </thead>\n",
        "  <tbody>\n",
        "    <tr>\n",
        "      <th>Nevada</th>\n",
        "      <td> NaN</td>\n",
        "      <td> 2.4</td>\n",
        "      <td> 2.9</td>\n",
        "    </tr>\n",
        "    <tr>\n",
        "      <th>Ohio</th>\n",
        "      <td> 1.5</td>\n",
        "      <td> 1.7</td>\n",
        "      <td> 3.6</td>\n",
        "    </tr>\n",
        "  </tbody>\n",
        "</table>\n",
        "<p>2 rows \u00d7 3 columns</p>\n",
        "</div>"
       ],
       "metadata": {},
       "output_type": "pyout",
       "prompt_number": 76,
       "text": [
        "        2000  2001  2002\n",
        "Nevada   NaN   2.4   2.9\n",
        "Ohio     1.5   1.7   3.6\n",
        "\n",
        "[2 rows x 3 columns]"
       ]
      }
     ],
     "prompt_number": 76
    },
    {
     "cell_type": "code",
     "collapsed": false,
     "input": [
      "frame"
     ],
     "language": "python",
     "metadata": {},
     "outputs": [
      {
       "html": [
        "<div style=\"max-height:1000px;max-width:1500px;overflow:auto;\">\n",
        "<table border=\"1\" class=\"dataframe\">\n",
        "  <thead>\n",
        "    <tr style=\"text-align: right;\">\n",
        "      <th></th>\n",
        "      <th>year</th>\n",
        "      <th>state</th>\n",
        "      <th>pop</th>\n",
        "      <th>debt</th>\n",
        "    </tr>\n",
        "  </thead>\n",
        "  <tbody>\n",
        "    <tr>\n",
        "      <th>one</th>\n",
        "      <td> 2000</td>\n",
        "      <td>   Ohio</td>\n",
        "      <td> 1.5</td>\n",
        "      <td> NaN</td>\n",
        "    </tr>\n",
        "    <tr>\n",
        "      <th>two</th>\n",
        "      <td> 2001</td>\n",
        "      <td>   Ohio</td>\n",
        "      <td> 1.7</td>\n",
        "      <td>-1.2</td>\n",
        "    </tr>\n",
        "    <tr>\n",
        "      <th>three</th>\n",
        "      <td> 2002</td>\n",
        "      <td>   Ohio</td>\n",
        "      <td> 3.6</td>\n",
        "      <td> NaN</td>\n",
        "    </tr>\n",
        "    <tr>\n",
        "      <th>four</th>\n",
        "      <td> 2001</td>\n",
        "      <td> Nevada</td>\n",
        "      <td> 2.4</td>\n",
        "      <td>-1.5</td>\n",
        "    </tr>\n",
        "    <tr>\n",
        "      <th>five</th>\n",
        "      <td> 2002</td>\n",
        "      <td> Nevada</td>\n",
        "      <td> 2.9</td>\n",
        "      <td>-1.7</td>\n",
        "    </tr>\n",
        "  </tbody>\n",
        "</table>\n",
        "<p>5 rows \u00d7 4 columns</p>\n",
        "</div>"
       ],
       "metadata": {},
       "output_type": "pyout",
       "prompt_number": 77,
       "text": [
        "       year   state  pop  debt\n",
        "one    2000    Ohio  1.5   NaN\n",
        "two    2001    Ohio  1.7  -1.2\n",
        "three  2002    Ohio  3.6   NaN\n",
        "four   2001  Nevada  2.4  -1.5\n",
        "five   2002  Nevada  2.9  -1.7\n",
        "\n",
        "[5 rows x 4 columns]"
       ]
      }
     ],
     "prompt_number": 77
    },
    {
     "cell_type": "code",
     "collapsed": false,
     "input": [
      "frame3.columns"
     ],
     "language": "python",
     "metadata": {},
     "outputs": [
      {
       "metadata": {},
       "output_type": "pyout",
       "prompt_number": 82,
       "text": [
        "Index([u'Nevada', u'Ohio'], dtype='object')"
       ]
      }
     ],
     "prompt_number": 82
    },
    {
     "cell_type": "code",
     "collapsed": false,
     "input": [
      "frame.values"
     ],
     "language": "python",
     "metadata": {},
     "outputs": [
      {
       "metadata": {},
       "output_type": "pyout",
       "prompt_number": 85,
       "text": [
        "array([[2000, 'Ohio', 1.5, nan],\n",
        "       [2001, 'Ohio', 1.7, -1.2],\n",
        "       [2002, 'Ohio', 3.6, nan],\n",
        "       [2001, 'Nevada', 2.4, -1.5],\n",
        "       [2002, 'Nevada', 2.9, -1.7]], dtype=object)"
       ]
      }
     ],
     "prompt_number": 85
    },
    {
     "cell_type": "code",
     "collapsed": false,
     "input": [
      "is_unique(frame.index)"
     ],
     "language": "python",
     "metadata": {},
     "outputs": [
      {
       "ename": "NameError",
       "evalue": "name 'is_unique' is not defined",
       "output_type": "pyerr",
       "traceback": [
        "\u001b[0;31m---------------------------------------------------------------------------\u001b[0m\n\u001b[0;31mNameError\u001b[0m                                 Traceback (most recent call last)",
        "\u001b[0;32m<ipython-input-88-59dbaf58d1d4>\u001b[0m in \u001b[0;36m<module>\u001b[0;34m()\u001b[0m\n\u001b[0;32m----> 1\u001b[0;31m \u001b[0mis_unique\u001b[0m\u001b[0;34m(\u001b[0m\u001b[0mframe\u001b[0m\u001b[0;34m.\u001b[0m\u001b[0mindex\u001b[0m\u001b[0;34m)\u001b[0m\u001b[0;34m\u001b[0m\u001b[0m\n\u001b[0m",
        "\u001b[0;31mNameError\u001b[0m: name 'is_unique' is not defined"
       ]
      }
     ],
     "prompt_number": 88
    },
    {
     "cell_type": "code",
     "collapsed": false,
     "input": [
      "(frame.index).is_monotonic"
     ],
     "language": "python",
     "metadata": {},
     "outputs": [
      {
       "metadata": {},
       "output_type": "pyout",
       "prompt_number": 94,
       "text": [
        "False"
       ]
      }
     ],
     "prompt_number": 94
    },
    {
     "cell_type": "code",
     "collapsed": false,
     "input": [
      "frame3.index.unique"
     ],
     "language": "python",
     "metadata": {},
     "outputs": [
      {
       "metadata": {},
       "output_type": "pyout",
       "prompt_number": 101,
       "text": [
        "<bound method Int64Index.unique of Int64Index([2000, 2001, 2002], dtype='int64')>"
       ]
      }
     ],
     "prompt_number": 101
    },
    {
     "cell_type": "code",
     "collapsed": false,
     "input": [
      "frame[:2]"
     ],
     "language": "python",
     "metadata": {},
     "outputs": [
      {
       "html": [
        "<div style=\"max-height:1000px;max-width:1500px;overflow:auto;\">\n",
        "<table border=\"1\" class=\"dataframe\">\n",
        "  <thead>\n",
        "    <tr style=\"text-align: right;\">\n",
        "      <th></th>\n",
        "      <th>year</th>\n",
        "      <th>state</th>\n",
        "      <th>pop</th>\n",
        "      <th>debt</th>\n",
        "    </tr>\n",
        "  </thead>\n",
        "  <tbody>\n",
        "    <tr>\n",
        "      <th>one</th>\n",
        "      <td> 2000</td>\n",
        "      <td> Ohio</td>\n",
        "      <td> 1.5</td>\n",
        "      <td> NaN</td>\n",
        "    </tr>\n",
        "    <tr>\n",
        "      <th>two</th>\n",
        "      <td> 2001</td>\n",
        "      <td> Ohio</td>\n",
        "      <td> 1.7</td>\n",
        "      <td>-1.2</td>\n",
        "    </tr>\n",
        "  </tbody>\n",
        "</table>\n",
        "<p>2 rows \u00d7 4 columns</p>\n",
        "</div>"
       ],
       "metadata": {},
       "output_type": "pyout",
       "prompt_number": 114,
       "text": [
        "     year state  pop  debt\n",
        "one  2000  Ohio  1.5   NaN\n",
        "two  2001  Ohio  1.7  -1.2\n",
        "\n",
        "[2 rows x 4 columns]"
       ]
      }
     ],
     "prompt_number": 114
    },
    {
     "cell_type": "code",
     "collapsed": false,
     "input": [
      "frame"
     ],
     "language": "python",
     "metadata": {},
     "outputs": [
      {
       "html": [
        "<div style=\"max-height:1000px;max-width:1500px;overflow:auto;\">\n",
        "<table border=\"1\" class=\"dataframe\">\n",
        "  <thead>\n",
        "    <tr style=\"text-align: right;\">\n",
        "      <th></th>\n",
        "      <th>year</th>\n",
        "      <th>state</th>\n",
        "      <th>pop</th>\n",
        "      <th>debt</th>\n",
        "    </tr>\n",
        "  </thead>\n",
        "  <tbody>\n",
        "    <tr>\n",
        "      <th>one</th>\n",
        "      <td> 2000</td>\n",
        "      <td>   Ohio</td>\n",
        "      <td> 1.5</td>\n",
        "      <td> NaN</td>\n",
        "    </tr>\n",
        "    <tr>\n",
        "      <th>two</th>\n",
        "      <td> 2001</td>\n",
        "      <td>   Ohio</td>\n",
        "      <td> 1.7</td>\n",
        "      <td>-1.2</td>\n",
        "    </tr>\n",
        "    <tr>\n",
        "      <th>three</th>\n",
        "      <td> 2002</td>\n",
        "      <td>   Ohio</td>\n",
        "      <td> 3.6</td>\n",
        "      <td> NaN</td>\n",
        "    </tr>\n",
        "    <tr>\n",
        "      <th>four</th>\n",
        "      <td> 2001</td>\n",
        "      <td> Nevada</td>\n",
        "      <td> 2.4</td>\n",
        "      <td>-1.5</td>\n",
        "    </tr>\n",
        "    <tr>\n",
        "      <th>five</th>\n",
        "      <td> 2002</td>\n",
        "      <td> Nevada</td>\n",
        "      <td> 2.9</td>\n",
        "      <td>-1.7</td>\n",
        "    </tr>\n",
        "  </tbody>\n",
        "</table>\n",
        "<p>5 rows \u00d7 4 columns</p>\n",
        "</div>"
       ],
       "metadata": {},
       "output_type": "pyout",
       "prompt_number": 115,
       "text": [
        "       year   state  pop  debt\n",
        "one    2000    Ohio  1.5   NaN\n",
        "two    2001    Ohio  1.7  -1.2\n",
        "three  2002    Ohio  3.6   NaN\n",
        "four   2001  Nevada  2.4  -1.5\n",
        "five   2002  Nevada  2.9  -1.7\n",
        "\n",
        "[5 rows x 4 columns]"
       ]
      }
     ],
     "prompt_number": 115
    },
    {
     "cell_type": "code",
     "collapsed": false,
     "input": [
      "frame[frame['state']=='Ohio']"
     ],
     "language": "python",
     "metadata": {},
     "outputs": [
      {
       "html": [
        "<div style=\"max-height:1000px;max-width:1500px;overflow:auto;\">\n",
        "<table border=\"1\" class=\"dataframe\">\n",
        "  <thead>\n",
        "    <tr style=\"text-align: right;\">\n",
        "      <th></th>\n",
        "      <th>year</th>\n",
        "      <th>state</th>\n",
        "      <th>pop</th>\n",
        "      <th>debt</th>\n",
        "    </tr>\n",
        "  </thead>\n",
        "  <tbody>\n",
        "    <tr>\n",
        "      <th>one</th>\n",
        "      <td> 2000</td>\n",
        "      <td> Ohio</td>\n",
        "      <td> 1.5</td>\n",
        "      <td> NaN</td>\n",
        "    </tr>\n",
        "    <tr>\n",
        "      <th>two</th>\n",
        "      <td> 2001</td>\n",
        "      <td> Ohio</td>\n",
        "      <td> 1.7</td>\n",
        "      <td>-1.2</td>\n",
        "    </tr>\n",
        "    <tr>\n",
        "      <th>three</th>\n",
        "      <td> 2002</td>\n",
        "      <td> Ohio</td>\n",
        "      <td> 3.6</td>\n",
        "      <td> NaN</td>\n",
        "    </tr>\n",
        "  </tbody>\n",
        "</table>\n",
        "<p>3 rows \u00d7 4 columns</p>\n",
        "</div>"
       ],
       "metadata": {},
       "output_type": "pyout",
       "prompt_number": 116,
       "text": [
        "       year state  pop  debt\n",
        "one    2000  Ohio  1.5   NaN\n",
        "two    2001  Ohio  1.7  -1.2\n",
        "three  2002  Ohio  3.6   NaN\n",
        "\n",
        "[3 rows x 4 columns]"
       ]
      }
     ],
     "prompt_number": 116
    },
    {
     "cell_type": "code",
     "collapsed": false,
     "input": [
      "frame.ix[['one','three'],['state','pop']]"
     ],
     "language": "python",
     "metadata": {},
     "outputs": [
      {
       "html": [
        "<div style=\"max-height:1000px;max-width:1500px;overflow:auto;\">\n",
        "<table border=\"1\" class=\"dataframe\">\n",
        "  <thead>\n",
        "    <tr style=\"text-align: right;\">\n",
        "      <th></th>\n",
        "      <th>state</th>\n",
        "      <th>pop</th>\n",
        "    </tr>\n",
        "  </thead>\n",
        "  <tbody>\n",
        "    <tr>\n",
        "      <th>one</th>\n",
        "      <td> Ohio</td>\n",
        "      <td> 1.5</td>\n",
        "    </tr>\n",
        "    <tr>\n",
        "      <th>three</th>\n",
        "      <td> Ohio</td>\n",
        "      <td> 3.6</td>\n",
        "    </tr>\n",
        "  </tbody>\n",
        "</table>\n",
        "<p>2 rows \u00d7 2 columns</p>\n",
        "</div>"
       ],
       "metadata": {},
       "output_type": "pyout",
       "prompt_number": 118,
       "text": [
        "      state  pop\n",
        "one    Ohio  1.5\n",
        "three  Ohio  3.6\n",
        "\n",
        "[2 rows x 2 columns]"
       ]
      }
     ],
     "prompt_number": 118
    },
    {
     "cell_type": "code",
     "collapsed": false,
     "input": [
      "s1 = Series([7.3,-2.5,3.4,1.5],index=['a','c','d','e'])\n",
      "s2 = Series([-2.1,3.6,-1.5,4,3.1],index=['a','c','e','f','g'])\n",
      "print s1\n",
      "print s2"
     ],
     "language": "python",
     "metadata": {},
     "outputs": [
      {
       "output_type": "stream",
       "stream": "stdout",
       "text": [
        "a    7.3\n",
        "c   -2.5\n",
        "d    3.4\n",
        "e    1.5\n",
        "dtype: float64\n",
        "a   -2.1\n",
        "c    3.6\n",
        "e   -1.5\n",
        "f    4.0\n",
        "g    3.1\n",
        "dtype: float64\n"
       ]
      }
     ],
     "prompt_number": 5
    },
    {
     "cell_type": "code",
     "collapsed": false,
     "input": [
      "s1+s2"
     ],
     "language": "python",
     "metadata": {},
     "outputs": [
      {
       "metadata": {},
       "output_type": "pyout",
       "prompt_number": 6,
       "text": [
        "a    5.2\n",
        "c    1.1\n",
        "d    NaN\n",
        "e    0.0\n",
        "f    NaN\n",
        "g    NaN\n",
        "dtype: float64"
       ]
      }
     ],
     "prompt_number": 6
    },
    {
     "cell_type": "code",
     "collapsed": false,
     "input": [
      "df1 = DataFrame(np.arange(9.).reshape((3,3)),columns=list('bcd'),index=['Ohio','Texas','Colorado'])\n",
      "df2 = DataFrame(np.arange(12.).reshape((4,3)),columns=list('bde'),index=['Utah','Ohio','Texas','Oregon'])\n",
      "print df1\n",
      "print df2"
     ],
     "language": "python",
     "metadata": {},
     "outputs": [
      {
       "output_type": "stream",
       "stream": "stdout",
       "text": [
        "          b  c  d\n",
        "Ohio      0  1  2\n",
        "Texas     3  4  5\n",
        "Colorado  6  7  8\n",
        "\n",
        "[3 rows x 3 columns]\n",
        "        b   d   e\n",
        "Utah    0   1   2\n",
        "Ohio    3   4   5\n",
        "Texas   6   7   8\n",
        "Oregon  9  10  11\n",
        "\n",
        "[4 rows x 3 columns]\n"
       ]
      }
     ],
     "prompt_number": 10
    },
    {
     "cell_type": "code",
     "collapsed": false,
     "input": [
      "df1+df2"
     ],
     "language": "python",
     "metadata": {},
     "outputs": [
      {
       "html": [
        "<div style=\"max-height:1000px;max-width:1500px;overflow:auto;\">\n",
        "<table border=\"1\" class=\"dataframe\">\n",
        "  <thead>\n",
        "    <tr style=\"text-align: right;\">\n",
        "      <th></th>\n",
        "      <th>b</th>\n",
        "      <th>c</th>\n",
        "      <th>d</th>\n",
        "      <th>e</th>\n",
        "    </tr>\n",
        "  </thead>\n",
        "  <tbody>\n",
        "    <tr>\n",
        "      <th>Colorado</th>\n",
        "      <td>NaN</td>\n",
        "      <td>NaN</td>\n",
        "      <td>NaN</td>\n",
        "      <td>NaN</td>\n",
        "    </tr>\n",
        "    <tr>\n",
        "      <th>Ohio</th>\n",
        "      <td>  3</td>\n",
        "      <td>NaN</td>\n",
        "      <td>  6</td>\n",
        "      <td>NaN</td>\n",
        "    </tr>\n",
        "    <tr>\n",
        "      <th>Oregon</th>\n",
        "      <td>NaN</td>\n",
        "      <td>NaN</td>\n",
        "      <td>NaN</td>\n",
        "      <td>NaN</td>\n",
        "    </tr>\n",
        "    <tr>\n",
        "      <th>Texas</th>\n",
        "      <td>  9</td>\n",
        "      <td>NaN</td>\n",
        "      <td> 12</td>\n",
        "      <td>NaN</td>\n",
        "    </tr>\n",
        "    <tr>\n",
        "      <th>Utah</th>\n",
        "      <td>NaN</td>\n",
        "      <td>NaN</td>\n",
        "      <td>NaN</td>\n",
        "      <td>NaN</td>\n",
        "    </tr>\n",
        "  </tbody>\n",
        "</table>\n",
        "<p>5 rows \u00d7 4 columns</p>\n",
        "</div>"
       ],
       "metadata": {},
       "output_type": "pyout",
       "prompt_number": 11,
       "text": [
        "           b   c   d   e\n",
        "Colorado NaN NaN NaN NaN\n",
        "Ohio       3 NaN   6 NaN\n",
        "Oregon   NaN NaN NaN NaN\n",
        "Texas      9 NaN  12 NaN\n",
        "Utah     NaN NaN NaN NaN\n",
        "\n",
        "[5 rows x 4 columns]"
       ]
      }
     ],
     "prompt_number": 11
    },
    {
     "cell_type": "code",
     "collapsed": false,
     "input": [
      "df1 = DataFrame(np.arange(12.).reshape((3,4)),columns=list('abcd'))\n",
      "df2 = DataFrame(np.arange(20.).reshape((4,5)),columns=list('abcde'))\n",
      "print df1\n",
      "print df2"
     ],
     "language": "python",
     "metadata": {},
     "outputs": [
      {
       "output_type": "stream",
       "stream": "stdout",
       "text": [
        "   a  b   c   d\n",
        "0  0  1   2   3\n",
        "1  4  5   6   7\n",
        "2  8  9  10  11\n",
        "\n",
        "[3 rows x 4 columns]\n",
        "    a   b   c   d   e\n",
        "0   0   1   2   3   4\n",
        "1   5   6   7   8   9\n",
        "2  10  11  12  13  14\n",
        "3  15  16  17  18  19\n",
        "\n",
        "[4 rows x 5 columns]\n"
       ]
      }
     ],
     "prompt_number": 12
    },
    {
     "cell_type": "code",
     "collapsed": false,
     "input": [
      "df1+df2"
     ],
     "language": "python",
     "metadata": {},
     "outputs": [
      {
       "html": [
        "<div style=\"max-height:1000px;max-width:1500px;overflow:auto;\">\n",
        "<table border=\"1\" class=\"dataframe\">\n",
        "  <thead>\n",
        "    <tr style=\"text-align: right;\">\n",
        "      <th></th>\n",
        "      <th>a</th>\n",
        "      <th>b</th>\n",
        "      <th>c</th>\n",
        "      <th>d</th>\n",
        "      <th>e</th>\n",
        "    </tr>\n",
        "  </thead>\n",
        "  <tbody>\n",
        "    <tr>\n",
        "      <th>0</th>\n",
        "      <td>  0</td>\n",
        "      <td>  2</td>\n",
        "      <td>  4</td>\n",
        "      <td>  6</td>\n",
        "      <td>NaN</td>\n",
        "    </tr>\n",
        "    <tr>\n",
        "      <th>1</th>\n",
        "      <td>  9</td>\n",
        "      <td> 11</td>\n",
        "      <td> 13</td>\n",
        "      <td> 15</td>\n",
        "      <td>NaN</td>\n",
        "    </tr>\n",
        "    <tr>\n",
        "      <th>2</th>\n",
        "      <td> 18</td>\n",
        "      <td> 20</td>\n",
        "      <td> 22</td>\n",
        "      <td> 24</td>\n",
        "      <td>NaN</td>\n",
        "    </tr>\n",
        "    <tr>\n",
        "      <th>3</th>\n",
        "      <td>NaN</td>\n",
        "      <td>NaN</td>\n",
        "      <td>NaN</td>\n",
        "      <td>NaN</td>\n",
        "      <td>NaN</td>\n",
        "    </tr>\n",
        "  </tbody>\n",
        "</table>\n",
        "<p>4 rows \u00d7 5 columns</p>\n",
        "</div>"
       ],
       "metadata": {},
       "output_type": "pyout",
       "prompt_number": 13,
       "text": [
        "    a   b   c   d   e\n",
        "0   0   2   4   6 NaN\n",
        "1   9  11  13  15 NaN\n",
        "2  18  20  22  24 NaN\n",
        "3 NaN NaN NaN NaN NaN\n",
        "\n",
        "[4 rows x 5 columns]"
       ]
      }
     ],
     "prompt_number": 13
    },
    {
     "cell_type": "code",
     "collapsed": false,
     "input": [
      "df1.add(df2,fill_value=0)"
     ],
     "language": "python",
     "metadata": {},
     "outputs": [
      {
       "html": [
        "<div style=\"max-height:1000px;max-width:1500px;overflow:auto;\">\n",
        "<table border=\"1\" class=\"dataframe\">\n",
        "  <thead>\n",
        "    <tr style=\"text-align: right;\">\n",
        "      <th></th>\n",
        "      <th>a</th>\n",
        "      <th>b</th>\n",
        "      <th>c</th>\n",
        "      <th>d</th>\n",
        "      <th>e</th>\n",
        "    </tr>\n",
        "  </thead>\n",
        "  <tbody>\n",
        "    <tr>\n",
        "      <th>0</th>\n",
        "      <td>  0</td>\n",
        "      <td>  2</td>\n",
        "      <td>  4</td>\n",
        "      <td>  6</td>\n",
        "      <td>  4</td>\n",
        "    </tr>\n",
        "    <tr>\n",
        "      <th>1</th>\n",
        "      <td>  9</td>\n",
        "      <td> 11</td>\n",
        "      <td> 13</td>\n",
        "      <td> 15</td>\n",
        "      <td>  9</td>\n",
        "    </tr>\n",
        "    <tr>\n",
        "      <th>2</th>\n",
        "      <td> 18</td>\n",
        "      <td> 20</td>\n",
        "      <td> 22</td>\n",
        "      <td> 24</td>\n",
        "      <td> 14</td>\n",
        "    </tr>\n",
        "    <tr>\n",
        "      <th>3</th>\n",
        "      <td> 15</td>\n",
        "      <td> 16</td>\n",
        "      <td> 17</td>\n",
        "      <td> 18</td>\n",
        "      <td> 19</td>\n",
        "    </tr>\n",
        "  </tbody>\n",
        "</table>\n",
        "<p>4 rows \u00d7 5 columns</p>\n",
        "</div>"
       ],
       "metadata": {},
       "output_type": "pyout",
       "prompt_number": 14,
       "text": [
        "    a   b   c   d   e\n",
        "0   0   2   4   6   4\n",
        "1   9  11  13  15   9\n",
        "2  18  20  22  24  14\n",
        "3  15  16  17  18  19\n",
        "\n",
        "[4 rows x 5 columns]"
       ]
      }
     ],
     "prompt_number": 14
    },
    {
     "cell_type": "code",
     "collapsed": false,
     "input": [
      "df1.sub(df2,fill_value=0)"
     ],
     "language": "python",
     "metadata": {},
     "outputs": [
      {
       "html": [
        "<div style=\"max-height:1000px;max-width:1500px;overflow:auto;\">\n",
        "<table border=\"1\" class=\"dataframe\">\n",
        "  <thead>\n",
        "    <tr style=\"text-align: right;\">\n",
        "      <th></th>\n",
        "      <th>a</th>\n",
        "      <th>b</th>\n",
        "      <th>c</th>\n",
        "      <th>d</th>\n",
        "      <th>e</th>\n",
        "    </tr>\n",
        "  </thead>\n",
        "  <tbody>\n",
        "    <tr>\n",
        "      <th>0</th>\n",
        "      <td>  0</td>\n",
        "      <td>  0</td>\n",
        "      <td>  0</td>\n",
        "      <td>  0</td>\n",
        "      <td> -4</td>\n",
        "    </tr>\n",
        "    <tr>\n",
        "      <th>1</th>\n",
        "      <td> -1</td>\n",
        "      <td> -1</td>\n",
        "      <td> -1</td>\n",
        "      <td> -1</td>\n",
        "      <td> -9</td>\n",
        "    </tr>\n",
        "    <tr>\n",
        "      <th>2</th>\n",
        "      <td> -2</td>\n",
        "      <td> -2</td>\n",
        "      <td> -2</td>\n",
        "      <td> -2</td>\n",
        "      <td>-14</td>\n",
        "    </tr>\n",
        "    <tr>\n",
        "      <th>3</th>\n",
        "      <td>-15</td>\n",
        "      <td>-16</td>\n",
        "      <td>-17</td>\n",
        "      <td>-18</td>\n",
        "      <td>-19</td>\n",
        "    </tr>\n",
        "  </tbody>\n",
        "</table>\n",
        "<p>4 rows \u00d7 5 columns</p>\n",
        "</div>"
       ],
       "metadata": {},
       "output_type": "pyout",
       "prompt_number": 15,
       "text": [
        "    a   b   c   d   e\n",
        "0   0   0   0   0  -4\n",
        "1  -1  -1  -1  -1  -9\n",
        "2  -2  -2  -2  -2 -14\n",
        "3 -15 -16 -17 -18 -19\n",
        "\n",
        "[4 rows x 5 columns]"
       ]
      }
     ],
     "prompt_number": 15
    },
    {
     "cell_type": "code",
     "collapsed": false,
     "input": [
      "df1.mul(df2,fill_value=0)"
     ],
     "language": "python",
     "metadata": {},
     "outputs": [
      {
       "html": [
        "<div style=\"max-height:1000px;max-width:1500px;overflow:auto;\">\n",
        "<table border=\"1\" class=\"dataframe\">\n",
        "  <thead>\n",
        "    <tr style=\"text-align: right;\">\n",
        "      <th></th>\n",
        "      <th>a</th>\n",
        "      <th>b</th>\n",
        "      <th>c</th>\n",
        "      <th>d</th>\n",
        "      <th>e</th>\n",
        "    </tr>\n",
        "  </thead>\n",
        "  <tbody>\n",
        "    <tr>\n",
        "      <th>0</th>\n",
        "      <td>  0</td>\n",
        "      <td>  1</td>\n",
        "      <td>   4</td>\n",
        "      <td>   9</td>\n",
        "      <td> 0</td>\n",
        "    </tr>\n",
        "    <tr>\n",
        "      <th>1</th>\n",
        "      <td> 20</td>\n",
        "      <td> 30</td>\n",
        "      <td>  42</td>\n",
        "      <td>  56</td>\n",
        "      <td> 0</td>\n",
        "    </tr>\n",
        "    <tr>\n",
        "      <th>2</th>\n",
        "      <td> 80</td>\n",
        "      <td> 99</td>\n",
        "      <td> 120</td>\n",
        "      <td> 143</td>\n",
        "      <td> 0</td>\n",
        "    </tr>\n",
        "    <tr>\n",
        "      <th>3</th>\n",
        "      <td>  0</td>\n",
        "      <td>  0</td>\n",
        "      <td>   0</td>\n",
        "      <td>   0</td>\n",
        "      <td> 0</td>\n",
        "    </tr>\n",
        "  </tbody>\n",
        "</table>\n",
        "<p>4 rows \u00d7 5 columns</p>\n",
        "</div>"
       ],
       "metadata": {},
       "output_type": "pyout",
       "prompt_number": 16,
       "text": [
        "    a   b    c    d  e\n",
        "0   0   1    4    9  0\n",
        "1  20  30   42   56  0\n",
        "2  80  99  120  143  0\n",
        "3   0   0    0    0  0\n",
        "\n",
        "[4 rows x 5 columns]"
       ]
      }
     ],
     "prompt_number": 16
    },
    {
     "cell_type": "code",
     "collapsed": false,
     "input": [
      "df1.div(df2,fill_value=0)"
     ],
     "language": "python",
     "metadata": {},
     "outputs": [
      {
       "html": [
        "<div style=\"max-height:1000px;max-width:1500px;overflow:auto;\">\n",
        "<table border=\"1\" class=\"dataframe\">\n",
        "  <thead>\n",
        "    <tr style=\"text-align: right;\">\n",
        "      <th></th>\n",
        "      <th>a</th>\n",
        "      <th>b</th>\n",
        "      <th>c</th>\n",
        "      <th>d</th>\n",
        "      <th>e</th>\n",
        "    </tr>\n",
        "  </thead>\n",
        "  <tbody>\n",
        "    <tr>\n",
        "      <th>0</th>\n",
        "      <td> NaN</td>\n",
        "      <td> 1.000000</td>\n",
        "      <td> 1.000000</td>\n",
        "      <td> 1.000000</td>\n",
        "      <td> 0</td>\n",
        "    </tr>\n",
        "    <tr>\n",
        "      <th>1</th>\n",
        "      <td> 0.8</td>\n",
        "      <td> 0.833333</td>\n",
        "      <td> 0.857143</td>\n",
        "      <td> 0.875000</td>\n",
        "      <td> 0</td>\n",
        "    </tr>\n",
        "    <tr>\n",
        "      <th>2</th>\n",
        "      <td> 0.8</td>\n",
        "      <td> 0.818182</td>\n",
        "      <td> 0.833333</td>\n",
        "      <td> 0.846154</td>\n",
        "      <td> 0</td>\n",
        "    </tr>\n",
        "    <tr>\n",
        "      <th>3</th>\n",
        "      <td> 0.0</td>\n",
        "      <td> 0.000000</td>\n",
        "      <td> 0.000000</td>\n",
        "      <td> 0.000000</td>\n",
        "      <td> 0</td>\n",
        "    </tr>\n",
        "  </tbody>\n",
        "</table>\n",
        "<p>4 rows \u00d7 5 columns</p>\n",
        "</div>"
       ],
       "metadata": {},
       "output_type": "pyout",
       "prompt_number": 17,
       "text": [
        "     a         b         c         d  e\n",
        "0  NaN  1.000000  1.000000  1.000000  0\n",
        "1  0.8  0.833333  0.857143  0.875000  0\n",
        "2  0.8  0.818182  0.833333  0.846154  0\n",
        "3  0.0  0.000000  0.000000  0.000000  0\n",
        "\n",
        "[4 rows x 5 columns]"
       ]
      }
     ],
     "prompt_number": 17
    },
    {
     "cell_type": "code",
     "collapsed": false,
     "input": [
      "frame = DataFrame(np.arange(12.).reshape((4,3)),columns=list('bde'),index=['Utah','Ohio','Texas','Oregon'])"
     ],
     "language": "python",
     "metadata": {},
     "outputs": [],
     "prompt_number": 19
    },
    {
     "cell_type": "code",
     "collapsed": false,
     "input": [
      "series = frame.ix[0]"
     ],
     "language": "python",
     "metadata": {},
     "outputs": [],
     "prompt_number": 21
    },
    {
     "cell_type": "code",
     "collapsed": false,
     "input": [
      "series"
     ],
     "language": "python",
     "metadata": {},
     "outputs": [
      {
       "metadata": {},
       "output_type": "pyout",
       "prompt_number": 22,
       "text": [
        "b    0\n",
        "d    1\n",
        "e    2\n",
        "Name: Utah, dtype: float64"
       ]
      }
     ],
     "prompt_number": 22
    },
    {
     "cell_type": "code",
     "collapsed": false,
     "input": [
      "frame - series"
     ],
     "language": "python",
     "metadata": {},
     "outputs": [
      {
       "html": [
        "<div style=\"max-height:1000px;max-width:1500px;overflow:auto;\">\n",
        "<table border=\"1\" class=\"dataframe\">\n",
        "  <thead>\n",
        "    <tr style=\"text-align: right;\">\n",
        "      <th></th>\n",
        "      <th>b</th>\n",
        "      <th>d</th>\n",
        "      <th>e</th>\n",
        "    </tr>\n",
        "  </thead>\n",
        "  <tbody>\n",
        "    <tr>\n",
        "      <th>Utah</th>\n",
        "      <td> 0</td>\n",
        "      <td> 0</td>\n",
        "      <td> 0</td>\n",
        "    </tr>\n",
        "    <tr>\n",
        "      <th>Ohio</th>\n",
        "      <td> 3</td>\n",
        "      <td> 3</td>\n",
        "      <td> 3</td>\n",
        "    </tr>\n",
        "    <tr>\n",
        "      <th>Texas</th>\n",
        "      <td> 6</td>\n",
        "      <td> 6</td>\n",
        "      <td> 6</td>\n",
        "    </tr>\n",
        "    <tr>\n",
        "      <th>Oregon</th>\n",
        "      <td> 9</td>\n",
        "      <td> 9</td>\n",
        "      <td> 9</td>\n",
        "    </tr>\n",
        "  </tbody>\n",
        "</table>\n",
        "<p>4 rows \u00d7 3 columns</p>\n",
        "</div>"
       ],
       "metadata": {},
       "output_type": "pyout",
       "prompt_number": 23,
       "text": [
        "        b  d  e\n",
        "Utah    0  0  0\n",
        "Ohio    3  3  3\n",
        "Texas   6  6  6\n",
        "Oregon  9  9  9\n",
        "\n",
        "[4 rows x 3 columns]"
       ]
      }
     ],
     "prompt_number": 23
    },
    {
     "cell_type": "code",
     "collapsed": false,
     "input": [
      "frame"
     ],
     "language": "python",
     "metadata": {},
     "outputs": [
      {
       "html": [
        "<div style=\"max-height:1000px;max-width:1500px;overflow:auto;\">\n",
        "<table border=\"1\" class=\"dataframe\">\n",
        "  <thead>\n",
        "    <tr style=\"text-align: right;\">\n",
        "      <th></th>\n",
        "      <th>b</th>\n",
        "      <th>d</th>\n",
        "      <th>e</th>\n",
        "    </tr>\n",
        "  </thead>\n",
        "  <tbody>\n",
        "    <tr>\n",
        "      <th>Utah</th>\n",
        "      <td> 0</td>\n",
        "      <td>  1</td>\n",
        "      <td>  2</td>\n",
        "    </tr>\n",
        "    <tr>\n",
        "      <th>Ohio</th>\n",
        "      <td> 3</td>\n",
        "      <td>  4</td>\n",
        "      <td>  5</td>\n",
        "    </tr>\n",
        "    <tr>\n",
        "      <th>Texas</th>\n",
        "      <td> 6</td>\n",
        "      <td>  7</td>\n",
        "      <td>  8</td>\n",
        "    </tr>\n",
        "    <tr>\n",
        "      <th>Oregon</th>\n",
        "      <td> 9</td>\n",
        "      <td> 10</td>\n",
        "      <td> 11</td>\n",
        "    </tr>\n",
        "  </tbody>\n",
        "</table>\n",
        "<p>4 rows \u00d7 3 columns</p>\n",
        "</div>"
       ],
       "metadata": {},
       "output_type": "pyout",
       "prompt_number": 24,
       "text": [
        "        b   d   e\n",
        "Utah    0   1   2\n",
        "Ohio    3   4   5\n",
        "Texas   6   7   8\n",
        "Oregon  9  10  11\n",
        "\n",
        "[4 rows x 3 columns]"
       ]
      }
     ],
     "prompt_number": 24
    },
    {
     "cell_type": "code",
     "collapsed": false,
     "input": [
      "frame.sub(series,axis=1)"
     ],
     "language": "python",
     "metadata": {},
     "outputs": [
      {
       "html": [
        "<div style=\"max-height:1000px;max-width:1500px;overflow:auto;\">\n",
        "<table border=\"1\" class=\"dataframe\">\n",
        "  <thead>\n",
        "    <tr style=\"text-align: right;\">\n",
        "      <th></th>\n",
        "      <th>b</th>\n",
        "      <th>d</th>\n",
        "      <th>e</th>\n",
        "    </tr>\n",
        "  </thead>\n",
        "  <tbody>\n",
        "    <tr>\n",
        "      <th>Utah</th>\n",
        "      <td> 0</td>\n",
        "      <td> 0</td>\n",
        "      <td> 0</td>\n",
        "    </tr>\n",
        "    <tr>\n",
        "      <th>Ohio</th>\n",
        "      <td> 3</td>\n",
        "      <td> 3</td>\n",
        "      <td> 3</td>\n",
        "    </tr>\n",
        "    <tr>\n",
        "      <th>Texas</th>\n",
        "      <td> 6</td>\n",
        "      <td> 6</td>\n",
        "      <td> 6</td>\n",
        "    </tr>\n",
        "    <tr>\n",
        "      <th>Oregon</th>\n",
        "      <td> 9</td>\n",
        "      <td> 9</td>\n",
        "      <td> 9</td>\n",
        "    </tr>\n",
        "  </tbody>\n",
        "</table>\n",
        "<p>4 rows \u00d7 3 columns</p>\n",
        "</div>"
       ],
       "metadata": {},
       "output_type": "pyout",
       "prompt_number": 28,
       "text": [
        "        b  d  e\n",
        "Utah    0  0  0\n",
        "Ohio    3  3  3\n",
        "Texas   6  6  6\n",
        "Oregon  9  9  9\n",
        "\n",
        "[4 rows x 3 columns]"
       ]
      }
     ],
     "prompt_number": 28
    },
    {
     "cell_type": "heading",
     "level": 1,
     "metadata": {},
     "source": [
      "Apply"
     ]
    },
    {
     "cell_type": "code",
     "collapsed": false,
     "input": [
      "frame = DataFrame(np.random.randn(4,3),columns=list('bde'),index=['Utah','Ohio','Texas','Oregon'])\n",
      "f = lambda x: x.max() - x.min()\n",
      "frame"
     ],
     "language": "python",
     "metadata": {},
     "outputs": [
      {
       "html": [
        "<div style=\"max-height:1000px;max-width:1500px;overflow:auto;\">\n",
        "<table border=\"1\" class=\"dataframe\">\n",
        "  <thead>\n",
        "    <tr style=\"text-align: right;\">\n",
        "      <th></th>\n",
        "      <th>b</th>\n",
        "      <th>d</th>\n",
        "      <th>e</th>\n",
        "    </tr>\n",
        "  </thead>\n",
        "  <tbody>\n",
        "    <tr>\n",
        "      <th>Utah</th>\n",
        "      <td>-0.715187</td>\n",
        "      <td>-0.321087</td>\n",
        "      <td>-1.680829</td>\n",
        "    </tr>\n",
        "    <tr>\n",
        "      <th>Ohio</th>\n",
        "      <td>-0.130144</td>\n",
        "      <td> 0.633823</td>\n",
        "      <td> 0.370954</td>\n",
        "    </tr>\n",
        "    <tr>\n",
        "      <th>Texas</th>\n",
        "      <td>-0.929083</td>\n",
        "      <td>-0.167292</td>\n",
        "      <td> 0.141524</td>\n",
        "    </tr>\n",
        "    <tr>\n",
        "      <th>Oregon</th>\n",
        "      <td> 0.337852</td>\n",
        "      <td>-0.503124</td>\n",
        "      <td>-0.373054</td>\n",
        "    </tr>\n",
        "  </tbody>\n",
        "</table>\n",
        "<p>4 rows \u00d7 3 columns</p>\n",
        "</div>"
       ],
       "metadata": {},
       "output_type": "pyout",
       "prompt_number": 35,
       "text": [
        "               b         d         e\n",
        "Utah   -0.715187 -0.321087 -1.680829\n",
        "Ohio   -0.130144  0.633823  0.370954\n",
        "Texas  -0.929083 -0.167292  0.141524\n",
        "Oregon  0.337852 -0.503124 -0.373054\n",
        "\n",
        "[4 rows x 3 columns]"
       ]
      }
     ],
     "prompt_number": 35
    },
    {
     "cell_type": "code",
     "collapsed": false,
     "input": [
      "frame.apply(f)"
     ],
     "language": "python",
     "metadata": {},
     "outputs": [
      {
       "metadata": {},
       "output_type": "pyout",
       "prompt_number": 36,
       "text": [
        "b    1.266935\n",
        "d    1.136947\n",
        "e    2.051783\n",
        "dtype: float64"
       ]
      }
     ],
     "prompt_number": 36
    },
    {
     "cell_type": "code",
     "collapsed": false,
     "input": [
      "frame.apply(f,axis=1)"
     ],
     "language": "python",
     "metadata": {},
     "outputs": [
      {
       "metadata": {},
       "output_type": "pyout",
       "prompt_number": 39,
       "text": [
        "Utah      1.359742\n",
        "Ohio      0.763967\n",
        "Texas     1.070607\n",
        "Oregon    0.840977\n",
        "dtype: float64"
       ]
      }
     ],
     "prompt_number": 39
    },
    {
     "cell_type": "code",
     "collapsed": false,
     "input": [
      "format = lambda x : '%.2f' % x\n",
      "frame.applymap(format)"
     ],
     "language": "python",
     "metadata": {},
     "outputs": [
      {
       "html": [
        "<div style=\"max-height:1000px;max-width:1500px;overflow:auto;\">\n",
        "<table border=\"1\" class=\"dataframe\">\n",
        "  <thead>\n",
        "    <tr style=\"text-align: right;\">\n",
        "      <th></th>\n",
        "      <th>b</th>\n",
        "      <th>d</th>\n",
        "      <th>e</th>\n",
        "    </tr>\n",
        "  </thead>\n",
        "  <tbody>\n",
        "    <tr>\n",
        "      <th>Utah</th>\n",
        "      <td> -0.72</td>\n",
        "      <td> -0.32</td>\n",
        "      <td> -1.68</td>\n",
        "    </tr>\n",
        "    <tr>\n",
        "      <th>Ohio</th>\n",
        "      <td> -0.13</td>\n",
        "      <td>  0.63</td>\n",
        "      <td>  0.37</td>\n",
        "    </tr>\n",
        "    <tr>\n",
        "      <th>Texas</th>\n",
        "      <td> -0.93</td>\n",
        "      <td> -0.17</td>\n",
        "      <td>  0.14</td>\n",
        "    </tr>\n",
        "    <tr>\n",
        "      <th>Oregon</th>\n",
        "      <td>  0.34</td>\n",
        "      <td> -0.50</td>\n",
        "      <td> -0.37</td>\n",
        "    </tr>\n",
        "  </tbody>\n",
        "</table>\n",
        "<p>4 rows \u00d7 3 columns</p>\n",
        "</div>"
       ],
       "metadata": {},
       "output_type": "pyout",
       "prompt_number": 40,
       "text": [
        "            b      d      e\n",
        "Utah    -0.72  -0.32  -1.68\n",
        "Ohio    -0.13   0.63   0.37\n",
        "Texas   -0.93  -0.17   0.14\n",
        "Oregon   0.34  -0.50  -0.37\n",
        "\n",
        "[4 rows x 3 columns]"
       ]
      }
     ],
     "prompt_number": 40
    },
    {
     "cell_type": "code",
     "collapsed": false,
     "input": [
      "frame['e'].map(format)"
     ],
     "language": "python",
     "metadata": {},
     "outputs": [
      {
       "metadata": {},
       "output_type": "pyout",
       "prompt_number": 41,
       "text": [
        "Utah      -1.68\n",
        "Ohio       0.37\n",
        "Texas      0.14\n",
        "Oregon    -0.37\n",
        "Name: e, dtype: object"
       ]
      }
     ],
     "prompt_number": 41
    },
    {
     "cell_type": "code",
     "collapsed": false,
     "input": [
      "obj = Series(range(4),index=['d','a','b','c'])\n",
      "obj"
     ],
     "language": "python",
     "metadata": {},
     "outputs": [
      {
       "metadata": {},
       "output_type": "pyout",
       "prompt_number": 43,
       "text": [
        "d    0\n",
        "a    1\n",
        "b    2\n",
        "c    3\n",
        "dtype: int64"
       ]
      }
     ],
     "prompt_number": 43
    },
    {
     "cell_type": "code",
     "collapsed": false,
     "input": [
      "obj.sort_index()"
     ],
     "language": "python",
     "metadata": {},
     "outputs": [
      {
       "metadata": {},
       "output_type": "pyout",
       "prompt_number": 44,
       "text": [
        "a    1\n",
        "b    2\n",
        "c    3\n",
        "d    0\n",
        "dtype: int64"
       ]
      }
     ],
     "prompt_number": 44
    },
    {
     "cell_type": "code",
     "collapsed": false,
     "input": [
      "frame = DataFrame(np.arange(8).reshape((2,4)),index=['three','one'],columns=['d','a','b','c'])"
     ],
     "language": "python",
     "metadata": {},
     "outputs": [],
     "prompt_number": 45
    },
    {
     "cell_type": "code",
     "collapsed": false,
     "input": [
      "frame"
     ],
     "language": "python",
     "metadata": {},
     "outputs": [
      {
       "html": [
        "<div style=\"max-height:1000px;max-width:1500px;overflow:auto;\">\n",
        "<table border=\"1\" class=\"dataframe\">\n",
        "  <thead>\n",
        "    <tr style=\"text-align: right;\">\n",
        "      <th></th>\n",
        "      <th>d</th>\n",
        "      <th>a</th>\n",
        "      <th>b</th>\n",
        "      <th>c</th>\n",
        "    </tr>\n",
        "  </thead>\n",
        "  <tbody>\n",
        "    <tr>\n",
        "      <th>three</th>\n",
        "      <td> 0</td>\n",
        "      <td> 1</td>\n",
        "      <td> 2</td>\n",
        "      <td> 3</td>\n",
        "    </tr>\n",
        "    <tr>\n",
        "      <th>one</th>\n",
        "      <td> 4</td>\n",
        "      <td> 5</td>\n",
        "      <td> 6</td>\n",
        "      <td> 7</td>\n",
        "    </tr>\n",
        "  </tbody>\n",
        "</table>\n",
        "<p>2 rows \u00d7 4 columns</p>\n",
        "</div>"
       ],
       "metadata": {},
       "output_type": "pyout",
       "prompt_number": 46,
       "text": [
        "       d  a  b  c\n",
        "three  0  1  2  3\n",
        "one    4  5  6  7\n",
        "\n",
        "[2 rows x 4 columns]"
       ]
      }
     ],
     "prompt_number": 46
    },
    {
     "cell_type": "code",
     "collapsed": false,
     "input": [
      "frame.sort_index(axis=1,ascending=False)"
     ],
     "language": "python",
     "metadata": {},
     "outputs": [
      {
       "html": [
        "<div style=\"max-height:1000px;max-width:1500px;overflow:auto;\">\n",
        "<table border=\"1\" class=\"dataframe\">\n",
        "  <thead>\n",
        "    <tr style=\"text-align: right;\">\n",
        "      <th></th>\n",
        "      <th>d</th>\n",
        "      <th>c</th>\n",
        "      <th>b</th>\n",
        "      <th>a</th>\n",
        "    </tr>\n",
        "  </thead>\n",
        "  <tbody>\n",
        "    <tr>\n",
        "      <th>three</th>\n",
        "      <td> 0</td>\n",
        "      <td> 3</td>\n",
        "      <td> 2</td>\n",
        "      <td> 1</td>\n",
        "    </tr>\n",
        "    <tr>\n",
        "      <th>one</th>\n",
        "      <td> 4</td>\n",
        "      <td> 7</td>\n",
        "      <td> 6</td>\n",
        "      <td> 5</td>\n",
        "    </tr>\n",
        "  </tbody>\n",
        "</table>\n",
        "<p>2 rows \u00d7 4 columns</p>\n",
        "</div>"
       ],
       "metadata": {},
       "output_type": "pyout",
       "prompt_number": 57,
       "text": [
        "       d  c  b  a\n",
        "three  0  3  2  1\n",
        "one    4  7  6  5\n",
        "\n",
        "[2 rows x 4 columns]"
       ]
      }
     ],
     "prompt_number": 57
    },
    {
     "cell_type": "code",
     "collapsed": false,
     "input": [
      "frame.sort_index(by=['a','b'])"
     ],
     "language": "python",
     "metadata": {},
     "outputs": [
      {
       "html": [
        "<div style=\"max-height:1000px;max-width:1500px;overflow:auto;\">\n",
        "<table border=\"1\" class=\"dataframe\">\n",
        "  <thead>\n",
        "    <tr style=\"text-align: right;\">\n",
        "      <th></th>\n",
        "      <th>d</th>\n",
        "      <th>a</th>\n",
        "      <th>b</th>\n",
        "      <th>c</th>\n",
        "    </tr>\n",
        "  </thead>\n",
        "  <tbody>\n",
        "    <tr>\n",
        "      <th>three</th>\n",
        "      <td> 0</td>\n",
        "      <td> 1</td>\n",
        "      <td> 2</td>\n",
        "      <td> 3</td>\n",
        "    </tr>\n",
        "    <tr>\n",
        "      <th>one</th>\n",
        "      <td> 4</td>\n",
        "      <td> 5</td>\n",
        "      <td> 6</td>\n",
        "      <td> 7</td>\n",
        "    </tr>\n",
        "  </tbody>\n",
        "</table>\n",
        "<p>2 rows \u00d7 4 columns</p>\n",
        "</div>"
       ],
       "metadata": {},
       "output_type": "pyout",
       "prompt_number": 58,
       "text": [
        "       d  a  b  c\n",
        "three  0  1  2  3\n",
        "one    4  5  6  7\n",
        "\n",
        "[2 rows x 4 columns]"
       ]
      }
     ],
     "prompt_number": 58
    },
    {
     "cell_type": "code",
     "collapsed": false,
     "input": [
      "frame.rank(axis=1)"
     ],
     "language": "python",
     "metadata": {},
     "outputs": [
      {
       "html": [
        "<div style=\"max-height:1000px;max-width:1500px;overflow:auto;\">\n",
        "<table border=\"1\" class=\"dataframe\">\n",
        "  <thead>\n",
        "    <tr style=\"text-align: right;\">\n",
        "      <th></th>\n",
        "      <th>d</th>\n",
        "      <th>a</th>\n",
        "      <th>b</th>\n",
        "      <th>c</th>\n",
        "    </tr>\n",
        "  </thead>\n",
        "  <tbody>\n",
        "    <tr>\n",
        "      <th>three</th>\n",
        "      <td> 1</td>\n",
        "      <td> 2</td>\n",
        "      <td> 3</td>\n",
        "      <td> 4</td>\n",
        "    </tr>\n",
        "    <tr>\n",
        "      <th>one</th>\n",
        "      <td> 1</td>\n",
        "      <td> 2</td>\n",
        "      <td> 3</td>\n",
        "      <td> 4</td>\n",
        "    </tr>\n",
        "  </tbody>\n",
        "</table>\n",
        "<p>2 rows \u00d7 4 columns</p>\n",
        "</div>"
       ],
       "metadata": {},
       "output_type": "pyout",
       "prompt_number": 59,
       "text": [
        "       d  a  b  c\n",
        "three  1  2  3  4\n",
        "one    1  2  3  4\n",
        "\n",
        "[2 rows x 4 columns]"
       ]
      }
     ],
     "prompt_number": 59
    },
    {
     "cell_type": "code",
     "collapsed": false,
     "input": [
      "frame"
     ],
     "language": "python",
     "metadata": {},
     "outputs": [
      {
       "html": [
        "<div style=\"max-height:1000px;max-width:1500px;overflow:auto;\">\n",
        "<table border=\"1\" class=\"dataframe\">\n",
        "  <thead>\n",
        "    <tr style=\"text-align: right;\">\n",
        "      <th></th>\n",
        "      <th>d</th>\n",
        "      <th>a</th>\n",
        "      <th>b</th>\n",
        "      <th>c</th>\n",
        "    </tr>\n",
        "  </thead>\n",
        "  <tbody>\n",
        "    <tr>\n",
        "      <th>three</th>\n",
        "      <td> 0</td>\n",
        "      <td> 1</td>\n",
        "      <td> 2</td>\n",
        "      <td> 3</td>\n",
        "    </tr>\n",
        "    <tr>\n",
        "      <th>one</th>\n",
        "      <td> 4</td>\n",
        "      <td> 5</td>\n",
        "      <td> 6</td>\n",
        "      <td> 7</td>\n",
        "    </tr>\n",
        "  </tbody>\n",
        "</table>\n",
        "<p>2 rows \u00d7 4 columns</p>\n",
        "</div>"
       ],
       "metadata": {},
       "output_type": "pyout",
       "prompt_number": 60,
       "text": [
        "       d  a  b  c\n",
        "three  0  1  2  3\n",
        "one    4  5  6  7\n",
        "\n",
        "[2 rows x 4 columns]"
       ]
      }
     ],
     "prompt_number": 60
    },
    {
     "cell_type": "code",
     "collapsed": false,
     "input": [
      "frame = DataFrame(np.random.randn(2,4),index=['three','one'],columns=['d','a','b','c'])"
     ],
     "language": "python",
     "metadata": {},
     "outputs": [],
     "prompt_number": 65
    },
    {
     "cell_type": "code",
     "collapsed": false,
     "input": [
      "frame"
     ],
     "language": "python",
     "metadata": {},
     "outputs": [
      {
       "html": [
        "<div style=\"max-height:1000px;max-width:1500px;overflow:auto;\">\n",
        "<table border=\"1\" class=\"dataframe\">\n",
        "  <thead>\n",
        "    <tr style=\"text-align: right;\">\n",
        "      <th></th>\n",
        "      <th>d</th>\n",
        "      <th>a</th>\n",
        "      <th>b</th>\n",
        "      <th>c</th>\n",
        "    </tr>\n",
        "  </thead>\n",
        "  <tbody>\n",
        "    <tr>\n",
        "      <th>three</th>\n",
        "      <td>-0.781528</td>\n",
        "      <td> 1.636590</td>\n",
        "      <td> 0.607881</td>\n",
        "      <td>-1.887458</td>\n",
        "    </tr>\n",
        "    <tr>\n",
        "      <th>one</th>\n",
        "      <td>-0.570132</td>\n",
        "      <td>-0.440441</td>\n",
        "      <td>-1.387311</td>\n",
        "      <td>-0.882828</td>\n",
        "    </tr>\n",
        "  </tbody>\n",
        "</table>\n",
        "<p>2 rows \u00d7 4 columns</p>\n",
        "</div>"
       ],
       "metadata": {},
       "output_type": "pyout",
       "prompt_number": 67,
       "text": [
        "              d         a         b         c\n",
        "three -0.781528  1.636590  0.607881 -1.887458\n",
        "one   -0.570132 -0.440441 -1.387311 -0.882828\n",
        "\n",
        "[2 rows x 4 columns]"
       ]
      }
     ],
     "prompt_number": 67
    },
    {
     "cell_type": "code",
     "collapsed": false,
     "input": [],
     "language": "python",
     "metadata": {},
     "outputs": [
      {
       "ename": "TypeError",
       "evalue": "rank() got an unexpected keyword argument 'descending'",
       "output_type": "pyerr",
       "traceback": [
        "\u001b[0;31m---------------------------------------------------------------------------\u001b[0m\n\u001b[0;31mTypeError\u001b[0m                                 Traceback (most recent call last)",
        "\u001b[0;32m<ipython-input-69-4625bc1383b4>\u001b[0m in \u001b[0;36m<module>\u001b[0;34m()\u001b[0m\n\u001b[0;32m----> 1\u001b[0;31m \u001b[0mframe\u001b[0m\u001b[0;34m.\u001b[0m\u001b[0mrank\u001b[0m\u001b[0;34m(\u001b[0m\u001b[0maxis\u001b[0m\u001b[0;34m=\u001b[0m\u001b[0;36m1\u001b[0m\u001b[0;34m,\u001b[0m\u001b[0mdescending\u001b[0m\u001b[0;34m=\u001b[0m\u001b[0mFalse\u001b[0m\u001b[0;34m)\u001b[0m\u001b[0;34m\u001b[0m\u001b[0m\n\u001b[0m",
        "\u001b[0;31mTypeError\u001b[0m: rank() got an unexpected keyword argument 'descending'"
       ]
      }
     ],
     "prompt_number": 69
    },
    {
     "cell_type": "code",
     "collapsed": false,
     "input": [
      "frame.sum(axis=1)"
     ],
     "language": "python",
     "metadata": {},
     "outputs": [
      {
       "metadata": {},
       "output_type": "pyout",
       "prompt_number": 74,
       "text": [
        "three   -0.424514\n",
        "one     -3.280711\n",
        "dtype: float64"
       ]
      }
     ],
     "prompt_number": 74
    },
    {
     "cell_type": "code",
     "collapsed": false,
     "input": [
      "frame.ix['three','b'] = np.nan\n"
     ],
     "language": "python",
     "metadata": {},
     "outputs": [],
     "prompt_number": 81
    },
    {
     "cell_type": "code",
     "collapsed": false,
     "input": [
      "frame.sum(axis=0,skipna=True)"
     ],
     "language": "python",
     "metadata": {},
     "outputs": [
      {
       "metadata": {},
       "output_type": "pyout",
       "prompt_number": 86,
       "text": [
        "d   -1.351659\n",
        "a    1.196149\n",
        "b   -1.387311\n",
        "c   -2.770285\n",
        "dtype: float64"
       ]
      }
     ],
     "prompt_number": 86
    },
    {
     "cell_type": "code",
     "collapsed": false,
     "input": [
      "frame.cumsum(axis=1)"
     ],
     "language": "python",
     "metadata": {},
     "outputs": [
      {
       "html": [
        "<div style=\"max-height:1000px;max-width:1500px;overflow:auto;\">\n",
        "<table border=\"1\" class=\"dataframe\">\n",
        "  <thead>\n",
        "    <tr style=\"text-align: right;\">\n",
        "      <th></th>\n",
        "      <th>d</th>\n",
        "      <th>a</th>\n",
        "      <th>b</th>\n",
        "      <th>c</th>\n",
        "    </tr>\n",
        "  </thead>\n",
        "  <tbody>\n",
        "    <tr>\n",
        "      <th>three</th>\n",
        "      <td>-0.781528</td>\n",
        "      <td> 0.855063</td>\n",
        "      <td>      NaN</td>\n",
        "      <td>-1.032395</td>\n",
        "    </tr>\n",
        "    <tr>\n",
        "      <th>one</th>\n",
        "      <td>-0.570132</td>\n",
        "      <td>-1.010572</td>\n",
        "      <td>-2.397883</td>\n",
        "      <td>-3.280711</td>\n",
        "    </tr>\n",
        "  </tbody>\n",
        "</table>\n",
        "<p>2 rows \u00d7 4 columns</p>\n",
        "</div>"
       ],
       "metadata": {},
       "output_type": "pyout",
       "prompt_number": 92,
       "text": [
        "              d         a         b         c\n",
        "three -0.781528  0.855063       NaN -1.032395\n",
        "one   -0.570132 -1.010572 -2.397883 -3.280711\n",
        "\n",
        "[2 rows x 4 columns]"
       ]
      }
     ],
     "prompt_number": 92
    },
    {
     "cell_type": "code",
     "collapsed": false,
     "input": [
      "frame"
     ],
     "language": "python",
     "metadata": {},
     "outputs": [
      {
       "html": [
        "<div style=\"max-height:1000px;max-width:1500px;overflow:auto;\">\n",
        "<table border=\"1\" class=\"dataframe\">\n",
        "  <thead>\n",
        "    <tr style=\"text-align: right;\">\n",
        "      <th></th>\n",
        "      <th>d</th>\n",
        "      <th>a</th>\n",
        "      <th>b</th>\n",
        "      <th>c</th>\n",
        "    </tr>\n",
        "  </thead>\n",
        "  <tbody>\n",
        "    <tr>\n",
        "      <th>three</th>\n",
        "      <td>-0.781528</td>\n",
        "      <td> 1.636590</td>\n",
        "      <td>      NaN</td>\n",
        "      <td>-1.887458</td>\n",
        "    </tr>\n",
        "    <tr>\n",
        "      <th>one</th>\n",
        "      <td>-0.570132</td>\n",
        "      <td>-0.440441</td>\n",
        "      <td>-1.387311</td>\n",
        "      <td>-0.882828</td>\n",
        "    </tr>\n",
        "  </tbody>\n",
        "</table>\n",
        "<p>2 rows \u00d7 4 columns</p>\n",
        "</div>"
       ],
       "metadata": {},
       "output_type": "pyout",
       "prompt_number": 88,
       "text": [
        "              d         a         b         c\n",
        "three -0.781528  1.636590       NaN -1.887458\n",
        "one   -0.570132 -0.440441 -1.387311 -0.882828\n",
        "\n",
        "[2 rows x 4 columns]"
       ]
      }
     ],
     "prompt_number": 88
    },
    {
     "cell_type": "code",
     "collapsed": false,
     "input": [
      "frame\n",
      "frame.std(axis=0)"
     ],
     "language": "python",
     "metadata": {},
     "outputs": [
      {
       "metadata": {},
       "output_type": "pyout",
       "prompt_number": 99,
       "text": [
        "d    0.149480\n",
        "a    1.468683\n",
        "b         NaN\n",
        "c    0.710381\n",
        "dtype: float64"
       ]
      }
     ],
     "prompt_number": 99
    },
    {
     "cell_type": "heading",
     "level": 1,
     "metadata": {},
     "source": [
      "Correlation and Covariance"
     ]
    },
    {
     "cell_type": "code",
     "collapsed": false,
     "input": [
      "import pandas.io.data as web\n",
      "all_data = {}\n",
      "for ticker in ['AAPL','IBM','MSFT','GOOGL']:\n",
      "    all_data[ticker] = web.get_data_yahoo(ticker,'1/1/2005','1/1/2014')\n",
      "\n",
      "price = DataFrame({tic: data['Adj Close'] for tic, data in all_data.iteritems()})\n",
      "volume = DataFrame({tic: data['Volume'] for tic, data in all_data.iteritems()})\n",
      "returns = price.pct_change()\n"
     ],
     "language": "python",
     "metadata": {},
     "outputs": [],
     "prompt_number": 27
    },
    {
     "cell_type": "code",
     "collapsed": false,
     "input": [
      "returns['MSFT'].corr(returns.IBM)"
     ],
     "language": "python",
     "metadata": {},
     "outputs": [
      {
       "metadata": {},
       "output_type": "pyout",
       "prompt_number": 33,
       "text": [
        "0.54733651101636405"
       ]
      }
     ],
     "prompt_number": 33
    },
    {
     "cell_type": "code",
     "collapsed": false,
     "input": [
      "returns.corr()"
     ],
     "language": "python",
     "metadata": {},
     "outputs": [
      {
       "html": [
        "<div style=\"max-height:1000px;max-width:1500px;overflow:auto;\">\n",
        "<table border=\"1\" class=\"dataframe\">\n",
        "  <thead>\n",
        "    <tr style=\"text-align: right;\">\n",
        "      <th></th>\n",
        "      <th>AAPL</th>\n",
        "      <th>GOOGL</th>\n",
        "      <th>IBM</th>\n",
        "      <th>MSFT</th>\n",
        "    </tr>\n",
        "  </thead>\n",
        "  <tbody>\n",
        "    <tr>\n",
        "      <th>AAPL</th>\n",
        "      <td> 1.000000</td>\n",
        "      <td> 0.497667</td>\n",
        "      <td> 0.469916</td>\n",
        "      <td> 0.422331</td>\n",
        "    </tr>\n",
        "    <tr>\n",
        "      <th>GOOGL</th>\n",
        "      <td> 0.497667</td>\n",
        "      <td> 1.000000</td>\n",
        "      <td> 0.419900</td>\n",
        "      <td> 0.464830</td>\n",
        "    </tr>\n",
        "    <tr>\n",
        "      <th>IBM</th>\n",
        "      <td> 0.469916</td>\n",
        "      <td> 0.419900</td>\n",
        "      <td> 1.000000</td>\n",
        "      <td> 0.547337</td>\n",
        "    </tr>\n",
        "    <tr>\n",
        "      <th>MSFT</th>\n",
        "      <td> 0.422331</td>\n",
        "      <td> 0.464830</td>\n",
        "      <td> 0.547337</td>\n",
        "      <td> 1.000000</td>\n",
        "    </tr>\n",
        "  </tbody>\n",
        "</table>\n",
        "<p>4 rows \u00d7 4 columns</p>\n",
        "</div>"
       ],
       "metadata": {},
       "output_type": "pyout",
       "prompt_number": 34,
       "text": [
        "           AAPL     GOOGL       IBM      MSFT\n",
        "AAPL   1.000000  0.497667  0.469916  0.422331\n",
        "GOOGL  0.497667  1.000000  0.419900  0.464830\n",
        "IBM    0.469916  0.419900  1.000000  0.547337\n",
        "MSFT   0.422331  0.464830  0.547337  1.000000\n",
        "\n",
        "[4 rows x 4 columns]"
       ]
      }
     ],
     "prompt_number": 34
    },
    {
     "cell_type": "code",
     "collapsed": false,
     "input": [
      "returns.cov()"
     ],
     "language": "python",
     "metadata": {},
     "outputs": [
      {
       "html": [
        "<div style=\"max-height:1000px;max-width:1500px;overflow:auto;\">\n",
        "<table border=\"1\" class=\"dataframe\">\n",
        "  <thead>\n",
        "    <tr style=\"text-align: right;\">\n",
        "      <th></th>\n",
        "      <th>AAPL</th>\n",
        "      <th>GOOGL</th>\n",
        "      <th>IBM</th>\n",
        "      <th>MSFT</th>\n",
        "    </tr>\n",
        "  </thead>\n",
        "  <tbody>\n",
        "    <tr>\n",
        "      <th>AAPL</th>\n",
        "      <td> 0.000534</td>\n",
        "      <td> 0.000235</td>\n",
        "      <td> 0.000152</td>\n",
        "      <td> 0.000171</td>\n",
        "    </tr>\n",
        "    <tr>\n",
        "      <th>GOOGL</th>\n",
        "      <td> 0.000235</td>\n",
        "      <td> 0.000417</td>\n",
        "      <td> 0.000120</td>\n",
        "      <td> 0.000167</td>\n",
        "    </tr>\n",
        "    <tr>\n",
        "      <th>IBM</th>\n",
        "      <td> 0.000152</td>\n",
        "      <td> 0.000120</td>\n",
        "      <td> 0.000196</td>\n",
        "      <td> 0.000135</td>\n",
        "    </tr>\n",
        "    <tr>\n",
        "      <th>MSFT</th>\n",
        "      <td> 0.000171</td>\n",
        "      <td> 0.000167</td>\n",
        "      <td> 0.000135</td>\n",
        "      <td> 0.000309</td>\n",
        "    </tr>\n",
        "  </tbody>\n",
        "</table>\n",
        "<p>4 rows \u00d7 4 columns</p>\n",
        "</div>"
       ],
       "metadata": {},
       "output_type": "pyout",
       "prompt_number": 35,
       "text": [
        "           AAPL     GOOGL       IBM      MSFT\n",
        "AAPL   0.000534  0.000235  0.000152  0.000171\n",
        "GOOGL  0.000235  0.000417  0.000120  0.000167\n",
        "IBM    0.000152  0.000120  0.000196  0.000135\n",
        "MSFT   0.000171  0.000167  0.000135  0.000309\n",
        "\n",
        "[4 rows x 4 columns]"
       ]
      }
     ],
     "prompt_number": 35
    },
    {
     "cell_type": "code",
     "collapsed": false,
     "input": [
      "returns.corrwith(returns.IBM)"
     ],
     "language": "python",
     "metadata": {},
     "outputs": [
      {
       "metadata": {},
       "output_type": "pyout",
       "prompt_number": 36,
       "text": [
        "AAPL     0.469916\n",
        "GOOGL    0.419900\n",
        "IBM      1.000000\n",
        "MSFT     0.547337\n",
        "dtype: float64"
       ]
      }
     ],
     "prompt_number": 36
    },
    {
     "cell_type": "code",
     "collapsed": false,
     "input": [
      "returns.corrwith(volume)"
     ],
     "language": "python",
     "metadata": {},
     "outputs": [
      {
       "metadata": {},
       "output_type": "pyout",
       "prompt_number": 37,
       "text": [
        "AAPL    -0.023151\n",
        "GOOGL    0.019077\n",
        "IBM     -0.024547\n",
        "MSFT    -0.078535\n",
        "dtype: float64"
       ]
      }
     ],
     "prompt_number": 37
    },
    {
     "cell_type": "code",
     "collapsed": false,
     "input": [
      "obj = Series(['c','a','d','a','a','b','b','c','c'])"
     ],
     "language": "python",
     "metadata": {},
     "outputs": [],
     "prompt_number": 38
    },
    {
     "cell_type": "code",
     "collapsed": false,
     "input": [
      "uniques = obj.unique()\n",
      "uniques"
     ],
     "language": "python",
     "metadata": {},
     "outputs": [
      {
       "metadata": {},
       "output_type": "pyout",
       "prompt_number": 55,
       "text": [
        "array(['c', 'a', 'd', 'b'], dtype=object)"
       ]
      }
     ],
     "prompt_number": 55
    },
    {
     "cell_type": "code",
     "collapsed": false,
     "input": [
      "obj.value_counts()\n"
     ],
     "language": "python",
     "metadata": {},
     "outputs": [
      {
       "metadata": {},
       "output_type": "pyout",
       "prompt_number": 56,
       "text": [
        "c    3\n",
        "a    3\n",
        "b    2\n",
        "d    1\n",
        "dtype: int64"
       ]
      }
     ],
     "prompt_number": 56
    },
    {
     "cell_type": "code",
     "collapsed": false,
     "input": [
      "pd.value_counts(obj.values,sort=False)"
     ],
     "language": "python",
     "metadata": {},
     "outputs": [
      {
       "metadata": {},
       "output_type": "pyout",
       "prompt_number": 60,
       "text": [
        "a    3\n",
        "c    3\n",
        "b    2\n",
        "d    1\n",
        "dtype: int64"
       ]
      }
     ],
     "prompt_number": 60
    },
    {
     "cell_type": "code",
     "collapsed": false,
     "input": [
      "obj"
     ],
     "language": "python",
     "metadata": {},
     "outputs": [
      {
       "metadata": {},
       "output_type": "pyout",
       "prompt_number": 59,
       "text": [
        "0    c\n",
        "1    a\n",
        "2    d\n",
        "3    a\n",
        "4    a\n",
        "5    b\n",
        "6    b\n",
        "7    c\n",
        "8    c\n",
        "dtype: object"
       ]
      }
     ],
     "prompt_number": 59
    },
    {
     "cell_type": "code",
     "collapsed": false,
     "input": [
      "data = DataFrame({'Q1': [1,3,4,3,4],'Q2' : [2,3,1,2,3], 'Q3' : [1,5,2,4,4]})"
     ],
     "language": "python",
     "metadata": {},
     "outputs": [],
     "prompt_number": 62
    },
    {
     "cell_type": "code",
     "collapsed": false,
     "input": [
      "result = data.apply(pd.value_counts).fillna(0)\n",
      "result"
     ],
     "language": "python",
     "metadata": {},
     "outputs": [
      {
       "html": [
        "<div style=\"max-height:1000px;max-width:1500px;overflow:auto;\">\n",
        "<table border=\"1\" class=\"dataframe\">\n",
        "  <thead>\n",
        "    <tr style=\"text-align: right;\">\n",
        "      <th></th>\n",
        "      <th>Q1</th>\n",
        "      <th>Q2</th>\n",
        "      <th>Q3</th>\n",
        "    </tr>\n",
        "  </thead>\n",
        "  <tbody>\n",
        "    <tr>\n",
        "      <th>1</th>\n",
        "      <td> 1</td>\n",
        "      <td> 1</td>\n",
        "      <td> 1</td>\n",
        "    </tr>\n",
        "    <tr>\n",
        "      <th>2</th>\n",
        "      <td>-1</td>\n",
        "      <td> 2</td>\n",
        "      <td> 1</td>\n",
        "    </tr>\n",
        "    <tr>\n",
        "      <th>3</th>\n",
        "      <td> 2</td>\n",
        "      <td> 2</td>\n",
        "      <td>-1</td>\n",
        "    </tr>\n",
        "    <tr>\n",
        "      <th>4</th>\n",
        "      <td> 2</td>\n",
        "      <td>-1</td>\n",
        "      <td> 2</td>\n",
        "    </tr>\n",
        "    <tr>\n",
        "      <th>5</th>\n",
        "      <td>-1</td>\n",
        "      <td>-1</td>\n",
        "      <td> 1</td>\n",
        "    </tr>\n",
        "  </tbody>\n",
        "</table>\n",
        "<p>5 rows \u00d7 3 columns</p>\n",
        "</div>"
       ],
       "metadata": {},
       "output_type": "pyout",
       "prompt_number": 69,
       "text": [
        "   Q1  Q2  Q3\n",
        "1   1   1   1\n",
        "2  -1   2   1\n",
        "3   2   2  -1\n",
        "4   2  -1   2\n",
        "5  -1  -1   1\n",
        "\n",
        "[5 rows x 3 columns]"
       ]
      }
     ],
     "prompt_number": 69
    },
    {
     "cell_type": "code",
     "collapsed": false,
     "input": [
      "\n",
      "plt.hist(data.Q1,label=\"Q1\",alpha=0.3)\n",
      "plt.hist(data.Q2,label=\"Q2\",color=\"red\",alpha=0.3)\n",
      "plt.legent()"
     ],
     "language": "python",
     "metadata": {},
     "outputs": [
      {
       "ename": "AttributeError",
       "evalue": "'module' object has no attribute 'legent'",
       "output_type": "pyerr",
       "traceback": [
        "\u001b[0;31m---------------------------------------------------------------------------\u001b[0m\n\u001b[0;31mAttributeError\u001b[0m                            Traceback (most recent call last)",
        "\u001b[0;32m<ipython-input-86-342efdd6f254>\u001b[0m in \u001b[0;36m<module>\u001b[0;34m()\u001b[0m\n\u001b[1;32m      2\u001b[0m \u001b[0mplt\u001b[0m\u001b[0;34m.\u001b[0m\u001b[0mhist\u001b[0m\u001b[0;34m(\u001b[0m\u001b[0mdata\u001b[0m\u001b[0;34m.\u001b[0m\u001b[0mQ1\u001b[0m\u001b[0;34m,\u001b[0m\u001b[0mlabel\u001b[0m\u001b[0;34m=\u001b[0m\u001b[0;34m\"Q1\"\u001b[0m\u001b[0;34m,\u001b[0m\u001b[0malpha\u001b[0m\u001b[0;34m=\u001b[0m\u001b[0;36m0.3\u001b[0m\u001b[0;34m)\u001b[0m\u001b[0;34m\u001b[0m\u001b[0m\n\u001b[1;32m      3\u001b[0m \u001b[0mplt\u001b[0m\u001b[0;34m.\u001b[0m\u001b[0mhist\u001b[0m\u001b[0;34m(\u001b[0m\u001b[0mdata\u001b[0m\u001b[0;34m.\u001b[0m\u001b[0mQ2\u001b[0m\u001b[0;34m,\u001b[0m\u001b[0mlabel\u001b[0m\u001b[0;34m=\u001b[0m\u001b[0;34m\"Q2\"\u001b[0m\u001b[0;34m,\u001b[0m\u001b[0mcolor\u001b[0m\u001b[0;34m=\u001b[0m\u001b[0;34m\"red\"\u001b[0m\u001b[0;34m,\u001b[0m\u001b[0malpha\u001b[0m\u001b[0;34m=\u001b[0m\u001b[0;36m0.3\u001b[0m\u001b[0;34m)\u001b[0m\u001b[0;34m\u001b[0m\u001b[0m\n\u001b[0;32m----> 4\u001b[0;31m \u001b[0mplt\u001b[0m\u001b[0;34m.\u001b[0m\u001b[0mlegent\u001b[0m\u001b[0;34m(\u001b[0m\u001b[0;34m)\u001b[0m\u001b[0;34m\u001b[0m\u001b[0m\n\u001b[0m",
        "\u001b[0;31mAttributeError\u001b[0m: 'module' object has no attribute 'legent'"
       ]
      },
      {
       "metadata": {},
       "output_type": "display_data",
       "png": "[encoded data removed]",
       "text": [
        "<matplotlib.figure.Figure at 0x105f6ded0>"
       ]
      }
     ],
     "prompt_number": 86
    },
    {
     "cell_type": "code",
     "collapsed": false,
     "input": [
      "data1 = DataFrame({'Q1' : np.random.binomial(500,.5,100),'Q2' : np.random.binomial(500,.5,100)-1})"
     ],
     "language": "python",
     "metadata": {},
     "outputs": [],
     "prompt_number": 97
    },
    {
     "cell_type": "code",
     "collapsed": false,
     "input": [
      "plt.hist(data1.Q1,color=\"blue\",alpha=0.3,bins=100)\n",
      "plt.hist(data1.Q2,color=\"red\",alpha=0.3,bins=100)"
     ],
     "language": "python",
     "metadata": {},
     "outputs": [
      {
       "metadata": {},
       "output_type": "pyout",
       "prompt_number": 99,
       "text": [
        "(array([ 1.,  0.,  0.,  1.,  0.,  0.,  0.,  0.,  0.,  0.,  0.,  0.,  1.,\n",
        "         1.,  0.,  1.,  0.,  0.,  0.,  0.,  1.,  0.,  2.,  0.,  0.,  3.,\n",
        "         0.,  0.,  0.,  6.,  0.,  4.,  3.,  0.,  2.,  0.,  3.,  1.,  0.,\n",
        "         3.,  0.,  5.,  0.,  2.,  2.,  0.,  4.,  0.,  5.,  0.,  0.,  4.,\n",
        "         0.,  5.,  0.,  3.,  2.,  0.,  5.,  0.,  5.,  0.,  2.,  5.,  0.,\n",
        "         3.,  0.,  1.,  1.,  0.,  2.,  0.,  3.,  0.,  1.,  0.,  0.,  1.,\n",
        "         0.,  1.,  0.,  1.,  1.,  0.,  0.,  0.,  0.,  0.,  0.,  0.,  0.,\n",
        "         0.,  0.,  0.,  1.,  0.,  0.,  0.,  1.,  1.]),\n",
        " array([ 220.  ,  220.58,  221.16,  221.74,  222.32,  222.9 ,  223.48,\n",
        "         224.06,  224.64,  225.22,  225.8 ,  226.38,  226.96,  227.54,\n",
        "         228.12,  228.7 ,  229.28,  229.86,  230.44,  231.02,  231.6 ,\n",
        "         232.18,  232.76,  233.34,  233.92,  234.5 ,  235.08,  235.66,\n",
        "         236.24,  236.82,  237.4 ,  237.98,  238.56,  239.14,  239.72,\n",
        "         240.3 ,  240.88,  241.46,  242.04,  242.62,  243.2 ,  243.78,\n",
        "         244.36,  244.94,  245.52,  246.1 ,  246.68,  247.26,  247.84,\n",
        "         248.42,  249.  ,  249.58,  250.16,  250.74,  251.32,  251.9 ,\n",
        "         252.48,  253.06,  253.64,  254.22,  254.8 ,  255.38,  255.96,\n",
        "         256.54,  257.12,  257.7 ,  258.28,  258.86,  259.44,  260.02,\n",
        "         260.6 ,  261.18,  261.76,  262.34,  262.92,  263.5 ,  264.08,\n",
        "         264.66,  265.24,  265.82,  266.4 ,  266.98,  267.56,  268.14,\n",
        "         268.72,  269.3 ,  269.88,  270.46,  271.04,  271.62,  272.2 ,\n",
        "         272.78,  273.36,  273.94,  274.52,  275.1 ,  275.68,  276.26,\n",
        "         276.84,  277.42,  278.  ]),\n",
        " <a list of 100 Patch objects>)"
       ]
      },
      {
       "metadata": {},
       "output_type": "display_data",
       "png": "[encoded data removed]",
       "text": [
        "<matplotlib.figure.Figure at 0x106917ad0>"
       ]
      }
     ],
     "prompt_number": 99
    },
    {
     "cell_type": "code",
     "collapsed": false,
     "input": [
      "from numpy import nan as NA"
     ],
     "language": "python",
     "metadata": {},
     "outputs": [],
     "prompt_number": 101
    },
    {
     "cell_type": "code",
     "collapsed": false,
     "input": [
      "data = Series([1,NA,3.5,NA,7])"
     ],
     "language": "python",
     "metadata": {},
     "outputs": [],
     "prompt_number": 102
    },
    {
     "cell_type": "code",
     "collapsed": false,
     "input": [
      "data.dropna()"
     ],
     "language": "python",
     "metadata": {},
     "outputs": [
      {
       "metadata": {},
       "output_type": "pyout",
       "prompt_number": 104,
       "text": [
        "0    1.0\n",
        "2    3.5\n",
        "4    7.0\n",
        "dtype: float64"
       ]
      }
     ],
     "prompt_number": 104
    },
    {
     "cell_type": "code",
     "collapsed": false,
     "input": [
      "data[data.notnull()]"
     ],
     "language": "python",
     "metadata": {},
     "outputs": [
      {
       "metadata": {},
       "output_type": "pyout",
       "prompt_number": 106,
       "text": [
        "0    1.0\n",
        "2    3.5\n",
        "4    7.0\n",
        "dtype: float64"
       ]
      }
     ],
     "prompt_number": 106
    },
    {
     "cell_type": "heading",
     "level": 1,
     "metadata": {},
     "source": [
      "Hierarchical Indexing"
     ]
    },
    {
     "cell_type": "code",
     "collapsed": false,
     "input": [
      "data = Series(np.random.randn(10),index=[['a','a','a','b','b','b','c','c','d','d'],[1,2,3,1,2,3,1,2,2,3]])"
     ],
     "language": "python",
     "metadata": {},
     "outputs": [],
     "prompt_number": 107
    },
    {
     "cell_type": "code",
     "collapsed": false,
     "input": [
      "data"
     ],
     "language": "python",
     "metadata": {},
     "outputs": [
      {
       "metadata": {},
       "output_type": "pyout",
       "prompt_number": 108,
       "text": [
        "a  1    0.738829\n",
        "   2    2.428568\n",
        "   3    1.568136\n",
        "b  1   -0.534937\n",
        "   2    0.635460\n",
        "   3   -0.789229\n",
        "c  1    0.286869\n",
        "   2   -0.667508\n",
        "d  2    1.032462\n",
        "   3   -0.548956\n",
        "dtype: float64"
       ]
      }
     ],
     "prompt_number": 108
    },
    {
     "cell_type": "code",
     "collapsed": false,
     "input": [
      "data.index"
     ],
     "language": "python",
     "metadata": {},
     "outputs": [
      {
       "metadata": {},
       "output_type": "pyout",
       "prompt_number": 110,
       "text": [
        "MultiIndex(levels=[[u'a', u'b', u'c', u'd'], [1, 2, 3]],\n",
        "           labels=[[0, 0, 0, 1, 1, 1, 2, 2, 3, 3], [0, 1, 2, 0, 1, 2, 0, 1, 1, 2]])"
       ]
      }
     ],
     "prompt_number": 110
    },
    {
     "cell_type": "code",
     "collapsed": false,
     "input": [
      "data['b']"
     ],
     "language": "python",
     "metadata": {},
     "outputs": [
      {
       "metadata": {},
       "output_type": "pyout",
       "prompt_number": 111,
       "text": [
        "1   -0.534937\n",
        "2    0.635460\n",
        "3   -0.789229\n",
        "dtype: float64"
       ]
      }
     ],
     "prompt_number": 111
    },
    {
     "cell_type": "code",
     "collapsed": false,
     "input": [
      "data.ix[['b','d']]"
     ],
     "language": "python",
     "metadata": {},
     "outputs": [
      {
       "metadata": {},
       "output_type": "pyout",
       "prompt_number": 115,
       "text": [
        "b  1   -0.534937\n",
        "   2    0.635460\n",
        "   3   -0.789229\n",
        "d  2    1.032462\n",
        "   3   -0.548956\n",
        "dtype: float64"
       ]
      }
     ],
     "prompt_number": 115
    },
    {
     "cell_type": "code",
     "collapsed": false,
     "input": [
      "data[:,2]"
     ],
     "language": "python",
     "metadata": {},
     "outputs": [
      {
       "metadata": {},
       "output_type": "pyout",
       "prompt_number": 116,
       "text": [
        "a    2.428568\n",
        "b    0.635460\n",
        "c   -0.667508\n",
        "d    1.032462\n",
        "dtype: float64"
       ]
      }
     ],
     "prompt_number": 116
    },
    {
     "cell_type": "code",
     "collapsed": false,
     "input": [
      "data.unstack()"
     ],
     "language": "python",
     "metadata": {},
     "outputs": [
      {
       "html": [
        "<div style=\"max-height:1000px;max-width:1500px;overflow:auto;\">\n",
        "<table border=\"1\" class=\"dataframe\">\n",
        "  <thead>\n",
        "    <tr style=\"text-align: right;\">\n",
        "      <th></th>\n",
        "      <th>1</th>\n",
        "      <th>2</th>\n",
        "      <th>3</th>\n",
        "    </tr>\n",
        "  </thead>\n",
        "  <tbody>\n",
        "    <tr>\n",
        "      <th>a</th>\n",
        "      <td> 0.738829</td>\n",
        "      <td> 2.428568</td>\n",
        "      <td> 1.568136</td>\n",
        "    </tr>\n",
        "    <tr>\n",
        "      <th>b</th>\n",
        "      <td>-0.534937</td>\n",
        "      <td> 0.635460</td>\n",
        "      <td>-0.789229</td>\n",
        "    </tr>\n",
        "    <tr>\n",
        "      <th>c</th>\n",
        "      <td> 0.286869</td>\n",
        "      <td>-0.667508</td>\n",
        "      <td>      NaN</td>\n",
        "    </tr>\n",
        "    <tr>\n",
        "      <th>d</th>\n",
        "      <td>      NaN</td>\n",
        "      <td> 1.032462</td>\n",
        "      <td>-0.548956</td>\n",
        "    </tr>\n",
        "  </tbody>\n",
        "</table>\n",
        "<p>4 rows \u00d7 3 columns</p>\n",
        "</div>"
       ],
       "metadata": {},
       "output_type": "pyout",
       "prompt_number": 117,
       "text": [
        "          1         2         3\n",
        "a  0.738829  2.428568  1.568136\n",
        "b -0.534937  0.635460 -0.789229\n",
        "c  0.286869 -0.667508       NaN\n",
        "d       NaN  1.032462 -0.548956\n",
        "\n",
        "[4 rows x 3 columns]"
       ]
      }
     ],
     "prompt_number": 117
    },
    {
     "cell_type": "code",
     "collapsed": false,
     "input": [
      "data.unstack().stack()"
     ],
     "language": "python",
     "metadata": {},
     "outputs": [
      {
       "metadata": {},
       "output_type": "pyout",
       "prompt_number": 118,
       "text": [
        "a  1    0.738829\n",
        "   2    2.428568\n",
        "   3    1.568136\n",
        "b  1   -0.534937\n",
        "   2    0.635460\n",
        "   3   -0.789229\n",
        "c  1    0.286869\n",
        "   2   -0.667508\n",
        "d  2    1.032462\n",
        "   3   -0.548956\n",
        "dtype: float64"
       ]
      }
     ],
     "prompt_number": 118
    },
    {
     "cell_type": "code",
     "collapsed": false,
     "input": [
      "data.index.names = ['key1','key2']"
     ],
     "language": "python",
     "metadata": {},
     "outputs": [],
     "prompt_number": 120
    },
    {
     "cell_type": "code",
     "collapsed": false,
     "input": [
      "data.index.names"
     ],
     "language": "python",
     "metadata": {},
     "outputs": [
      {
       "metadata": {},
       "output_type": "pyout",
       "prompt_number": 121,
       "text": [
        "FrozenList([u'key1', u'key2'])"
       ]
      }
     ],
     "prompt_number": 121
    },
    {
     "cell_type": "code",
     "collapsed": false,
     "input": [
      "data.swaplevel('key1','key2')"
     ],
     "language": "python",
     "metadata": {},
     "outputs": [
      {
       "metadata": {},
       "output_type": "pyout",
       "prompt_number": 122,
       "text": [
        "key2  key1\n",
        "1     a       0.738829\n",
        "2     a       2.428568\n",
        "3     a       1.568136\n",
        "1     b      -0.534937\n",
        "2     b       0.635460\n",
        "3     b      -0.789229\n",
        "1     c       0.286869\n",
        "2     c      -0.667508\n",
        "      d       1.032462\n",
        "3     d      -0.548956\n",
        "dtype: float64"
       ]
      }
     ],
     "prompt_number": 122
    },
    {
     "cell_type": "code",
     "collapsed": false,
     "input": [
      "data.swaplevel('key1','key2').sortlevel(1,0)"
     ],
     "language": "python",
     "metadata": {},
     "outputs": [
      {
       "metadata": {},
       "output_type": "pyout",
       "prompt_number": 135,
       "text": [
        "key2  key1\n",
        "3     d      -0.548956\n",
        "2     d       1.032462\n",
        "      c      -0.667508\n",
        "1     c       0.286869\n",
        "3     b      -0.789229\n",
        "2     b       0.635460\n",
        "1     b      -0.534937\n",
        "3     a       1.568136\n",
        "2     a       2.428568\n",
        "1     a       0.738829\n",
        "dtype: float64"
       ]
      }
     ],
     "prompt_number": 135
    },
    {
     "cell_type": "code",
     "collapsed": false,
     "input": [
      "data.sum(level='key2')"
     ],
     "language": "python",
     "metadata": {},
     "outputs": [
      {
       "metadata": {},
       "output_type": "pyout",
       "prompt_number": 138,
       "text": [
        "key2\n",
        "1       0.490762\n",
        "2       3.428982\n",
        "3       0.229952\n",
        "dtype: float64"
       ]
      }
     ],
     "prompt_number": 138
    },
    {
     "cell_type": "code",
     "collapsed": false,
     "input": [],
     "language": "python",
     "metadata": {},
     "outputs": [],
     "prompt_number": 139
    },
    {
     "cell_type": "code",
     "collapsed": false,
     "input": [
      "import pandas.io.data as web\n",
      "stocks = ['AAPL','GOOGL','MSFT','NFLX','MTB','AMZN','SPY']\n",
      "pdata = pd.Panel(dict((stk,web.get_data_yahoo(stk,'1/1/2010','1/1/2014')) for stk in stocks))\n",
      "stacked = pdata.ix[:,'5/30/2012':,:].to_frame()\n",
      "stocks = pdata.to_frame().stack()\n",
      "stocks.index.names = ['Date','Variable','Stock']\n",
      "stocks1 = stocks.unstack()\n",
      "stocks2=stocks1.xs('Adj Close',level='Variable')\n",
      "growth = stocks2.div( stocks2.ix[0])*100\n",
      "growth.applymap(lambda x : '%.1f' % x)"
     ],
     "language": "python",
     "metadata": {},
     "outputs": [
      {
       "html": [
        "<div style=\"max-height:1000px;max-width:1500px;overflow:auto;\">\n",
        "<table border=\"1\" class=\"dataframe\">\n",
        "  <thead>\n",
        "    <tr style=\"text-align: right;\">\n",
        "      <th>Stock</th>\n",
        "      <th>AAPL</th>\n",
        "      <th>AMZN</th>\n",
        "      <th>GOOGL</th>\n",
        "      <th>MSFT</th>\n",
        "      <th>MTB</th>\n",
        "      <th>NFLX</th>\n",
        "      <th>SPY</th>\n",
        "    </tr>\n",
        "    <tr>\n",
        "      <th>Date</th>\n",
        "      <th></th>\n",
        "      <th></th>\n",
        "      <th></th>\n",
        "      <th></th>\n",
        "      <th></th>\n",
        "      <th></th>\n",
        "      <th></th>\n",
        "    </tr>\n",
        "  </thead>\n",
        "  <tbody>\n",
        "    <tr>\n",
        "      <th>2010-01-04</th>\n",
        "      <td> 100.0</td>\n",
        "      <td> 100.0</td>\n",
        "      <td> 100.0</td>\n",
        "      <td> 100.0</td>\n",
        "      <td> 100.0</td>\n",
        "      <td> 100.0</td>\n",
        "      <td> 100.0</td>\n",
        "    </tr>\n",
        "    <tr>\n",
        "      <th>2010-01-05</th>\n",
        "      <td> 100.2</td>\n",
        "      <td> 100.6</td>\n",
        "      <td>  99.6</td>\n",
        "      <td> 100.0</td>\n",
        "      <td> 101.8</td>\n",
        "      <td>  96.3</td>\n",
        "      <td> 100.3</td>\n",
        "    </tr>\n",
        "    <tr>\n",
        "      <th>2010-01-06</th>\n",
        "      <td>  98.6</td>\n",
        "      <td>  98.8</td>\n",
        "      <td>  97.0</td>\n",
        "      <td>  99.4</td>\n",
        "      <td> 105.2</td>\n",
        "      <td>  99.7</td>\n",
        "      <td> 100.3</td>\n",
        "    </tr>\n",
        "    <tr>\n",
        "      <th>2010-01-07</th>\n",
        "      <td>  98.4</td>\n",
        "      <td>  97.1</td>\n",
        "      <td>  94.8</td>\n",
        "      <td>  98.4</td>\n",
        "      <td> 109.1</td>\n",
        "      <td>  98.0</td>\n",
        "      <td> 100.8</td>\n",
        "    </tr>\n",
        "    <tr>\n",
        "      <th>2010-01-08</th>\n",
        "      <td>  99.0</td>\n",
        "      <td>  99.7</td>\n",
        "      <td>  96.1</td>\n",
        "      <td>  99.0</td>\n",
        "      <td> 110.2</td>\n",
        "      <td>  99.7</td>\n",
        "      <td> 101.1</td>\n",
        "    </tr>\n",
        "    <tr>\n",
        "      <th>2010-01-11</th>\n",
        "      <td>  98.2</td>\n",
        "      <td>  97.3</td>\n",
        "      <td>  95.9</td>\n",
        "      <td>  97.8</td>\n",
        "      <td> 109.2</td>\n",
        "      <td>  99.5</td>\n",
        "      <td> 101.2</td>\n",
        "    </tr>\n",
        "    <tr>\n",
        "      <th>2010-01-12</th>\n",
        "      <td>  97.0</td>\n",
        "      <td>  95.1</td>\n",
        "      <td>  94.2</td>\n",
        "      <td>  97.1</td>\n",
        "      <td> 107.0</td>\n",
        "      <td>  97.9</td>\n",
        "      <td> 100.3</td>\n",
        "    </tr>\n",
        "    <tr>\n",
        "      <th>2010-01-13</th>\n",
        "      <td>  98.4</td>\n",
        "      <td>  96.4</td>\n",
        "      <td>  93.7</td>\n",
        "      <td>  98.1</td>\n",
        "      <td> 109.9</td>\n",
        "      <td> 100.9</td>\n",
        "      <td> 101.1</td>\n",
        "    </tr>\n",
        "    <tr>\n",
        "      <th>2010-01-14</th>\n",
        "      <td>  97.9</td>\n",
        "      <td>  95.1</td>\n",
        "      <td>  94.1</td>\n",
        "      <td> 100.0</td>\n",
        "      <td> 112.4</td>\n",
        "      <td>  95.3</td>\n",
        "      <td> 101.4</td>\n",
        "    </tr>\n",
        "    <tr>\n",
        "      <th>2010-01-15</th>\n",
        "      <td>  96.2</td>\n",
        "      <td>  95.0</td>\n",
        "      <td>  92.5</td>\n",
        "      <td>  99.7</td>\n",
        "      <td> 109.2</td>\n",
        "      <td>  95.3</td>\n",
        "      <td> 100.3</td>\n",
        "    </tr>\n",
        "    <tr>\n",
        "      <th>2010-01-19</th>\n",
        "      <td> 100.5</td>\n",
        "      <td>  95.3</td>\n",
        "      <td>  93.8</td>\n",
        "      <td> 100.5</td>\n",
        "      <td> 111.5</td>\n",
        "      <td>  95.7</td>\n",
        "      <td> 101.5</td>\n",
        "    </tr>\n",
        "    <tr>\n",
        "      <th>2010-01-20</th>\n",
        "      <td>  98.9</td>\n",
        "      <td>  93.9</td>\n",
        "      <td>  92.6</td>\n",
        "      <td>  98.8</td>\n",
        "      <td> 115.9</td>\n",
        "      <td>  95.8</td>\n",
        "      <td> 100.5</td>\n",
        "    </tr>\n",
        "    <tr>\n",
        "      <th>2010-01-21</th>\n",
        "      <td>  97.2</td>\n",
        "      <td>  94.6</td>\n",
        "      <td>  93.0</td>\n",
        "      <td>  97.0</td>\n",
        "      <td> 117.3</td>\n",
        "      <td>  95.7</td>\n",
        "      <td>  98.6</td>\n",
        "    </tr>\n",
        "    <tr>\n",
        "      <th>2010-01-22</th>\n",
        "      <td>  92.4</td>\n",
        "      <td>  90.7</td>\n",
        "      <td>  87.8</td>\n",
        "      <td>  93.6</td>\n",
        "      <td> 112.8</td>\n",
        "      <td>  95.2</td>\n",
        "      <td>  96.4</td>\n",
        "    </tr>\n",
        "    <tr>\n",
        "      <th>2010-01-25</th>\n",
        "      <td>  94.9</td>\n",
        "      <td>  89.9</td>\n",
        "      <td>  86.2</td>\n",
        "      <td>  94.7</td>\n",
        "      <td> 111.9</td>\n",
        "      <td>  91.9</td>\n",
        "      <td>  96.9</td>\n",
        "    </tr>\n",
        "    <tr>\n",
        "      <th>2010-01-26</th>\n",
        "      <td>  96.2</td>\n",
        "      <td>  89.2</td>\n",
        "      <td>  86.5</td>\n",
        "      <td>  95.3</td>\n",
        "      <td> 110.0</td>\n",
        "      <td>  93.4</td>\n",
        "      <td>  96.5</td>\n",
        "    </tr>\n",
        "    <tr>\n",
        "      <th>2010-01-27</th>\n",
        "      <td>  97.1</td>\n",
        "      <td>  91.7</td>\n",
        "      <td>  86.5</td>\n",
        "      <td>  95.9</td>\n",
        "      <td> 113.9</td>\n",
        "      <td>  95.3</td>\n",
        "      <td>  96.9</td>\n",
        "    </tr>\n",
        "    <tr>\n",
        "      <th>2010-01-28</th>\n",
        "      <td>  93.1</td>\n",
        "      <td>  94.1</td>\n",
        "      <td>  85.2</td>\n",
        "      <td>  94.2</td>\n",
        "      <td> 113.0</td>\n",
        "      <td> 117.9</td>\n",
        "      <td>  95.8</td>\n",
        "    </tr>\n",
        "    <tr>\n",
        "      <th>2010-01-29</th>\n",
        "      <td>  89.8</td>\n",
        "      <td>  93.7</td>\n",
        "      <td>  84.6</td>\n",
        "      <td>  91.0</td>\n",
        "      <td> 110.1</td>\n",
        "      <td> 116.4</td>\n",
        "      <td>  94.8</td>\n",
        "    </tr>\n",
        "    <tr>\n",
        "      <th>2010-02-01</th>\n",
        "      <td>  91.0</td>\n",
        "      <td>  88.8</td>\n",
        "      <td>  85.0</td>\n",
        "      <td>  91.8</td>\n",
        "      <td> 111.8</td>\n",
        "      <td> 114.1</td>\n",
        "      <td>  96.2</td>\n",
        "    </tr>\n",
        "    <tr>\n",
        "      <th>2010-02-02</th>\n",
        "      <td>  91.5</td>\n",
        "      <td>  88.2</td>\n",
        "      <td>  84.7</td>\n",
        "      <td>  91.9</td>\n",
        "      <td> 111.9</td>\n",
        "      <td> 115.7</td>\n",
        "      <td>  97.4</td>\n",
        "    </tr>\n",
        "    <tr>\n",
        "      <th>2010-02-03</th>\n",
        "      <td>  93.1</td>\n",
        "      <td>  88.9</td>\n",
        "      <td>  86.3</td>\n",
        "      <td>  92.5</td>\n",
        "      <td> 107.7</td>\n",
        "      <td> 115.8</td>\n",
        "      <td>  96.9</td>\n",
        "    </tr>\n",
        "    <tr>\n",
        "      <th>2010-02-04</th>\n",
        "      <td>  89.7</td>\n",
        "      <td>  86.6</td>\n",
        "      <td>  84.0</td>\n",
        "      <td>  89.9</td>\n",
        "      <td> 105.4</td>\n",
        "      <td> 112.8</td>\n",
        "      <td>  93.9</td>\n",
        "    </tr>\n",
        "    <tr>\n",
        "      <th>2010-02-05</th>\n",
        "      <td>  91.3</td>\n",
        "      <td>  87.7</td>\n",
        "      <td>  84.8</td>\n",
        "      <td>  90.5</td>\n",
        "      <td> 108.5</td>\n",
        "      <td> 113.8</td>\n",
        "      <td>  94.1</td>\n",
        "    </tr>\n",
        "    <tr>\n",
        "      <th>2010-02-08</th>\n",
        "      <td>  90.7</td>\n",
        "      <td>  87.3</td>\n",
        "      <td>  85.1</td>\n",
        "      <td>  89.6</td>\n",
        "      <td> 106.4</td>\n",
        "      <td> 113.9</td>\n",
        "      <td>  93.4</td>\n",
        "    </tr>\n",
        "    <tr>\n",
        "      <th>2010-02-09</th>\n",
        "      <td>  91.7</td>\n",
        "      <td>  88.1</td>\n",
        "      <td>  85.6</td>\n",
        "      <td>  90.5</td>\n",
        "      <td> 107.4</td>\n",
        "      <td> 116.2</td>\n",
        "      <td>  94.6</td>\n",
        "    </tr>\n",
        "    <tr>\n",
        "      <th>2010-02-10</th>\n",
        "      <td>  91.2</td>\n",
        "      <td>  87.6</td>\n",
        "      <td>  85.3</td>\n",
        "      <td>  90.4</td>\n",
        "      <td> 108.5</td>\n",
        "      <td> 115.0</td>\n",
        "      <td>  94.4</td>\n",
        "    </tr>\n",
        "    <tr>\n",
        "      <th>2010-02-11</th>\n",
        "      <td>  92.8</td>\n",
        "      <td>  89.7</td>\n",
        "      <td>  85.6</td>\n",
        "      <td>  90.8</td>\n",
        "      <td> 108.0</td>\n",
        "      <td> 118.5</td>\n",
        "      <td>  95.4</td>\n",
        "    </tr>\n",
        "    <tr>\n",
        "      <th>2010-02-12</th>\n",
        "      <td>  93.6</td>\n",
        "      <td>  89.4</td>\n",
        "      <td>  85.1</td>\n",
        "      <td>  90.2</td>\n",
        "      <td> 107.6</td>\n",
        "      <td> 118.1</td>\n",
        "      <td>  95.3</td>\n",
        "    </tr>\n",
        "    <tr>\n",
        "      <th>2010-02-16</th>\n",
        "      <td>  95.0</td>\n",
        "      <td>  87.8</td>\n",
        "      <td>  86.4</td>\n",
        "      <td>  92.0</td>\n",
        "      <td> 112.1</td>\n",
        "      <td> 121.3</td>\n",
        "      <td>  96.8</td>\n",
        "    </tr>\n",
        "    <tr>\n",
        "      <th>2010-02-17</th>\n",
        "      <td>  94.6</td>\n",
        "      <td>  86.9</td>\n",
        "      <td>  85.9</td>\n",
        "      <td>  92.8</td>\n",
        "      <td> 111.2</td>\n",
        "      <td> 120.6</td>\n",
        "      <td>  97.3</td>\n",
        "    </tr>\n",
        "    <tr>\n",
        "      <th>2010-02-18</th>\n",
        "      <td>  94.8</td>\n",
        "      <td>  88.2</td>\n",
        "      <td>  86.7</td>\n",
        "      <td>  94.0</td>\n",
        "      <td> 112.6</td>\n",
        "      <td> 123.6</td>\n",
        "      <td>  97.9</td>\n",
        "    </tr>\n",
        "    <tr>\n",
        "      <th>2010-02-19</th>\n",
        "      <td>  94.2</td>\n",
        "      <td>  87.8</td>\n",
        "      <td>  86.3</td>\n",
        "      <td>  93.4</td>\n",
        "      <td> 114.3</td>\n",
        "      <td> 124.6</td>\n",
        "      <td>  98.1</td>\n",
        "    </tr>\n",
        "    <tr>\n",
        "      <th>2010-02-22</th>\n",
        "      <td>  93.6</td>\n",
        "      <td>  88.1</td>\n",
        "      <td>  86.6</td>\n",
        "      <td>  93.3</td>\n",
        "      <td> 116.5</td>\n",
        "      <td> 122.0</td>\n",
        "      <td>  98.1</td>\n",
        "    </tr>\n",
        "    <tr>\n",
        "      <th>2010-02-23</th>\n",
        "      <td>  92.1</td>\n",
        "      <td>  87.6</td>\n",
        "      <td>  85.4</td>\n",
        "      <td>  91.9</td>\n",
        "      <td> 115.2</td>\n",
        "      <td> 120.3</td>\n",
        "      <td>  96.9</td>\n",
        "    </tr>\n",
        "    <tr>\n",
        "      <th>2010-02-24</th>\n",
        "      <td>  93.7</td>\n",
        "      <td>  89.4</td>\n",
        "      <td>  84.8</td>\n",
        "      <td>  92.9</td>\n",
        "      <td> 117.8</td>\n",
        "      <td> 121.0</td>\n",
        "      <td>  97.8</td>\n",
        "    </tr>\n",
        "    <tr>\n",
        "      <th>2010-02-25</th>\n",
        "      <td>  94.4</td>\n",
        "      <td>  88.3</td>\n",
        "      <td>  84.0</td>\n",
        "      <td>  92.8</td>\n",
        "      <td> 115.3</td>\n",
        "      <td> 122.7</td>\n",
        "      <td>  97.6</td>\n",
        "    </tr>\n",
        "    <tr>\n",
        "      <th>2010-02-26</th>\n",
        "      <td>  95.6</td>\n",
        "      <td>  88.4</td>\n",
        "      <td>  84.1</td>\n",
        "      <td>  93.0</td>\n",
        "      <td> 116.6</td>\n",
        "      <td> 123.5</td>\n",
        "      <td>  97.7</td>\n",
        "    </tr>\n",
        "    <tr>\n",
        "      <th>2010-03-01</th>\n",
        "      <td>  97.7</td>\n",
        "      <td>  93.0</td>\n",
        "      <td>  85.0</td>\n",
        "      <td>  94.2</td>\n",
        "      <td> 117.2</td>\n",
        "      <td> 130.3</td>\n",
        "      <td>  98.7</td>\n",
        "    </tr>\n",
        "    <tr>\n",
        "      <th>2010-03-02</th>\n",
        "      <td>  97.6</td>\n",
        "      <td>  93.7</td>\n",
        "      <td>  86.3</td>\n",
        "      <td>  92.4</td>\n",
        "      <td> 118.2</td>\n",
        "      <td> 129.0</td>\n",
        "      <td>  99.0</td>\n",
        "    </tr>\n",
        "    <tr>\n",
        "      <th>2010-03-03</th>\n",
        "      <td>  97.8</td>\n",
        "      <td>  94.0</td>\n",
        "      <td>  87.0</td>\n",
        "      <td>  92.4</td>\n",
        "      <td> 115.4</td>\n",
        "      <td> 126.3</td>\n",
        "      <td>  99.1</td>\n",
        "    </tr>\n",
        "    <tr>\n",
        "      <th>2010-03-04</th>\n",
        "      <td>  98.5</td>\n",
        "      <td>  96.0</td>\n",
        "      <td>  88.5</td>\n",
        "      <td>  92.9</td>\n",
        "      <td> 114.7</td>\n",
        "      <td> 127.2</td>\n",
        "      <td>  99.4</td>\n",
        "    </tr>\n",
        "    <tr>\n",
        "      <th>2010-03-05</th>\n",
        "      <td> 102.3</td>\n",
        "      <td>  96.3</td>\n",
        "      <td>  90.0</td>\n",
        "      <td>  92.8</td>\n",
        "      <td> 118.3</td>\n",
        "      <td> 126.5</td>\n",
        "      <td> 100.8</td>\n",
        "    </tr>\n",
        "    <tr>\n",
        "      <th>2010-03-08</th>\n",
        "      <td> 102.4</td>\n",
        "      <td>  97.2</td>\n",
        "      <td>  89.7</td>\n",
        "      <td>  92.9</td>\n",
        "      <td> 118.6</td>\n",
        "      <td> 128.4</td>\n",
        "      <td> 100.8</td>\n",
        "    </tr>\n",
        "    <tr>\n",
        "      <th>2010-03-09</th>\n",
        "      <td> 104.2</td>\n",
        "      <td>  96.2</td>\n",
        "      <td>  89.4</td>\n",
        "      <td>  93.5</td>\n",
        "      <td> 118.7</td>\n",
        "      <td> 130.8</td>\n",
        "      <td> 101.0</td>\n",
        "    </tr>\n",
        "    <tr>\n",
        "      <th>2010-03-10</th>\n",
        "      <td> 105.1</td>\n",
        "      <td>  97.5</td>\n",
        "      <td>  92.0</td>\n",
        "      <td>  94.0</td>\n",
        "      <td> 119.8</td>\n",
        "      <td> 133.3</td>\n",
        "      <td> 101.4</td>\n",
        "    </tr>\n",
        "    <tr>\n",
        "      <th>2010-03-11</th>\n",
        "      <td> 105.4</td>\n",
        "      <td>  99.8</td>\n",
        "      <td>  92.7</td>\n",
        "      <td>  94.7</td>\n",
        "      <td> 120.9</td>\n",
        "      <td> 133.1</td>\n",
        "      <td> 101.9</td>\n",
        "    </tr>\n",
        "    <tr>\n",
        "      <th>2010-03-12</th>\n",
        "      <td> 105.9</td>\n",
        "      <td>  98.4</td>\n",
        "      <td>  92.5</td>\n",
        "      <td>  95.0</td>\n",
        "      <td> 120.5</td>\n",
        "      <td> 130.9</td>\n",
        "      <td> 101.9</td>\n",
        "    </tr>\n",
        "    <tr>\n",
        "      <th>2010-03-15</th>\n",
        "      <td> 104.6</td>\n",
        "      <td>  97.9</td>\n",
        "      <td>  89.9</td>\n",
        "      <td>  95.1</td>\n",
        "      <td> 120.9</td>\n",
        "      <td> 130.1</td>\n",
        "      <td> 101.9</td>\n",
        "    </tr>\n",
        "    <tr>\n",
        "      <th>2010-03-16</th>\n",
        "      <td> 104.9</td>\n",
        "      <td>  98.4</td>\n",
        "      <td>  90.2</td>\n",
        "      <td>  95.3</td>\n",
        "      <td> 122.7</td>\n",
        "      <td> 132.1</td>\n",
        "      <td> 102.7</td>\n",
        "    </tr>\n",
        "    <tr>\n",
        "      <th>2010-03-17</th>\n",
        "      <td> 104.7</td>\n",
        "      <td>  98.1</td>\n",
        "      <td>  90.2</td>\n",
        "      <td>  96.2</td>\n",
        "      <td> 124.7</td>\n",
        "      <td> 132.6</td>\n",
        "      <td> 103.3</td>\n",
        "    </tr>\n",
        "    <tr>\n",
        "      <th>2010-03-18</th>\n",
        "      <td> 105.0</td>\n",
        "      <td>  99.1</td>\n",
        "      <td>  90.4</td>\n",
        "      <td>  96.1</td>\n",
        "      <td> 126.5</td>\n",
        "      <td> 131.9</td>\n",
        "      <td> 103.3</td>\n",
        "    </tr>\n",
        "    <tr>\n",
        "      <th>2010-03-19</th>\n",
        "      <td> 103.9</td>\n",
        "      <td>  97.3</td>\n",
        "      <td>  89.3</td>\n",
        "      <td>  96.0</td>\n",
        "      <td> 125.4</td>\n",
        "      <td> 131.7</td>\n",
        "      <td> 102.7</td>\n",
        "    </tr>\n",
        "    <tr>\n",
        "      <th>2010-03-22</th>\n",
        "      <td> 105.0</td>\n",
        "      <td>  97.4</td>\n",
        "      <td>  89.0</td>\n",
        "      <td>  96.1</td>\n",
        "      <td> 125.4</td>\n",
        "      <td> 136.3</td>\n",
        "      <td> 103.3</td>\n",
        "    </tr>\n",
        "    <tr>\n",
        "      <th>2010-03-23</th>\n",
        "      <td> 106.7</td>\n",
        "      <td>  96.5</td>\n",
        "      <td>  87.6</td>\n",
        "      <td>  97.0</td>\n",
        "      <td> 125.3</td>\n",
        "      <td> 136.4</td>\n",
        "      <td> 104.0</td>\n",
        "    </tr>\n",
        "    <tr>\n",
        "      <th>2010-03-24</th>\n",
        "      <td> 107.2</td>\n",
        "      <td>  95.6</td>\n",
        "      <td>  88.9</td>\n",
        "      <td>  96.2</td>\n",
        "      <td> 125.1</td>\n",
        "      <td> 135.3</td>\n",
        "      <td> 103.5</td>\n",
        "    </tr>\n",
        "    <tr>\n",
        "      <th>2010-03-25</th>\n",
        "      <td> 105.9</td>\n",
        "      <td> 100.6</td>\n",
        "      <td>  89.8</td>\n",
        "      <td>  97.4</td>\n",
        "      <td> 124.2</td>\n",
        "      <td> 137.5</td>\n",
        "      <td> 103.4</td>\n",
        "    </tr>\n",
        "    <tr>\n",
        "      <th>2010-03-26</th>\n",
        "      <td> 107.9</td>\n",
        "      <td> 100.9</td>\n",
        "      <td>  89.8</td>\n",
        "      <td>  96.3</td>\n",
        "      <td> 121.7</td>\n",
        "      <td> 138.9</td>\n",
        "      <td> 103.3</td>\n",
        "    </tr>\n",
        "    <tr>\n",
        "      <th>2010-03-29</th>\n",
        "      <td> 108.6</td>\n",
        "      <td> 100.9</td>\n",
        "      <td>  89.7</td>\n",
        "      <td>  96.0</td>\n",
        "      <td> 121.9</td>\n",
        "      <td> 138.2</td>\n",
        "      <td> 103.9</td>\n",
        "    </tr>\n",
        "    <tr>\n",
        "      <th>2010-03-30</th>\n",
        "      <td> 110.2</td>\n",
        "      <td> 102.0</td>\n",
        "      <td>  90.4</td>\n",
        "      <td>  96.6</td>\n",
        "      <td> 120.1</td>\n",
        "      <td> 140.4</td>\n",
        "      <td> 104.0</td>\n",
        "    </tr>\n",
        "    <tr>\n",
        "      <th></th>\n",
        "      <td>...</td>\n",
        "      <td>...</td>\n",
        "      <td>...</td>\n",
        "      <td>...</td>\n",
        "      <td>...</td>\n",
        "      <td>...</td>\n",
        "      <td>...</td>\n",
        "    </tr>\n",
        "  </tbody>\n",
        "</table>\n",
        "<p>1006 rows \u00d7 7 columns</p>\n",
        "</div>"
       ],
       "metadata": {},
       "output_type": "pyout",
       "prompt_number": 293,
       "text": [
        "Stock        AAPL   AMZN  GOOGL   MSFT    MTB   NFLX    SPY\n",
        "Date                                                       \n",
        "2010-01-04  100.0  100.0  100.0  100.0  100.0  100.0  100.0\n",
        "2010-01-05  100.2  100.6   99.6  100.0  101.8   96.3  100.3\n",
        "2010-01-06   98.6   98.8   97.0   99.4  105.2   99.7  100.3\n",
        "2010-01-07   98.4   97.1   94.8   98.4  109.1   98.0  100.8\n",
        "2010-01-08   99.0   99.7   96.1   99.0  110.2   99.7  101.1\n",
        "2010-01-11   98.2   97.3   95.9   97.8  109.2   99.5  101.2\n",
        "2010-01-12   97.0   95.1   94.2   97.1  107.0   97.9  100.3\n",
        "2010-01-13   98.4   96.4   93.7   98.1  109.9  100.9  101.1\n",
        "2010-01-14   97.9   95.1   94.1  100.0  112.4   95.3  101.4\n",
        "2010-01-15   96.2   95.0   92.5   99.7  109.2   95.3  100.3\n",
        "2010-01-19  100.5   95.3   93.8  100.5  111.5   95.7  101.5\n",
        "2010-01-20   98.9   93.9   92.6   98.8  115.9   95.8  100.5\n",
        "2010-01-21   97.2   94.6   93.0   97.0  117.3   95.7   98.6\n",
        "2010-01-22   92.4   90.7   87.8   93.6  112.8   95.2   96.4\n",
        "2010-01-25   94.9   89.9   86.2   94.7  111.9   91.9   96.9\n",
        "2010-01-26   96.2   89.2   86.5   95.3  110.0   93.4   96.5\n",
        "2010-01-27   97.1   91.7   86.5   95.9  113.9   95.3   96.9\n",
        "2010-01-28   93.1   94.1   85.2   94.2  113.0  117.9   95.8\n",
        "2010-01-29   89.8   93.7   84.6   91.0  110.1  116.4   94.8\n",
        "2010-02-01   91.0   88.8   85.0   91.8  111.8  114.1   96.2\n",
        "2010-02-02   91.5   88.2   84.7   91.9  111.9  115.7   97.4\n",
        "2010-02-03   93.1   88.9   86.3   92.5  107.7  115.8   96.9\n",
        "2010-02-04   89.7   86.6   84.0   89.9  105.4  112.8   93.9\n",
        "2010-02-05   91.3   87.7   84.8   90.5  108.5  113.8   94.1\n",
        "2010-02-08   90.7   87.3   85.1   89.6  106.4  113.9   93.4\n",
        "2010-02-09   91.7   88.1   85.6   90.5  107.4  116.2   94.6\n",
        "2010-02-10   91.2   87.6   85.3   90.4  108.5  115.0   94.4\n",
        "2010-02-11   92.8   89.7   85.6   90.8  108.0  118.5   95.4\n",
        "2010-02-12   93.6   89.4   85.1   90.2  107.6  118.1   95.3\n",
        "2010-02-16   95.0   87.8   86.4   92.0  112.1  121.3   96.8\n",
        "2010-02-17   94.6   86.9   85.9   92.8  111.2  120.6   97.3\n",
        "2010-02-18   94.8   88.2   86.7   94.0  112.6  123.6   97.9\n",
        "2010-02-19   94.2   87.8   86.3   93.4  114.3  124.6   98.1\n",
        "2010-02-22   93.6   88.1   86.6   93.3  116.5  122.0   98.1\n",
        "2010-02-23   92.1   87.6   85.4   91.9  115.2  120.3   96.9\n",
        "2010-02-24   93.7   89.4   84.8   92.9  117.8  121.0   97.8\n",
        "2010-02-25   94.4   88.3   84.0   92.8  115.3  122.7   97.6\n",
        "2010-02-26   95.6   88.4   84.1   93.0  116.6  123.5   97.7\n",
        "2010-03-01   97.7   93.0   85.0   94.2  117.2  130.3   98.7\n",
        "2010-03-02   97.6   93.7   86.3   92.4  118.2  129.0   99.0\n",
        "2010-03-03   97.8   94.0   87.0   92.4  115.4  126.3   99.1\n",
        "2010-03-04   98.5   96.0   88.5   92.9  114.7  127.2   99.4\n",
        "2010-03-05  102.3   96.3   90.0   92.8  118.3  126.5  100.8\n",
        "2010-03-08  102.4   97.2   89.7   92.9  118.6  128.4  100.8\n",
        "2010-03-09  104.2   96.2   89.4   93.5  118.7  130.8  101.0\n",
        "2010-03-10  105.1   97.5   92.0   94.0  119.8  133.3  101.4\n",
        "2010-03-11  105.4   99.8   92.7   94.7  120.9  133.1  101.9\n",
        "2010-03-12  105.9   98.4   92.5   95.0  120.5  130.9  101.9\n",
        "2010-03-15  104.6   97.9   89.9   95.1  120.9  130.1  101.9\n",
        "2010-03-16  104.9   98.4   90.2   95.3  122.7  132.1  102.7\n",
        "2010-03-17  104.7   98.1   90.2   96.2  124.7  132.6  103.3\n",
        "2010-03-18  105.0   99.1   90.4   96.1  126.5  131.9  103.3\n",
        "2010-03-19  103.9   97.3   89.3   96.0  125.4  131.7  102.7\n",
        "2010-03-22  105.0   97.4   89.0   96.1  125.4  136.3  103.3\n",
        "2010-03-23  106.7   96.5   87.6   97.0  125.3  136.4  104.0\n",
        "2010-03-24  107.2   95.6   88.9   96.2  125.1  135.3  103.5\n",
        "2010-03-25  105.9  100.6   89.8   97.4  124.2  137.5  103.4\n",
        "2010-03-26  107.9  100.9   89.8   96.3  121.7  138.9  103.3\n",
        "2010-03-29  108.6  100.9   89.7   96.0  121.9  138.2  103.9\n",
        "2010-03-30  110.2  102.0   90.4   96.6  120.1  140.4  104.0\n",
        "              ...    ...    ...    ...    ...    ...    ...\n",
        "\n",
        "[1006 rows x 7 columns]"
       ]
      }
     ],
     "prompt_number": 293
    },
    {
     "cell_type": "code",
     "collapsed": false,
     "input": [
      "#fig = plt.figure(figsize=(8, 6), dpi=300)\n",
      "import matplotlib.pylab as pylab\n",
      "pylab.rcParams['figure.figsize'] = (14.0, 8.0)\n",
      "growth.plot()\n",
      "plt.legend(loc='lower center',ncol=7, fancybox=True, shadow=True)\n",
      "plt.title(\"Stock Performance Jan 2010 to Dec 2013\")\n",
      "#import matplotlib.dates as mdates\n",
      "#ax.format_xdata = mdates.DateFormatter('%Y-%m-%d')\n",
      "#learn how to format the ticks, and to set the dates nicer and what is the ax thing\n",
      "\n",
      "#plt.yaxis.set_major_formatter(ticker.FormatStrFormatter('%0.1f'))\n"
     ],
     "language": "python",
     "metadata": {},
     "outputs": [
      {
       "metadata": {},
       "output_type": "pyout",
       "prompt_number": 294,
       "text": [
        "<matplotlib.text.Text at 0x107f8db90>"
       ]
      },
      {
       "metadata": {},
       "output_type": "display_data",
       "png": "[encoded data removed]",
       "text": [
        "<matplotlib.figure.Figure at 0x1093a1dd0>"
       ]
      }
     ],
     "prompt_number": 294
    },
    {
     "cell_type": "code",
     "collapsed": false,
     "input": [],
     "language": "python",
     "metadata": {},
     "outputs": []
    }
   ],
   "metadata": {}
  }
 ]
}