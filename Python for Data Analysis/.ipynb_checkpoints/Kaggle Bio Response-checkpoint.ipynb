{
 "metadata": {
  "name": "",
  "signature": "sha256:582b15c334a860584bd07089630e1a11925eea3db9fe190819e253bebc828381"
 },
 "nbformat": 3,
 "nbformat_minor": 0,
 "worksheets": [
  {
   "cells": [
    {
     "cell_type": "code",
     "collapsed": false,
     "input": [
      "#load some libraries\n",
      "from pandas import Series, DataFrame\n",
      "import pandas as pd\n",
      "import numpy as np\n",
      "import matplotlib.pyplot as plt\n",
      "% matplotlib inline"
     ],
     "language": "python",
     "metadata": {},
     "outputs": [],
     "prompt_number": 64
    },
    {
     "cell_type": "code",
     "collapsed": false,
     "input": [
      "#Read the data\n",
      "test = pd.read_csv('/Users/mario/Documents/Kaggle/Bio Response/test.csv')\n",
      "train = pd.read_csv('/Users/mario/Documents/Kaggle/Bio Response/train.csv')\n",
      "bench = pd.read_csv('/Users/mario/Documents/Kaggle/Bio Response/svm_benchmark.csv')"
     ],
     "language": "python",
     "metadata": {},
     "outputs": [],
     "prompt_number": 35
    },
    {
     "cell_type": "code",
     "collapsed": false,
     "input": [
      "#do some quidk charts to get a feel for the data\n",
      "plt.plot(train['D37'],train['Activity'] , 'b.') \n",
      "plt.ylim((-.5,1.5))"
     ],
     "language": "python",
     "metadata": {},
     "outputs": [
      {
       "metadata": {},
       "output_type": "pyout",
       "prompt_number": 81,
       "text": [
        "(-0.5, 1.5)"
       ]
      },
      {
       "metadata": {},
       "output_type": "display_data",
       "png": "[encoded data removed]",
       "text": [
        "<matplotlib.figure.Figure at 0x129f45350>"
       ]
      }
     ],
     "prompt_number": 81
    },
    {
     "cell_type": "code",
     "collapsed": false,
     "input": [
      "#Ideas:\n",
      "#1. build a logistic, it will no tbe great\n",
      "#2. build a tree\n",
      "#3. build an RF\n",
      "#4. build and svm\n"
     ],
     "language": "python",
     "metadata": {},
     "outputs": []
    }
   ],
   "metadata": {}
  }
 ]
}