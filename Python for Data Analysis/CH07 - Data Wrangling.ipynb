{
 "metadata": {
  "name": "",
  "signature": "sha256:5a105e684de0acd8d0f5ef30f64ec0e9f1e699cd29b05fe3bb7ccafdf4edc85a"
 },
 "nbformat": 3,
 "nbformat_minor": 0,
 "worksheets": [
  {
   "cells": [
    {
     "cell_type": "code",
     "collapsed": false,
     "input": [
      "import os\n",
      "import sys\n",
      "from pandas import Series, DataFrame\n",
      "import pandas as pd\n",
      "import numpy as np\n",
      "import matplotlib.pyplot as plt\n",
      "import re\n",
      "% matplotlib inline\n"
     ],
     "language": "python",
     "metadata": {},
     "outputs": [],
     "prompt_number": 28
    },
    {
     "cell_type": "heading",
     "level": 1,
     "metadata": {},
     "source": [
      "Merging"
     ]
    },
    {
     "cell_type": "code",
     "collapsed": false,
     "input": [
      "df1 = DataFrame({'key': ['b','b','a','c','a','a','b'],'data1' : range(7)})\n",
      "df2 = DataFrame({'key': ['a','b','d'],'data2' : range(3)})\n",
      "df3 = DataFrame({'lkey': ['b','b','a','c','a','a','b'],'data1' : range(7)})\n",
      "df4 = DataFrame({'rkey': ['a','b','d'],'data2' : range(3)})\n",
      "df5 = DataFrame({'key': ['a','b','a','b','d'],'data2' : range(5)})"
     ],
     "language": "python",
     "metadata": {},
     "outputs": [],
     "prompt_number": 20
    },
    {
     "cell_type": "code",
     "collapsed": false,
     "input": [
      "pd.merge(df1,df2,on='key')"
     ],
     "language": "python",
     "metadata": {},
     "outputs": [
      {
       "html": [
        "<div style=\"max-height:1000px;max-width:1500px;overflow:auto;\">\n",
        "<table border=\"1\" class=\"dataframe\">\n",
        "  <thead>\n",
        "    <tr style=\"text-align: right;\">\n",
        "      <th></th>\n",
        "      <th>data1</th>\n",
        "      <th>key</th>\n",
        "      <th>data2</th>\n",
        "    </tr>\n",
        "  </thead>\n",
        "  <tbody>\n",
        "    <tr>\n",
        "      <th>0</th>\n",
        "      <td> 0</td>\n",
        "      <td> b</td>\n",
        "      <td> 1</td>\n",
        "    </tr>\n",
        "    <tr>\n",
        "      <th>1</th>\n",
        "      <td> 1</td>\n",
        "      <td> b</td>\n",
        "      <td> 1</td>\n",
        "    </tr>\n",
        "    <tr>\n",
        "      <th>2</th>\n",
        "      <td> 6</td>\n",
        "      <td> b</td>\n",
        "      <td> 1</td>\n",
        "    </tr>\n",
        "    <tr>\n",
        "      <th>3</th>\n",
        "      <td> 2</td>\n",
        "      <td> a</td>\n",
        "      <td> 0</td>\n",
        "    </tr>\n",
        "    <tr>\n",
        "      <th>4</th>\n",
        "      <td> 4</td>\n",
        "      <td> a</td>\n",
        "      <td> 0</td>\n",
        "    </tr>\n",
        "    <tr>\n",
        "      <th>5</th>\n",
        "      <td> 5</td>\n",
        "      <td> a</td>\n",
        "      <td> 0</td>\n",
        "    </tr>\n",
        "  </tbody>\n",
        "</table>\n",
        "<p>6 rows \u00d7 3 columns</p>\n",
        "</div>"
       ],
       "metadata": {},
       "output_type": "pyout",
       "prompt_number": 12,
       "text": [
        "   data1 key  data2\n",
        "0      0   b      1\n",
        "1      1   b      1\n",
        "2      6   b      1\n",
        "3      2   a      0\n",
        "4      4   a      0\n",
        "5      5   a      0\n",
        "\n",
        "[6 rows x 3 columns]"
       ]
      }
     ],
     "prompt_number": 12
    },
    {
     "cell_type": "code",
     "collapsed": false,
     "input": [
      "pd.merge(df3,df4,left_on='lkey',right_on='rkey')"
     ],
     "language": "python",
     "metadata": {},
     "outputs": [
      {
       "html": [
        "<div style=\"max-height:1000px;max-width:1500px;overflow:auto;\">\n",
        "<table border=\"1\" class=\"dataframe\">\n",
        "  <thead>\n",
        "    <tr style=\"text-align: right;\">\n",
        "      <th></th>\n",
        "      <th>data1</th>\n",
        "      <th>lkey</th>\n",
        "      <th>data2</th>\n",
        "      <th>rkey</th>\n",
        "    </tr>\n",
        "  </thead>\n",
        "  <tbody>\n",
        "    <tr>\n",
        "      <th>0</th>\n",
        "      <td> 0</td>\n",
        "      <td> b</td>\n",
        "      <td> 1</td>\n",
        "      <td> b</td>\n",
        "    </tr>\n",
        "    <tr>\n",
        "      <th>1</th>\n",
        "      <td> 1</td>\n",
        "      <td> b</td>\n",
        "      <td> 1</td>\n",
        "      <td> b</td>\n",
        "    </tr>\n",
        "    <tr>\n",
        "      <th>2</th>\n",
        "      <td> 6</td>\n",
        "      <td> b</td>\n",
        "      <td> 1</td>\n",
        "      <td> b</td>\n",
        "    </tr>\n",
        "    <tr>\n",
        "      <th>3</th>\n",
        "      <td> 2</td>\n",
        "      <td> a</td>\n",
        "      <td> 0</td>\n",
        "      <td> a</td>\n",
        "    </tr>\n",
        "    <tr>\n",
        "      <th>4</th>\n",
        "      <td> 4</td>\n",
        "      <td> a</td>\n",
        "      <td> 0</td>\n",
        "      <td> a</td>\n",
        "    </tr>\n",
        "    <tr>\n",
        "      <th>5</th>\n",
        "      <td> 5</td>\n",
        "      <td> a</td>\n",
        "      <td> 0</td>\n",
        "      <td> a</td>\n",
        "    </tr>\n",
        "  </tbody>\n",
        "</table>\n",
        "<p>6 rows \u00d7 4 columns</p>\n",
        "</div>"
       ],
       "metadata": {},
       "output_type": "pyout",
       "prompt_number": 16,
       "text": [
        "   data1 lkey  data2 rkey\n",
        "0      0    b      1    b\n",
        "1      1    b      1    b\n",
        "2      6    b      1    b\n",
        "3      2    a      0    a\n",
        "4      4    a      0    a\n",
        "5      5    a      0    a\n",
        "\n",
        "[6 rows x 4 columns]"
       ]
      }
     ],
     "prompt_number": 16
    },
    {
     "cell_type": "code",
     "collapsed": false,
     "input": [
      "pd.merge(df3,df4,left_on='lkey',right_on='rkey',how='outer')"
     ],
     "language": "python",
     "metadata": {},
     "outputs": [
      {
       "html": [
        "<div style=\"max-height:1000px;max-width:1500px;overflow:auto;\">\n",
        "<table border=\"1\" class=\"dataframe\">\n",
        "  <thead>\n",
        "    <tr style=\"text-align: right;\">\n",
        "      <th></th>\n",
        "      <th>data1</th>\n",
        "      <th>lkey</th>\n",
        "      <th>data2</th>\n",
        "      <th>rkey</th>\n",
        "    </tr>\n",
        "  </thead>\n",
        "  <tbody>\n",
        "    <tr>\n",
        "      <th>0</th>\n",
        "      <td>  0</td>\n",
        "      <td>   b</td>\n",
        "      <td>  1</td>\n",
        "      <td>   b</td>\n",
        "    </tr>\n",
        "    <tr>\n",
        "      <th>1</th>\n",
        "      <td>  1</td>\n",
        "      <td>   b</td>\n",
        "      <td>  1</td>\n",
        "      <td>   b</td>\n",
        "    </tr>\n",
        "    <tr>\n",
        "      <th>2</th>\n",
        "      <td>  6</td>\n",
        "      <td>   b</td>\n",
        "      <td>  1</td>\n",
        "      <td>   b</td>\n",
        "    </tr>\n",
        "    <tr>\n",
        "      <th>3</th>\n",
        "      <td>  2</td>\n",
        "      <td>   a</td>\n",
        "      <td>  0</td>\n",
        "      <td>   a</td>\n",
        "    </tr>\n",
        "    <tr>\n",
        "      <th>4</th>\n",
        "      <td>  4</td>\n",
        "      <td>   a</td>\n",
        "      <td>  0</td>\n",
        "      <td>   a</td>\n",
        "    </tr>\n",
        "    <tr>\n",
        "      <th>5</th>\n",
        "      <td>  5</td>\n",
        "      <td>   a</td>\n",
        "      <td>  0</td>\n",
        "      <td>   a</td>\n",
        "    </tr>\n",
        "    <tr>\n",
        "      <th>6</th>\n",
        "      <td>  3</td>\n",
        "      <td>   c</td>\n",
        "      <td>NaN</td>\n",
        "      <td> NaN</td>\n",
        "    </tr>\n",
        "    <tr>\n",
        "      <th>7</th>\n",
        "      <td>NaN</td>\n",
        "      <td> NaN</td>\n",
        "      <td>  2</td>\n",
        "      <td>   d</td>\n",
        "    </tr>\n",
        "  </tbody>\n",
        "</table>\n",
        "<p>8 rows \u00d7 4 columns</p>\n",
        "</div>"
       ],
       "metadata": {},
       "output_type": "pyout",
       "prompt_number": 17,
       "text": [
        "   data1 lkey  data2 rkey\n",
        "0      0    b      1    b\n",
        "1      1    b      1    b\n",
        "2      6    b      1    b\n",
        "3      2    a      0    a\n",
        "4      4    a      0    a\n",
        "5      5    a      0    a\n",
        "6      3    c    NaN  NaN\n",
        "7    NaN  NaN      2    d\n",
        "\n",
        "[8 rows x 4 columns]"
       ]
      }
     ],
     "prompt_number": 17
    },
    {
     "cell_type": "code",
     "collapsed": false,
     "input": [
      "pd.merge(df1,df5,on='key',how='inner')"
     ],
     "language": "python",
     "metadata": {},
     "outputs": [
      {
       "html": [
        "<div style=\"max-height:1000px;max-width:1500px;overflow:auto;\">\n",
        "<table border=\"1\" class=\"dataframe\">\n",
        "  <thead>\n",
        "    <tr style=\"text-align: right;\">\n",
        "      <th></th>\n",
        "      <th>data1</th>\n",
        "      <th>key</th>\n",
        "      <th>data2</th>\n",
        "    </tr>\n",
        "  </thead>\n",
        "  <tbody>\n",
        "    <tr>\n",
        "      <th>0 </th>\n",
        "      <td> 0</td>\n",
        "      <td> b</td>\n",
        "      <td> 1</td>\n",
        "    </tr>\n",
        "    <tr>\n",
        "      <th>1 </th>\n",
        "      <td> 0</td>\n",
        "      <td> b</td>\n",
        "      <td> 3</td>\n",
        "    </tr>\n",
        "    <tr>\n",
        "      <th>2 </th>\n",
        "      <td> 1</td>\n",
        "      <td> b</td>\n",
        "      <td> 1</td>\n",
        "    </tr>\n",
        "    <tr>\n",
        "      <th>3 </th>\n",
        "      <td> 1</td>\n",
        "      <td> b</td>\n",
        "      <td> 3</td>\n",
        "    </tr>\n",
        "    <tr>\n",
        "      <th>4 </th>\n",
        "      <td> 6</td>\n",
        "      <td> b</td>\n",
        "      <td> 1</td>\n",
        "    </tr>\n",
        "    <tr>\n",
        "      <th>5 </th>\n",
        "      <td> 6</td>\n",
        "      <td> b</td>\n",
        "      <td> 3</td>\n",
        "    </tr>\n",
        "    <tr>\n",
        "      <th>6 </th>\n",
        "      <td> 2</td>\n",
        "      <td> a</td>\n",
        "      <td> 0</td>\n",
        "    </tr>\n",
        "    <tr>\n",
        "      <th>7 </th>\n",
        "      <td> 2</td>\n",
        "      <td> a</td>\n",
        "      <td> 2</td>\n",
        "    </tr>\n",
        "    <tr>\n",
        "      <th>8 </th>\n",
        "      <td> 4</td>\n",
        "      <td> a</td>\n",
        "      <td> 0</td>\n",
        "    </tr>\n",
        "    <tr>\n",
        "      <th>9 </th>\n",
        "      <td> 4</td>\n",
        "      <td> a</td>\n",
        "      <td> 2</td>\n",
        "    </tr>\n",
        "    <tr>\n",
        "      <th>10</th>\n",
        "      <td> 5</td>\n",
        "      <td> a</td>\n",
        "      <td> 0</td>\n",
        "    </tr>\n",
        "    <tr>\n",
        "      <th>11</th>\n",
        "      <td> 5</td>\n",
        "      <td> a</td>\n",
        "      <td> 2</td>\n",
        "    </tr>\n",
        "  </tbody>\n",
        "</table>\n",
        "<p>12 rows \u00d7 3 columns</p>\n",
        "</div>"
       ],
       "metadata": {},
       "output_type": "pyout",
       "prompt_number": 22,
       "text": [
        "    data1 key  data2\n",
        "0       0   b      1\n",
        "1       0   b      3\n",
        "2       1   b      1\n",
        "3       1   b      3\n",
        "4       6   b      1\n",
        "5       6   b      3\n",
        "6       2   a      0\n",
        "7       2   a      2\n",
        "8       4   a      0\n",
        "9       4   a      2\n",
        "10      5   a      0\n",
        "11      5   a      2\n",
        "\n",
        "[12 rows x 3 columns]"
       ]
      }
     ],
     "prompt_number": 22
    },
    {
     "cell_type": "code",
     "collapsed": false,
     "input": [
      "left = DataFrame({'key1' : ['foo','foo','bar'], 'key2' : ['one','two','one'],'lval' : [1,2,3]})\n",
      "right = DataFrame({'key1' : ['foo','foo','bar','bar'], 'key2' : ['one','one','one','two'],'rval' : [4,5,6,7]})"
     ],
     "language": "python",
     "metadata": {},
     "outputs": [],
     "prompt_number": 23
    },
    {
     "cell_type": "code",
     "collapsed": false,
     "input": [
      "pd.merge(left,right,on=['key1','key2'],how='outer')\n"
     ],
     "language": "python",
     "metadata": {},
     "outputs": [
      {
       "html": [
        "<div style=\"max-height:1000px;max-width:1500px;overflow:auto;\">\n",
        "<table border=\"1\" class=\"dataframe\">\n",
        "  <thead>\n",
        "    <tr style=\"text-align: right;\">\n",
        "      <th></th>\n",
        "      <th>key1</th>\n",
        "      <th>key2</th>\n",
        "      <th>lval</th>\n",
        "      <th>rval</th>\n",
        "    </tr>\n",
        "  </thead>\n",
        "  <tbody>\n",
        "    <tr>\n",
        "      <th>0</th>\n",
        "      <td> foo</td>\n",
        "      <td> one</td>\n",
        "      <td>  1</td>\n",
        "      <td>  4</td>\n",
        "    </tr>\n",
        "    <tr>\n",
        "      <th>1</th>\n",
        "      <td> foo</td>\n",
        "      <td> one</td>\n",
        "      <td>  1</td>\n",
        "      <td>  5</td>\n",
        "    </tr>\n",
        "    <tr>\n",
        "      <th>2</th>\n",
        "      <td> foo</td>\n",
        "      <td> two</td>\n",
        "      <td>  2</td>\n",
        "      <td>NaN</td>\n",
        "    </tr>\n",
        "    <tr>\n",
        "      <th>3</th>\n",
        "      <td> bar</td>\n",
        "      <td> one</td>\n",
        "      <td>  3</td>\n",
        "      <td>  6</td>\n",
        "    </tr>\n",
        "    <tr>\n",
        "      <th>4</th>\n",
        "      <td> bar</td>\n",
        "      <td> two</td>\n",
        "      <td>NaN</td>\n",
        "      <td>  7</td>\n",
        "    </tr>\n",
        "  </tbody>\n",
        "</table>\n",
        "<p>5 rows \u00d7 4 columns</p>\n",
        "</div>"
       ],
       "metadata": {},
       "output_type": "pyout",
       "prompt_number": 26,
       "text": [
        "  key1 key2  lval  rval\n",
        "0  foo  one     1     4\n",
        "1  foo  one     1     5\n",
        "2  foo  two     2   NaN\n",
        "3  bar  one     3     6\n",
        "4  bar  two   NaN     7\n",
        "\n",
        "[5 rows x 4 columns]"
       ]
      }
     ],
     "prompt_number": 26
    },
    {
     "cell_type": "code",
     "collapsed": false,
     "input": [
      "pd.merge(left,right,on='key1',suffixes=('_left','_right'))"
     ],
     "language": "python",
     "metadata": {},
     "outputs": [
      {
       "html": [
        "<div style=\"max-height:1000px;max-width:1500px;overflow:auto;\">\n",
        "<table border=\"1\" class=\"dataframe\">\n",
        "  <thead>\n",
        "    <tr style=\"text-align: right;\">\n",
        "      <th></th>\n",
        "      <th>key1</th>\n",
        "      <th>key2_left</th>\n",
        "      <th>lval</th>\n",
        "      <th>key2_right</th>\n",
        "      <th>rval</th>\n",
        "    </tr>\n",
        "  </thead>\n",
        "  <tbody>\n",
        "    <tr>\n",
        "      <th>0</th>\n",
        "      <td> foo</td>\n",
        "      <td> one</td>\n",
        "      <td> 1</td>\n",
        "      <td> one</td>\n",
        "      <td> 4</td>\n",
        "    </tr>\n",
        "    <tr>\n",
        "      <th>1</th>\n",
        "      <td> foo</td>\n",
        "      <td> one</td>\n",
        "      <td> 1</td>\n",
        "      <td> one</td>\n",
        "      <td> 5</td>\n",
        "    </tr>\n",
        "    <tr>\n",
        "      <th>2</th>\n",
        "      <td> foo</td>\n",
        "      <td> two</td>\n",
        "      <td> 2</td>\n",
        "      <td> one</td>\n",
        "      <td> 4</td>\n",
        "    </tr>\n",
        "    <tr>\n",
        "      <th>3</th>\n",
        "      <td> foo</td>\n",
        "      <td> two</td>\n",
        "      <td> 2</td>\n",
        "      <td> one</td>\n",
        "      <td> 5</td>\n",
        "    </tr>\n",
        "    <tr>\n",
        "      <th>4</th>\n",
        "      <td> bar</td>\n",
        "      <td> one</td>\n",
        "      <td> 3</td>\n",
        "      <td> one</td>\n",
        "      <td> 6</td>\n",
        "    </tr>\n",
        "    <tr>\n",
        "      <th>5</th>\n",
        "      <td> bar</td>\n",
        "      <td> one</td>\n",
        "      <td> 3</td>\n",
        "      <td> two</td>\n",
        "      <td> 7</td>\n",
        "    </tr>\n",
        "  </tbody>\n",
        "</table>\n",
        "<p>6 rows \u00d7 5 columns</p>\n",
        "</div>"
       ],
       "metadata": {},
       "output_type": "pyout",
       "prompt_number": 28,
       "text": [
        "  key1 key2_left  lval key2_right  rval\n",
        "0  foo       one     1        one     4\n",
        "1  foo       one     1        one     5\n",
        "2  foo       two     2        one     4\n",
        "3  foo       two     2        one     5\n",
        "4  bar       one     3        one     6\n",
        "5  bar       one     3        two     7\n",
        "\n",
        "[6 rows x 5 columns]"
       ]
      }
     ],
     "prompt_number": 28
    },
    {
     "cell_type": "code",
     "collapsed": false,
     "input": [
      "left1 = DataFrame({'key': ['a','b','a','a','b','c'],'value' : range(6)})\n",
      "right1 = DataFrame({'group_val': [3.5,7]},index = ['a','b'])"
     ],
     "language": "python",
     "metadata": {},
     "outputs": [],
     "prompt_number": 35
    },
    {
     "cell_type": "code",
     "collapsed": false,
     "input": [
      "pd.merge(left1,right1,left_on='key',right_index=True,how='outer')"
     ],
     "language": "python",
     "metadata": {},
     "outputs": [
      {
       "html": [
        "<div style=\"max-height:1000px;max-width:1500px;overflow:auto;\">\n",
        "<table border=\"1\" class=\"dataframe\">\n",
        "  <thead>\n",
        "    <tr style=\"text-align: right;\">\n",
        "      <th></th>\n",
        "      <th>key</th>\n",
        "      <th>value</th>\n",
        "      <th>group_val</th>\n",
        "    </tr>\n",
        "  </thead>\n",
        "  <tbody>\n",
        "    <tr>\n",
        "      <th>0</th>\n",
        "      <td> a</td>\n",
        "      <td> 0</td>\n",
        "      <td> 3.5</td>\n",
        "    </tr>\n",
        "    <tr>\n",
        "      <th>2</th>\n",
        "      <td> a</td>\n",
        "      <td> 2</td>\n",
        "      <td> 3.5</td>\n",
        "    </tr>\n",
        "    <tr>\n",
        "      <th>3</th>\n",
        "      <td> a</td>\n",
        "      <td> 3</td>\n",
        "      <td> 3.5</td>\n",
        "    </tr>\n",
        "    <tr>\n",
        "      <th>1</th>\n",
        "      <td> b</td>\n",
        "      <td> 1</td>\n",
        "      <td> 7.0</td>\n",
        "    </tr>\n",
        "    <tr>\n",
        "      <th>4</th>\n",
        "      <td> b</td>\n",
        "      <td> 4</td>\n",
        "      <td> 7.0</td>\n",
        "    </tr>\n",
        "    <tr>\n",
        "      <th>5</th>\n",
        "      <td> c</td>\n",
        "      <td> 5</td>\n",
        "      <td> NaN</td>\n",
        "    </tr>\n",
        "  </tbody>\n",
        "</table>\n",
        "<p>6 rows \u00d7 3 columns</p>\n",
        "</div>"
       ],
       "metadata": {},
       "output_type": "pyout",
       "prompt_number": 38,
       "text": [
        "  key  value  group_val\n",
        "0   a      0        3.5\n",
        "2   a      2        3.5\n",
        "3   a      3        3.5\n",
        "1   b      1        7.0\n",
        "4   b      4        7.0\n",
        "5   c      5        NaN\n",
        "\n",
        "[6 rows x 3 columns]"
       ]
      }
     ],
     "prompt_number": 38
    },
    {
     "cell_type": "heading",
     "level": 1,
     "metadata": {},
     "source": [
      "Merge with Hierarchical Indixes"
     ]
    },
    {
     "cell_type": "code",
     "collapsed": false,
     "input": [
      "lefth = DataFrame({'key1' : ['Ohio','Ohio','Ohio','Nevada','Nevada'], 'key2' : [2000,2001,2002,2001,2002],'data' :np.arange(5.)})\n",
      "righth = DataFrame(np.arange(12).reshape((6,2)),index=[['Nevada','Nevada','Ohio','Ohio','Ohio','Ohio'],[2001,2000,2000,2000,2001,2002]],columns=['event1','event2'])"
     ],
     "language": "python",
     "metadata": {},
     "outputs": [],
     "prompt_number": 45
    },
    {
     "cell_type": "code",
     "collapsed": false,
     "input": [
      "pd.merge(lefth,righth,left_on=['key1','key2'],right_index=True,how='outer')"
     ],
     "language": "python",
     "metadata": {},
     "outputs": [
      {
       "html": [
        "<div style=\"max-height:1000px;max-width:1500px;overflow:auto;\">\n",
        "<table border=\"1\" class=\"dataframe\">\n",
        "  <thead>\n",
        "    <tr style=\"text-align: right;\">\n",
        "      <th></th>\n",
        "      <th>data</th>\n",
        "      <th>key1</th>\n",
        "      <th>key2</th>\n",
        "      <th>event1</th>\n",
        "      <th>event2</th>\n",
        "    </tr>\n",
        "  </thead>\n",
        "  <tbody>\n",
        "    <tr>\n",
        "      <th>0</th>\n",
        "      <td>  0</td>\n",
        "      <td>   Ohio</td>\n",
        "      <td> 2000</td>\n",
        "      <td>  4</td>\n",
        "      <td>  5</td>\n",
        "    </tr>\n",
        "    <tr>\n",
        "      <th>0</th>\n",
        "      <td>  0</td>\n",
        "      <td>   Ohio</td>\n",
        "      <td> 2000</td>\n",
        "      <td>  6</td>\n",
        "      <td>  7</td>\n",
        "    </tr>\n",
        "    <tr>\n",
        "      <th>1</th>\n",
        "      <td>  1</td>\n",
        "      <td>   Ohio</td>\n",
        "      <td> 2001</td>\n",
        "      <td>  8</td>\n",
        "      <td>  9</td>\n",
        "    </tr>\n",
        "    <tr>\n",
        "      <th>2</th>\n",
        "      <td>  2</td>\n",
        "      <td>   Ohio</td>\n",
        "      <td> 2002</td>\n",
        "      <td> 10</td>\n",
        "      <td> 11</td>\n",
        "    </tr>\n",
        "    <tr>\n",
        "      <th>3</th>\n",
        "      <td>  3</td>\n",
        "      <td> Nevada</td>\n",
        "      <td> 2001</td>\n",
        "      <td>  0</td>\n",
        "      <td>  1</td>\n",
        "    </tr>\n",
        "    <tr>\n",
        "      <th>4</th>\n",
        "      <td>  4</td>\n",
        "      <td> Nevada</td>\n",
        "      <td> 2002</td>\n",
        "      <td>NaN</td>\n",
        "      <td>NaN</td>\n",
        "    </tr>\n",
        "    <tr>\n",
        "      <th>4</th>\n",
        "      <td>NaN</td>\n",
        "      <td> Nevada</td>\n",
        "      <td> 2000</td>\n",
        "      <td>  2</td>\n",
        "      <td>  3</td>\n",
        "    </tr>\n",
        "  </tbody>\n",
        "</table>\n",
        "<p>7 rows \u00d7 5 columns</p>\n",
        "</div>"
       ],
       "metadata": {},
       "output_type": "pyout",
       "prompt_number": 50,
       "text": [
        "   data    key1  key2  event1  event2\n",
        "0     0    Ohio  2000       4       5\n",
        "0     0    Ohio  2000       6       7\n",
        "1     1    Ohio  2001       8       9\n",
        "2     2    Ohio  2002      10      11\n",
        "3     3  Nevada  2001       0       1\n",
        "4     4  Nevada  2002     NaN     NaN\n",
        "4   NaN  Nevada  2000       2       3\n",
        "\n",
        "[7 rows x 5 columns]"
       ]
      }
     ],
     "prompt_number": 50
    },
    {
     "cell_type": "heading",
     "level": 1,
     "metadata": {},
     "source": [
      "Concatenating"
     ]
    },
    {
     "cell_type": "code",
     "collapsed": false,
     "input": [
      "arr = np.arange(12).reshape((3,4))"
     ],
     "language": "python",
     "metadata": {},
     "outputs": [],
     "prompt_number": 52
    },
    {
     "cell_type": "code",
     "collapsed": false,
     "input": [
      "np.concatenate([arr,arr],axis=1)"
     ],
     "language": "python",
     "metadata": {},
     "outputs": [
      {
       "metadata": {},
       "output_type": "pyout",
       "prompt_number": 54,
       "text": [
        "array([[ 0,  1,  2,  3,  0,  1,  2,  3],\n",
        "       [ 4,  5,  6,  7,  4,  5,  6,  7],\n",
        "       [ 8,  9, 10, 11,  8,  9, 10, 11]])"
       ]
      }
     ],
     "prompt_number": 54
    },
    {
     "cell_type": "code",
     "collapsed": false,
     "input": [
      "np.concatenate([arr,arr],axis=0)"
     ],
     "language": "python",
     "metadata": {},
     "outputs": [
      {
       "metadata": {},
       "output_type": "pyout",
       "prompt_number": 56,
       "text": [
        "array([[ 0,  1,  2,  3],\n",
        "       [ 4,  5,  6,  7],\n",
        "       [ 8,  9, 10, 11],\n",
        "       [ 0,  1,  2,  3],\n",
        "       [ 4,  5,  6,  7],\n",
        "       [ 8,  9, 10, 11]])"
       ]
      }
     ],
     "prompt_number": 56
    },
    {
     "cell_type": "code",
     "collapsed": false,
     "input": [
      "s1 = Series([0,1],index=['a','b'])\n",
      "s2 = Series([2,3,4],index=['c','d','e'])\n",
      "s3 = Series([5,6],index=['f','g'])"
     ],
     "language": "python",
     "metadata": {},
     "outputs": [],
     "prompt_number": 57
    },
    {
     "cell_type": "code",
     "collapsed": false,
     "input": [
      "pd.concat([s1,s2,s3])"
     ],
     "language": "python",
     "metadata": {},
     "outputs": [
      {
       "metadata": {},
       "output_type": "pyout",
       "prompt_number": 62,
       "text": [
        "a    0\n",
        "b    1\n",
        "c    2\n",
        "d    3\n",
        "e    4\n",
        "f    5\n",
        "g    6\n",
        "dtype: int64"
       ]
      }
     ],
     "prompt_number": 62
    },
    {
     "cell_type": "code",
     "collapsed": false,
     "input": [
      "pd.concat([s1,s2,s3],axis=1)"
     ],
     "language": "python",
     "metadata": {},
     "outputs": [
      {
       "html": [
        "<div style=\"max-height:1000px;max-width:1500px;overflow:auto;\">\n",
        "<table border=\"1\" class=\"dataframe\">\n",
        "  <thead>\n",
        "    <tr style=\"text-align: right;\">\n",
        "      <th></th>\n",
        "      <th>0</th>\n",
        "      <th>1</th>\n",
        "      <th>2</th>\n",
        "    </tr>\n",
        "  </thead>\n",
        "  <tbody>\n",
        "    <tr>\n",
        "      <th>a</th>\n",
        "      <td>  0</td>\n",
        "      <td>NaN</td>\n",
        "      <td>NaN</td>\n",
        "    </tr>\n",
        "    <tr>\n",
        "      <th>b</th>\n",
        "      <td>  1</td>\n",
        "      <td>NaN</td>\n",
        "      <td>NaN</td>\n",
        "    </tr>\n",
        "    <tr>\n",
        "      <th>c</th>\n",
        "      <td>NaN</td>\n",
        "      <td>  2</td>\n",
        "      <td>NaN</td>\n",
        "    </tr>\n",
        "    <tr>\n",
        "      <th>d</th>\n",
        "      <td>NaN</td>\n",
        "      <td>  3</td>\n",
        "      <td>NaN</td>\n",
        "    </tr>\n",
        "    <tr>\n",
        "      <th>e</th>\n",
        "      <td>NaN</td>\n",
        "      <td>  4</td>\n",
        "      <td>NaN</td>\n",
        "    </tr>\n",
        "    <tr>\n",
        "      <th>f</th>\n",
        "      <td>NaN</td>\n",
        "      <td>NaN</td>\n",
        "      <td>  5</td>\n",
        "    </tr>\n",
        "    <tr>\n",
        "      <th>g</th>\n",
        "      <td>NaN</td>\n",
        "      <td>NaN</td>\n",
        "      <td>  6</td>\n",
        "    </tr>\n",
        "  </tbody>\n",
        "</table>\n",
        "<p>7 rows \u00d7 3 columns</p>\n",
        "</div>"
       ],
       "metadata": {},
       "output_type": "pyout",
       "prompt_number": 63,
       "text": [
        "    0   1   2\n",
        "a   0 NaN NaN\n",
        "b   1 NaN NaN\n",
        "c NaN   2 NaN\n",
        "d NaN   3 NaN\n",
        "e NaN   4 NaN\n",
        "f NaN NaN   5\n",
        "g NaN NaN   6\n",
        "\n",
        "[7 rows x 3 columns]"
       ]
      }
     ],
     "prompt_number": 63
    },
    {
     "cell_type": "code",
     "collapsed": false,
     "input": [
      "s4 = pd.concat([s1*5,s3])"
     ],
     "language": "python",
     "metadata": {},
     "outputs": [],
     "prompt_number": 65
    },
    {
     "cell_type": "code",
     "collapsed": false,
     "input": [
      "s4"
     ],
     "language": "python",
     "metadata": {},
     "outputs": [
      {
       "metadata": {},
       "output_type": "pyout",
       "prompt_number": 66,
       "text": [
        "a    0\n",
        "b    5\n",
        "f    5\n",
        "g    6\n",
        "dtype: int64"
       ]
      }
     ],
     "prompt_number": 66
    },
    {
     "cell_type": "code",
     "collapsed": false,
     "input": [
      "pd.concat([s1,s4],axis=1,join='inner')"
     ],
     "language": "python",
     "metadata": {},
     "outputs": [
      {
       "html": [
        "<div style=\"max-height:1000px;max-width:1500px;overflow:auto;\">\n",
        "<table border=\"1\" class=\"dataframe\">\n",
        "  <thead>\n",
        "    <tr style=\"text-align: right;\">\n",
        "      <th></th>\n",
        "      <th>0</th>\n",
        "      <th>1</th>\n",
        "    </tr>\n",
        "  </thead>\n",
        "  <tbody>\n",
        "    <tr>\n",
        "      <th>a</th>\n",
        "      <td> 0</td>\n",
        "      <td> 0</td>\n",
        "    </tr>\n",
        "    <tr>\n",
        "      <th>b</th>\n",
        "      <td> 1</td>\n",
        "      <td> 5</td>\n",
        "    </tr>\n",
        "  </tbody>\n",
        "</table>\n",
        "<p>2 rows \u00d7 2 columns</p>\n",
        "</div>"
       ],
       "metadata": {},
       "output_type": "pyout",
       "prompt_number": 69,
       "text": [
        "   0  1\n",
        "a  0  0\n",
        "b  1  5\n",
        "\n",
        "[2 rows x 2 columns]"
       ]
      }
     ],
     "prompt_number": 69
    },
    {
     "cell_type": "code",
     "collapsed": false,
     "input": [
      "pd.concat([s1,s4],axis=1,join_axes=[['a','c','b','e']])"
     ],
     "language": "python",
     "metadata": {},
     "outputs": [
      {
       "html": [
        "<div style=\"max-height:1000px;max-width:1500px;overflow:auto;\">\n",
        "<table border=\"1\" class=\"dataframe\">\n",
        "  <thead>\n",
        "    <tr style=\"text-align: right;\">\n",
        "      <th></th>\n",
        "      <th>0</th>\n",
        "      <th>1</th>\n",
        "    </tr>\n",
        "  </thead>\n",
        "  <tbody>\n",
        "    <tr>\n",
        "      <th>a</th>\n",
        "      <td>  0</td>\n",
        "      <td>  0</td>\n",
        "    </tr>\n",
        "    <tr>\n",
        "      <th>c</th>\n",
        "      <td>NaN</td>\n",
        "      <td>NaN</td>\n",
        "    </tr>\n",
        "    <tr>\n",
        "      <th>b</th>\n",
        "      <td>  1</td>\n",
        "      <td>  5</td>\n",
        "    </tr>\n",
        "    <tr>\n",
        "      <th>e</th>\n",
        "      <td>NaN</td>\n",
        "      <td>NaN</td>\n",
        "    </tr>\n",
        "  </tbody>\n",
        "</table>\n",
        "<p>4 rows \u00d7 2 columns</p>\n",
        "</div>"
       ],
       "metadata": {},
       "output_type": "pyout",
       "prompt_number": 71,
       "text": [
        "    0   1\n",
        "a   0   0\n",
        "c NaN NaN\n",
        "b   1   5\n",
        "e NaN NaN\n",
        "\n",
        "[4 rows x 2 columns]"
       ]
      }
     ],
     "prompt_number": 71
    },
    {
     "cell_type": "code",
     "collapsed": false,
     "input": [
      "result = pd.concat([s1,s1,s3],keys=['one','two','three'])"
     ],
     "language": "python",
     "metadata": {},
     "outputs": [],
     "prompt_number": 75
    },
    {
     "cell_type": "code",
     "collapsed": false,
     "input": [
      "result"
     ],
     "language": "python",
     "metadata": {},
     "outputs": [
      {
       "metadata": {},
       "output_type": "pyout",
       "prompt_number": 76,
       "text": [
        "one    a    0\n",
        "       b    1\n",
        "two    a    0\n",
        "       b    1\n",
        "three  f    5\n",
        "       g    6\n",
        "dtype: int64"
       ]
      }
     ],
     "prompt_number": 76
    },
    {
     "cell_type": "code",
     "collapsed": false,
     "input": [
      "result.unstack()"
     ],
     "language": "python",
     "metadata": {},
     "outputs": [
      {
       "html": [
        "<div style=\"max-height:1000px;max-width:1500px;overflow:auto;\">\n",
        "<table border=\"1\" class=\"dataframe\">\n",
        "  <thead>\n",
        "    <tr style=\"text-align: right;\">\n",
        "      <th></th>\n",
        "      <th>a</th>\n",
        "      <th>b</th>\n",
        "      <th>f</th>\n",
        "      <th>g</th>\n",
        "    </tr>\n",
        "  </thead>\n",
        "  <tbody>\n",
        "    <tr>\n",
        "      <th>one</th>\n",
        "      <td>  0</td>\n",
        "      <td>  1</td>\n",
        "      <td>NaN</td>\n",
        "      <td>NaN</td>\n",
        "    </tr>\n",
        "    <tr>\n",
        "      <th>two</th>\n",
        "      <td>  0</td>\n",
        "      <td>  1</td>\n",
        "      <td>NaN</td>\n",
        "      <td>NaN</td>\n",
        "    </tr>\n",
        "    <tr>\n",
        "      <th>three</th>\n",
        "      <td>NaN</td>\n",
        "      <td>NaN</td>\n",
        "      <td>  5</td>\n",
        "      <td>  6</td>\n",
        "    </tr>\n",
        "  </tbody>\n",
        "</table>\n",
        "<p>3 rows \u00d7 4 columns</p>\n",
        "</div>"
       ],
       "metadata": {},
       "output_type": "pyout",
       "prompt_number": 77,
       "text": [
        "        a   b   f   g\n",
        "one     0   1 NaN NaN\n",
        "two     0   1 NaN NaN\n",
        "three NaN NaN   5   6\n",
        "\n",
        "[3 rows x 4 columns]"
       ]
      }
     ],
     "prompt_number": 77
    },
    {
     "cell_type": "code",
     "collapsed": false,
     "input": [
      "pd.concat([s1,s2,s3],axis=1,keys=['one','two','three'])"
     ],
     "language": "python",
     "metadata": {},
     "outputs": [
      {
       "html": [
        "<div style=\"max-height:1000px;max-width:1500px;overflow:auto;\">\n",
        "<table border=\"1\" class=\"dataframe\">\n",
        "  <thead>\n",
        "    <tr style=\"text-align: right;\">\n",
        "      <th></th>\n",
        "      <th>one</th>\n",
        "      <th>two</th>\n",
        "      <th>three</th>\n",
        "    </tr>\n",
        "  </thead>\n",
        "  <tbody>\n",
        "    <tr>\n",
        "      <th>a</th>\n",
        "      <td>  0</td>\n",
        "      <td>NaN</td>\n",
        "      <td>NaN</td>\n",
        "    </tr>\n",
        "    <tr>\n",
        "      <th>b</th>\n",
        "      <td>  1</td>\n",
        "      <td>NaN</td>\n",
        "      <td>NaN</td>\n",
        "    </tr>\n",
        "    <tr>\n",
        "      <th>c</th>\n",
        "      <td>NaN</td>\n",
        "      <td>  2</td>\n",
        "      <td>NaN</td>\n",
        "    </tr>\n",
        "    <tr>\n",
        "      <th>d</th>\n",
        "      <td>NaN</td>\n",
        "      <td>  3</td>\n",
        "      <td>NaN</td>\n",
        "    </tr>\n",
        "    <tr>\n",
        "      <th>e</th>\n",
        "      <td>NaN</td>\n",
        "      <td>  4</td>\n",
        "      <td>NaN</td>\n",
        "    </tr>\n",
        "    <tr>\n",
        "      <th>f</th>\n",
        "      <td>NaN</td>\n",
        "      <td>NaN</td>\n",
        "      <td>  5</td>\n",
        "    </tr>\n",
        "    <tr>\n",
        "      <th>g</th>\n",
        "      <td>NaN</td>\n",
        "      <td>NaN</td>\n",
        "      <td>  6</td>\n",
        "    </tr>\n",
        "  </tbody>\n",
        "</table>\n",
        "<p>7 rows \u00d7 3 columns</p>\n",
        "</div>"
       ],
       "metadata": {},
       "output_type": "pyout",
       "prompt_number": 78,
       "text": [
        "   one  two  three\n",
        "a    0  NaN    NaN\n",
        "b    1  NaN    NaN\n",
        "c  NaN    2    NaN\n",
        "d  NaN    3    NaN\n",
        "e  NaN    4    NaN\n",
        "f  NaN  NaN      5\n",
        "g  NaN  NaN      6\n",
        "\n",
        "[7 rows x 3 columns]"
       ]
      }
     ],
     "prompt_number": 78
    },
    {
     "cell_type": "code",
     "collapsed": false,
     "input": [
      "a = Series([np.nan,2.5,np.nan,3.5,4.5,np.nan],index=['f','e','d','c','b','a'])\n",
      "b = Series(np.arange(len(a),dtype=np.float64),index=['f','e','d','c','b','a'])\n",
      "b[-1] = np.nan"
     ],
     "language": "python",
     "metadata": {},
     "outputs": [],
     "prompt_number": 84
    },
    {
     "cell_type": "code",
     "collapsed": false,
     "input": [
      "a"
     ],
     "language": "python",
     "metadata": {},
     "outputs": [
      {
       "metadata": {},
       "output_type": "pyout",
       "prompt_number": 85,
       "text": [
        "f    NaN\n",
        "e    2.5\n",
        "d    NaN\n",
        "c    3.5\n",
        "b    4.5\n",
        "a    NaN\n",
        "dtype: float64"
       ]
      }
     ],
     "prompt_number": 85
    },
    {
     "cell_type": "code",
     "collapsed": false,
     "input": [
      "b"
     ],
     "language": "python",
     "metadata": {},
     "outputs": [
      {
       "metadata": {},
       "output_type": "pyout",
       "prompt_number": 86,
       "text": [
        "f     0\n",
        "e     1\n",
        "d     2\n",
        "c     3\n",
        "b     4\n",
        "a   NaN\n",
        "dtype: float64"
       ]
      }
     ],
     "prompt_number": 86
    },
    {
     "cell_type": "code",
     "collapsed": false,
     "input": [
      "np.where(pd.isnull(a),b,a)"
     ],
     "language": "python",
     "metadata": {},
     "outputs": [
      {
       "metadata": {},
       "output_type": "pyout",
       "prompt_number": 87,
       "text": [
        "array([ 0. ,  2.5,  2. ,  3.5,  4.5,  nan])"
       ]
      }
     ],
     "prompt_number": 87
    },
    {
     "cell_type": "code",
     "collapsed": false,
     "input": [
      "b[:-2].combine_first(a[2:])"
     ],
     "language": "python",
     "metadata": {},
     "outputs": [
      {
       "metadata": {},
       "output_type": "pyout",
       "prompt_number": 89,
       "text": [
        "a    NaN\n",
        "b    4.5\n",
        "c    3.0\n",
        "d    2.0\n",
        "e    1.0\n",
        "f    0.0\n",
        "dtype: float64"
       ]
      }
     ],
     "prompt_number": 89
    },
    {
     "cell_type": "heading",
     "level": 1,
     "metadata": {},
     "source": [
      "Reshaping and Pivoting"
     ]
    },
    {
     "cell_type": "code",
     "collapsed": false,
     "input": [
      "data = DataFrame(np.arange(6).reshape((2,3)),index=pd.Index(['Ohio','Colorado'],name='state'),\n",
      "                 columns=pd.Index(['one','two','three'],name='number'))"
     ],
     "language": "python",
     "metadata": {},
     "outputs": [],
     "prompt_number": 90
    },
    {
     "cell_type": "code",
     "collapsed": false,
     "input": [
      "data"
     ],
     "language": "python",
     "metadata": {},
     "outputs": [
      {
       "html": [
        "<div style=\"max-height:1000px;max-width:1500px;overflow:auto;\">\n",
        "<table border=\"1\" class=\"dataframe\">\n",
        "  <thead>\n",
        "    <tr style=\"text-align: right;\">\n",
        "      <th>number</th>\n",
        "      <th>one</th>\n",
        "      <th>two</th>\n",
        "      <th>three</th>\n",
        "    </tr>\n",
        "    <tr>\n",
        "      <th>state</th>\n",
        "      <th></th>\n",
        "      <th></th>\n",
        "      <th></th>\n",
        "    </tr>\n",
        "  </thead>\n",
        "  <tbody>\n",
        "    <tr>\n",
        "      <th>Ohio</th>\n",
        "      <td> 0</td>\n",
        "      <td> 1</td>\n",
        "      <td> 2</td>\n",
        "    </tr>\n",
        "    <tr>\n",
        "      <th>Colorado</th>\n",
        "      <td> 3</td>\n",
        "      <td> 4</td>\n",
        "      <td> 5</td>\n",
        "    </tr>\n",
        "  </tbody>\n",
        "</table>\n",
        "<p>2 rows \u00d7 3 columns</p>\n",
        "</div>"
       ],
       "metadata": {},
       "output_type": "pyout",
       "prompt_number": 91,
       "text": [
        "number    one  two  three\n",
        "state                    \n",
        "Ohio        0    1      2\n",
        "Colorado    3    4      5\n",
        "\n",
        "[2 rows x 3 columns]"
       ]
      }
     ],
     "prompt_number": 91
    },
    {
     "cell_type": "code",
     "collapsed": false,
     "input": [
      "data.stack()"
     ],
     "language": "python",
     "metadata": {},
     "outputs": [
      {
       "metadata": {},
       "output_type": "pyout",
       "prompt_number": 100,
       "text": [
        "state     number\n",
        "Ohio      one       0\n",
        "          two       1\n",
        "          three     2\n",
        "Colorado  one       3\n",
        "          two       4\n",
        "          three     5\n",
        "dtype: int64"
       ]
      }
     ],
     "prompt_number": 100
    },
    {
     "cell_type": "code",
     "collapsed": false,
     "input": [
      "data.stack().unstack()"
     ],
     "language": "python",
     "metadata": {},
     "outputs": [
      {
       "html": [
        "<div style=\"max-height:1000px;max-width:1500px;overflow:auto;\">\n",
        "<table border=\"1\" class=\"dataframe\">\n",
        "  <thead>\n",
        "    <tr style=\"text-align: right;\">\n",
        "      <th>number</th>\n",
        "      <th>one</th>\n",
        "      <th>two</th>\n",
        "      <th>three</th>\n",
        "    </tr>\n",
        "    <tr>\n",
        "      <th>state</th>\n",
        "      <th></th>\n",
        "      <th></th>\n",
        "      <th></th>\n",
        "    </tr>\n",
        "  </thead>\n",
        "  <tbody>\n",
        "    <tr>\n",
        "      <th>Ohio</th>\n",
        "      <td> 0</td>\n",
        "      <td> 1</td>\n",
        "      <td> 2</td>\n",
        "    </tr>\n",
        "    <tr>\n",
        "      <th>Colorado</th>\n",
        "      <td> 3</td>\n",
        "      <td> 4</td>\n",
        "      <td> 5</td>\n",
        "    </tr>\n",
        "  </tbody>\n",
        "</table>\n",
        "<p>2 rows \u00d7 3 columns</p>\n",
        "</div>"
       ],
       "metadata": {},
       "output_type": "pyout",
       "prompt_number": 101,
       "text": [
        "number    one  two  three\n",
        "state                    \n",
        "Ohio        0    1      2\n",
        "Colorado    3    4      5\n",
        "\n",
        "[2 rows x 3 columns]"
       ]
      }
     ],
     "prompt_number": 101
    },
    {
     "cell_type": "code",
     "collapsed": false,
     "input": [
      "data.stack().unstack(0)"
     ],
     "language": "python",
     "metadata": {},
     "outputs": [
      {
       "html": [
        "<div style=\"max-height:1000px;max-width:1500px;overflow:auto;\">\n",
        "<table border=\"1\" class=\"dataframe\">\n",
        "  <thead>\n",
        "    <tr style=\"text-align: right;\">\n",
        "      <th>state</th>\n",
        "      <th>Ohio</th>\n",
        "      <th>Colorado</th>\n",
        "    </tr>\n",
        "    <tr>\n",
        "      <th>number</th>\n",
        "      <th></th>\n",
        "      <th></th>\n",
        "    </tr>\n",
        "  </thead>\n",
        "  <tbody>\n",
        "    <tr>\n",
        "      <th>one</th>\n",
        "      <td> 0</td>\n",
        "      <td> 3</td>\n",
        "    </tr>\n",
        "    <tr>\n",
        "      <th>two</th>\n",
        "      <td> 1</td>\n",
        "      <td> 4</td>\n",
        "    </tr>\n",
        "    <tr>\n",
        "      <th>three</th>\n",
        "      <td> 2</td>\n",
        "      <td> 5</td>\n",
        "    </tr>\n",
        "  </tbody>\n",
        "</table>\n",
        "<p>3 rows \u00d7 2 columns</p>\n",
        "</div>"
       ],
       "metadata": {},
       "output_type": "pyout",
       "prompt_number": 104,
       "text": [
        "state   Ohio  Colorado\n",
        "number                \n",
        "one        0         3\n",
        "two        1         4\n",
        "three      2         5\n",
        "\n",
        "[3 rows x 2 columns]"
       ]
      }
     ],
     "prompt_number": 104
    },
    {
     "cell_type": "code",
     "collapsed": false,
     "input": [
      "help('duplicated()')"
     ],
     "language": "python",
     "metadata": {},
     "outputs": [
      {
       "output_type": "stream",
       "stream": "stdout",
       "text": [
        "no Python documentation found for 'duplicated()'\n",
        "\n"
       ]
      }
     ],
     "prompt_number": 113
    },
    {
     "cell_type": "code",
     "collapsed": false,
     "input": [
      "data = DataFrame({'food' : ['bacon','pulled pork','bacon','Pastrami','corned beef',\n",
      "                            'Bacon','pastrami','honey ham','nova lox'],\n",
      "                  'ounces' : [4,3,12,6,7.5,8,3,5,6]})"
     ],
     "language": "python",
     "metadata": {},
     "outputs": [],
     "prompt_number": 133
    },
    {
     "cell_type": "code",
     "collapsed": false,
     "input": [
      "meat_to_animal = {'bacon' : 'pig','pulled pork' : 'pig', 'pastrami' : 'cow',\n",
      "                  'corned beef' : 'cow','honey ham': 'pig','nova lox':'salmon'}"
     ],
     "language": "python",
     "metadata": {},
     "outputs": [],
     "prompt_number": 138
    },
    {
     "cell_type": "code",
     "collapsed": false,
     "input": [
      " data['food'].map(str.lower).map(meat_to_animal)"
     ],
     "language": "python",
     "metadata": {},
     "outputs": [
      {
       "metadata": {},
       "output_type": "pyout",
       "prompt_number": 139,
       "text": [
        "0       pig\n",
        "1       pig\n",
        "2       pig\n",
        "3       cow\n",
        "4       cow\n",
        "5       pig\n",
        "6       cow\n",
        "7       pig\n",
        "8    salmon\n",
        "Name: food, dtype: object"
       ]
      }
     ],
     "prompt_number": 139
    },
    {
     "cell_type": "code",
     "collapsed": false,
     "input": [
      "data['food'].map(lambda x: meat_to_animal[x.lower()])"
     ],
     "language": "python",
     "metadata": {},
     "outputs": [
      {
       "metadata": {},
       "output_type": "pyout",
       "prompt_number": 140,
       "text": [
        "0       pig\n",
        "1       pig\n",
        "2       pig\n",
        "3       cow\n",
        "4       cow\n",
        "5       pig\n",
        "6       cow\n",
        "7       pig\n",
        "8    salmon\n",
        "Name: food, dtype: object"
       ]
      }
     ],
     "prompt_number": 140
    },
    {
     "cell_type": "heading",
     "level": 1,
     "metadata": {},
     "source": [
      "Working with Index Values"
     ]
    },
    {
     "cell_type": "code",
     "collapsed": false,
     "input": [
      "data = DataFrame(np.arange(12).reshape((3,4)),\n",
      "                 index=['Ohio','Colorado','New York'],\n",
      "                 columns = ['one','two','three','four'])"
     ],
     "language": "python",
     "metadata": {},
     "outputs": [],
     "prompt_number": 13
    },
    {
     "cell_type": "code",
     "collapsed": false,
     "input": [
      "data.index= data.index.map(str.upper)"
     ],
     "language": "python",
     "metadata": {},
     "outputs": [],
     "prompt_number": 14
    },
    {
     "cell_type": "code",
     "collapsed": false,
     "input": [
      "data.rename(index={'OHIO':'INDIANA'},columns={'three' : 'peekaboo'},inplace=False)"
     ],
     "language": "python",
     "metadata": {},
     "outputs": [
      {
       "html": [
        "<div style=\"max-height:1000px;max-width:1500px;overflow:auto;\">\n",
        "<table border=\"1\" class=\"dataframe\">\n",
        "  <thead>\n",
        "    <tr style=\"text-align: right;\">\n",
        "      <th></th>\n",
        "      <th>one</th>\n",
        "      <th>two</th>\n",
        "      <th>peekaboo</th>\n",
        "      <th>four</th>\n",
        "    </tr>\n",
        "  </thead>\n",
        "  <tbody>\n",
        "    <tr>\n",
        "      <th>INDIANA</th>\n",
        "      <td> 0</td>\n",
        "      <td> 1</td>\n",
        "      <td>  2</td>\n",
        "      <td>  3</td>\n",
        "    </tr>\n",
        "    <tr>\n",
        "      <th>COLORADO</th>\n",
        "      <td> 4</td>\n",
        "      <td> 5</td>\n",
        "      <td>  6</td>\n",
        "      <td>  7</td>\n",
        "    </tr>\n",
        "    <tr>\n",
        "      <th>NEW YORK</th>\n",
        "      <td> 8</td>\n",
        "      <td> 9</td>\n",
        "      <td> 10</td>\n",
        "      <td> 11</td>\n",
        "    </tr>\n",
        "  </tbody>\n",
        "</table>\n",
        "<p>3 rows \u00d7 4 columns</p>\n",
        "</div>"
       ],
       "metadata": {},
       "output_type": "pyout",
       "prompt_number": 15,
       "text": [
        "          one  two  peekaboo  four\n",
        "INDIANA     0    1         2     3\n",
        "COLORADO    4    5         6     7\n",
        "NEW YORK    8    9        10    11\n",
        "\n",
        "[3 rows x 4 columns]"
       ]
      }
     ],
     "prompt_number": 15
    },
    {
     "cell_type": "code",
     "collapsed": false,
     "input": [
      "data"
     ],
     "language": "python",
     "metadata": {},
     "outputs": [
      {
       "html": [
        "<div style=\"max-height:1000px;max-width:1500px;overflow:auto;\">\n",
        "<table border=\"1\" class=\"dataframe\">\n",
        "  <thead>\n",
        "    <tr style=\"text-align: right;\">\n",
        "      <th></th>\n",
        "      <th>one</th>\n",
        "      <th>two</th>\n",
        "      <th>three</th>\n",
        "      <th>four</th>\n",
        "    </tr>\n",
        "  </thead>\n",
        "  <tbody>\n",
        "    <tr>\n",
        "      <th>OHIO</th>\n",
        "      <td> 0</td>\n",
        "      <td> 1</td>\n",
        "      <td>  2</td>\n",
        "      <td>  3</td>\n",
        "    </tr>\n",
        "    <tr>\n",
        "      <th>COLORADO</th>\n",
        "      <td> 4</td>\n",
        "      <td> 5</td>\n",
        "      <td>  6</td>\n",
        "      <td>  7</td>\n",
        "    </tr>\n",
        "    <tr>\n",
        "      <th>NEW YORK</th>\n",
        "      <td> 8</td>\n",
        "      <td> 9</td>\n",
        "      <td> 10</td>\n",
        "      <td> 11</td>\n",
        "    </tr>\n",
        "  </tbody>\n",
        "</table>\n",
        "<p>3 rows \u00d7 4 columns</p>\n",
        "</div>"
       ],
       "metadata": {},
       "output_type": "pyout",
       "prompt_number": 16,
       "text": [
        "          one  two  three  four\n",
        "OHIO        0    1      2     3\n",
        "COLORADO    4    5      6     7\n",
        "NEW YORK    8    9     10    11\n",
        "\n",
        "[3 rows x 4 columns]"
       ]
      }
     ],
     "prompt_number": 16
    },
    {
     "cell_type": "heading",
     "level": 1,
     "metadata": {},
     "source": [
      "Binning"
     ]
    },
    {
     "cell_type": "code",
     "collapsed": false,
     "input": [
      "ages = [20,22,25,27,21,23,37,31,61,45,41,32]"
     ],
     "language": "python",
     "metadata": {},
     "outputs": [],
     "prompt_number": 17
    },
    {
     "cell_type": "code",
     "collapsed": false,
     "input": [
      "bins = [18,25,35,60,100]"
     ],
     "language": "python",
     "metadata": {},
     "outputs": [],
     "prompt_number": 18
    },
    {
     "cell_type": "code",
     "collapsed": false,
     "input": [
      "cats = pd.cut(ages,bins)"
     ],
     "language": "python",
     "metadata": {},
     "outputs": [],
     "prompt_number": 19
    },
    {
     "cell_type": "code",
     "collapsed": false,
     "input": [
      "cats"
     ],
     "language": "python",
     "metadata": {},
     "outputs": [
      {
       "metadata": {},
       "output_type": "pyout",
       "prompt_number": 20,
       "text": [
        "  (18, 25]\n",
        "  (18, 25]\n",
        "  (18, 25]\n",
        "  (25, 35]\n",
        "  (18, 25]\n",
        "  (18, 25]\n",
        "  (35, 60]\n",
        "  (25, 35]\n",
        " (60, 100]\n",
        "  (35, 60]\n",
        "  (35, 60]\n",
        "  (25, 35]\n",
        "Levels (4): Index(['(18, 25]', '(25, 35]', '(35, 60]', '(60, 100]'], dtype=object)"
       ]
      }
     ],
     "prompt_number": 20
    },
    {
     "cell_type": "code",
     "collapsed": false,
     "input": [
      "cats.labels"
     ],
     "language": "python",
     "metadata": {},
     "outputs": [
      {
       "metadata": {},
       "output_type": "pyout",
       "prompt_number": 21,
       "text": [
        "array([0, 0, 0, 1, 0, 0, 2, 1, 3, 2, 2, 1])"
       ]
      }
     ],
     "prompt_number": 21
    },
    {
     "cell_type": "code",
     "collapsed": false,
     "input": [
      "cats.levels"
     ],
     "language": "python",
     "metadata": {},
     "outputs": [
      {
       "metadata": {},
       "output_type": "pyout",
       "prompt_number": 22,
       "text": [
        "Index([u'(18, 25]', u'(25, 35]', u'(35, 60]', u'(60, 100]'], dtype='object')"
       ]
      }
     ],
     "prompt_number": 22
    },
    {
     "cell_type": "code",
     "collapsed": false,
     "input": [
      "pd.value_counts(cats)"
     ],
     "language": "python",
     "metadata": {},
     "outputs": [
      {
       "metadata": {},
       "output_type": "pyout",
       "prompt_number": 23,
       "text": [
        "(18, 25]     5\n",
        "(35, 60]     3\n",
        "(25, 35]     3\n",
        "(60, 100]    1\n",
        "dtype: int64"
       ]
      }
     ],
     "prompt_number": 23
    },
    {
     "cell_type": "code",
     "collapsed": false,
     "input": [
      "data = np.random.rand(20)"
     ],
     "language": "python",
     "metadata": {},
     "outputs": [],
     "prompt_number": 24
    },
    {
     "cell_type": "code",
     "collapsed": false,
     "input": [
      "pd.cut(data,4,precision=2)"
     ],
     "language": "python",
     "metadata": {},
     "outputs": [
      {
       "metadata": {},
       "output_type": "pyout",
       "prompt_number": 28,
       "text": [
        " (0.043, 0.27]\n",
        "  (0.73, 0.95]\n",
        "  (0.73, 0.95]\n",
        " (0.043, 0.27]\n",
        "   (0.5, 0.73]\n",
        " (0.043, 0.27]\n",
        "  (0.73, 0.95]\n",
        "  (0.73, 0.95]\n",
        " (0.043, 0.27]\n",
        "  (0.73, 0.95]\n",
        "  (0.73, 0.95]\n",
        "  (0.73, 0.95]\n",
        " (0.043, 0.27]\n",
        "   (0.27, 0.5]\n",
        "  (0.73, 0.95]\n",
        "   (0.5, 0.73]\n",
        " (0.043, 0.27]\n",
        " (0.043, 0.27]\n",
        "   (0.5, 0.73]\n",
        "   (0.5, 0.73]\n",
        "Levels (4): Index(['(0.043, 0.27]', '(0.27, 0.5]', '(0.5, 0.73]',\n",
        "                   '(0.73, 0.95]'], dtype=object)"
       ]
      }
     ],
     "prompt_number": 28
    },
    {
     "cell_type": "code",
     "collapsed": false,
     "input": [
      "pd.value_counts(pd.cut(data,4,precision=2))"
     ],
     "language": "python",
     "metadata": {},
     "outputs": [
      {
       "metadata": {},
       "output_type": "pyout",
       "prompt_number": 29,
       "text": [
        "(0.73, 0.95]     8\n",
        "(0.043, 0.27]    7\n",
        "(0.5, 0.73]      4\n",
        "(0.27, 0.5]      1\n",
        "dtype: int64"
       ]
      }
     ],
     "prompt_number": 29
    },
    {
     "cell_type": "code",
     "collapsed": false,
     "input": [
      "pd.qcut(data,4)"
     ],
     "language": "python",
     "metadata": {},
     "outputs": [
      {
       "metadata": {},
       "output_type": "pyout",
       "prompt_number": 30,
       "text": [
        " [0.0437, 0.191]\n",
        "  (0.584, 0.807]\n",
        "  (0.584, 0.807]\n",
        "  (0.191, 0.584]\n",
        "  (0.191, 0.584]\n",
        "  (0.191, 0.584]\n",
        "  (0.584, 0.807]\n",
        "  (0.807, 0.952]\n",
        " [0.0437, 0.191]\n",
        "  (0.807, 0.952]\n",
        "  (0.807, 0.952]\n",
        "  (0.807, 0.952]\n",
        " [0.0437, 0.191]\n",
        "  (0.191, 0.584]\n",
        "  (0.807, 0.952]\n",
        "  (0.191, 0.584]\n",
        " [0.0437, 0.191]\n",
        " [0.0437, 0.191]\n",
        "  (0.584, 0.807]\n",
        "  (0.584, 0.807]\n",
        "Levels (4): Index(['[0.0437, 0.191]', '(0.191, 0.584]',\n",
        "                   '(0.584, 0.807]', '(0.807, 0.952]'], dtype=object)"
       ]
      }
     ],
     "prompt_number": 30
    },
    {
     "cell_type": "code",
     "collapsed": false,
     "input": [
      "pd.value_counts(pd.qcut(data,4))"
     ],
     "language": "python",
     "metadata": {},
     "outputs": [
      {
       "metadata": {},
       "output_type": "pyout",
       "prompt_number": 31,
       "text": [
        "(0.584, 0.807]     5\n",
        "(0.191, 0.584]     5\n",
        "[0.0437, 0.191]    5\n",
        "(0.807, 0.952]     5\n",
        "dtype: int64"
       ]
      }
     ],
     "prompt_number": 31
    },
    {
     "cell_type": "code",
     "collapsed": false,
     "input": [
      "pd.qcut(data,[0,0.1,.25,.5,.75,.9,1])"
     ],
     "language": "python",
     "metadata": {},
     "outputs": [
      {
       "metadata": {},
       "output_type": "pyout",
       "prompt_number": 43,
       "text": [
        "  (0.129, 0.191]\n",
        "  (0.584, 0.807]\n",
        "  (0.584, 0.807]\n",
        "  (0.191, 0.584]\n",
        "  (0.191, 0.584]\n",
        "  (0.191, 0.584]\n",
        "  (0.584, 0.807]\n",
        "  (0.807, 0.915]\n",
        " [0.0437, 0.129]\n",
        "  (0.807, 0.915]\n",
        "  (0.915, 0.952]\n",
        "  (0.807, 0.915]\n",
        "  (0.129, 0.191]\n",
        "  (0.191, 0.584]\n",
        "  (0.915, 0.952]\n",
        "  (0.191, 0.584]\n",
        "  (0.129, 0.191]\n",
        " [0.0437, 0.129]\n",
        "  (0.584, 0.807]\n",
        "  (0.584, 0.807]\n",
        "Levels (6): Index(['[0.0437, 0.129]', '(0.129, 0.191]',\n",
        "                   '(0.191, 0.584]', '(0.584, 0.807]', '(0.807, 0.915]',\n",
        "                   '(0.915, 0.952]'], dtype=object)"
       ]
      }
     ],
     "prompt_number": 43
    },
    {
     "cell_type": "code",
     "collapsed": false,
     "input": [
      "data"
     ],
     "language": "python",
     "metadata": {},
     "outputs": [
      {
       "metadata": {},
       "output_type": "pyout",
       "prompt_number": 42,
       "text": [
        "array([ 0.13804364,  0.77987653,  0.80349082,  0.19136271,  0.54219475,\n",
        "        0.2107308 ,  0.73887457,  0.88079296,  0.04389109,  0.81708845,\n",
        "        0.95246358,  0.91227795,  0.18639536,  0.38253169,  0.93568316,\n",
        "        0.51321267,  0.18938965,  0.04366882,  0.65701449,  0.62618337])"
       ]
      }
     ],
     "prompt_number": 42
    },
    {
     "cell_type": "heading",
     "level": 1,
     "metadata": {},
     "source": [
      "Outliers"
     ]
    },
    {
     "cell_type": "code",
     "collapsed": false,
     "input": [
      "np.random.seed(12345)\n",
      "data= DataFrame(np.random.randn(1000,4))\n",
      "data.describe()"
     ],
     "language": "python",
     "metadata": {},
     "outputs": [
      {
       "html": [
        "<div style=\"max-height:1000px;max-width:1500px;overflow:auto;\">\n",
        "<table border=\"1\" class=\"dataframe\">\n",
        "  <thead>\n",
        "    <tr style=\"text-align: right;\">\n",
        "      <th></th>\n",
        "      <th>0</th>\n",
        "      <th>1</th>\n",
        "      <th>2</th>\n",
        "      <th>3</th>\n",
        "    </tr>\n",
        "  </thead>\n",
        "  <tbody>\n",
        "    <tr>\n",
        "      <th>count</th>\n",
        "      <td> 1000.000000</td>\n",
        "      <td> 1000.000000</td>\n",
        "      <td> 1000.000000</td>\n",
        "      <td> 1000.000000</td>\n",
        "    </tr>\n",
        "    <tr>\n",
        "      <th>mean</th>\n",
        "      <td>   -0.067684</td>\n",
        "      <td>    0.067924</td>\n",
        "      <td>    0.025598</td>\n",
        "      <td>   -0.002298</td>\n",
        "    </tr>\n",
        "    <tr>\n",
        "      <th>std</th>\n",
        "      <td>    0.998035</td>\n",
        "      <td>    0.992106</td>\n",
        "      <td>    1.006835</td>\n",
        "      <td>    0.996794</td>\n",
        "    </tr>\n",
        "    <tr>\n",
        "      <th>min</th>\n",
        "      <td>   -3.428254</td>\n",
        "      <td>   -3.548824</td>\n",
        "      <td>   -3.184377</td>\n",
        "      <td>   -3.745356</td>\n",
        "    </tr>\n",
        "    <tr>\n",
        "      <th>25%</th>\n",
        "      <td>   -0.774890</td>\n",
        "      <td>   -0.591841</td>\n",
        "      <td>   -0.641675</td>\n",
        "      <td>   -0.644144</td>\n",
        "    </tr>\n",
        "    <tr>\n",
        "      <th>50%</th>\n",
        "      <td>   -0.116401</td>\n",
        "      <td>    0.101143</td>\n",
        "      <td>    0.002073</td>\n",
        "      <td>   -0.013611</td>\n",
        "    </tr>\n",
        "    <tr>\n",
        "      <th>75%</th>\n",
        "      <td>    0.616366</td>\n",
        "      <td>    0.780282</td>\n",
        "      <td>    0.680391</td>\n",
        "      <td>    0.654328</td>\n",
        "    </tr>\n",
        "    <tr>\n",
        "      <th>max</th>\n",
        "      <td>    3.366626</td>\n",
        "      <td>    2.653656</td>\n",
        "      <td>    3.260383</td>\n",
        "      <td>    3.927528</td>\n",
        "    </tr>\n",
        "  </tbody>\n",
        "</table>\n",
        "<p>8 rows \u00d7 4 columns</p>\n",
        "</div>"
       ],
       "metadata": {},
       "output_type": "pyout",
       "prompt_number": 75,
       "text": [
        "                 0            1            2            3\n",
        "count  1000.000000  1000.000000  1000.000000  1000.000000\n",
        "mean     -0.067684     0.067924     0.025598    -0.002298\n",
        "std       0.998035     0.992106     1.006835     0.996794\n",
        "min      -3.428254    -3.548824    -3.184377    -3.745356\n",
        "25%      -0.774890    -0.591841    -0.641675    -0.644144\n",
        "50%      -0.116401     0.101143     0.002073    -0.013611\n",
        "75%       0.616366     0.780282     0.680391     0.654328\n",
        "max       3.366626     2.653656     3.260383     3.927528\n",
        "\n",
        "[8 rows x 4 columns]"
       ]
      }
     ],
     "prompt_number": 75
    },
    {
     "cell_type": "code",
     "collapsed": false,
     "input": [
      "col = data[3]"
     ],
     "language": "python",
     "metadata": {},
     "outputs": [],
     "prompt_number": 76
    },
    {
     "cell_type": "code",
     "collapsed": false,
     "input": [
      "col[np.abs(col) >3]"
     ],
     "language": "python",
     "metadata": {},
     "outputs": [
      {
       "metadata": {},
       "output_type": "pyout",
       "prompt_number": 77,
       "text": [
        "97     3.927528\n",
        "305   -3.399312\n",
        "400   -3.745356\n",
        "Name: 3, dtype: float64"
       ]
      }
     ],
     "prompt_number": 77
    },
    {
     "cell_type": "code",
     "collapsed": false,
     "input": [
      "data[(np.abs(data)>3).any(1)]"
     ],
     "language": "python",
     "metadata": {},
     "outputs": [
      {
       "html": [
        "<div style=\"max-height:1000px;max-width:1500px;overflow:auto;\">\n",
        "<table border=\"1\" class=\"dataframe\">\n",
        "  <thead>\n",
        "    <tr style=\"text-align: right;\">\n",
        "      <th></th>\n",
        "      <th>0</th>\n",
        "      <th>1</th>\n",
        "      <th>2</th>\n",
        "      <th>3</th>\n",
        "    </tr>\n",
        "  </thead>\n",
        "  <tbody>\n",
        "    <tr>\n",
        "      <th>5  </th>\n",
        "      <td>-0.539741</td>\n",
        "      <td> 0.476985</td>\n",
        "      <td> 3.248944</td>\n",
        "      <td>-1.021228</td>\n",
        "    </tr>\n",
        "    <tr>\n",
        "      <th>97 </th>\n",
        "      <td>-0.774363</td>\n",
        "      <td> 0.552936</td>\n",
        "      <td> 0.106061</td>\n",
        "      <td> 3.927528</td>\n",
        "    </tr>\n",
        "    <tr>\n",
        "      <th>102</th>\n",
        "      <td>-0.655054</td>\n",
        "      <td>-0.565230</td>\n",
        "      <td> 3.176873</td>\n",
        "      <td> 0.959533</td>\n",
        "    </tr>\n",
        "    <tr>\n",
        "      <th>305</th>\n",
        "      <td>-2.315555</td>\n",
        "      <td> 0.457246</td>\n",
        "      <td>-0.025907</td>\n",
        "      <td>-3.399312</td>\n",
        "    </tr>\n",
        "    <tr>\n",
        "      <th>324</th>\n",
        "      <td> 0.050188</td>\n",
        "      <td> 1.951312</td>\n",
        "      <td> 3.260383</td>\n",
        "      <td> 0.963301</td>\n",
        "    </tr>\n",
        "    <tr>\n",
        "      <th>400</th>\n",
        "      <td> 0.146326</td>\n",
        "      <td> 0.508391</td>\n",
        "      <td>-0.196713</td>\n",
        "      <td>-3.745356</td>\n",
        "    </tr>\n",
        "    <tr>\n",
        "      <th>499</th>\n",
        "      <td>-0.293333</td>\n",
        "      <td>-0.242459</td>\n",
        "      <td>-3.056990</td>\n",
        "      <td> 1.918403</td>\n",
        "    </tr>\n",
        "    <tr>\n",
        "      <th>523</th>\n",
        "      <td>-3.428254</td>\n",
        "      <td>-0.296336</td>\n",
        "      <td>-0.439938</td>\n",
        "      <td>-0.867165</td>\n",
        "    </tr>\n",
        "    <tr>\n",
        "      <th>586</th>\n",
        "      <td> 0.275144</td>\n",
        "      <td> 1.179227</td>\n",
        "      <td>-3.184377</td>\n",
        "      <td> 1.369891</td>\n",
        "    </tr>\n",
        "    <tr>\n",
        "      <th>808</th>\n",
        "      <td>-0.362528</td>\n",
        "      <td>-3.548824</td>\n",
        "      <td> 1.553205</td>\n",
        "      <td>-2.186301</td>\n",
        "    </tr>\n",
        "    <tr>\n",
        "      <th>900</th>\n",
        "      <td> 3.366626</td>\n",
        "      <td>-2.372214</td>\n",
        "      <td> 0.851010</td>\n",
        "      <td> 1.332846</td>\n",
        "    </tr>\n",
        "  </tbody>\n",
        "</table>\n",
        "<p>11 rows \u00d7 4 columns</p>\n",
        "</div>"
       ],
       "metadata": {},
       "output_type": "pyout",
       "prompt_number": 82,
       "text": [
        "            0         1         2         3\n",
        "5   -0.539741  0.476985  3.248944 -1.021228\n",
        "97  -0.774363  0.552936  0.106061  3.927528\n",
        "102 -0.655054 -0.565230  3.176873  0.959533\n",
        "305 -2.315555  0.457246 -0.025907 -3.399312\n",
        "324  0.050188  1.951312  3.260383  0.963301\n",
        "400  0.146326  0.508391 -0.196713 -3.745356\n",
        "499 -0.293333 -0.242459 -3.056990  1.918403\n",
        "523 -3.428254 -0.296336 -0.439938 -0.867165\n",
        "586  0.275144  1.179227 -3.184377  1.369891\n",
        "808 -0.362528 -3.548824  1.553205 -2.186301\n",
        "900  3.366626 -2.372214  0.851010  1.332846\n",
        "\n",
        "[11 rows x 4 columns]"
       ]
      }
     ],
     "prompt_number": 82
    },
    {
     "cell_type": "code",
     "collapsed": false,
     "input": [
      "(np.abs(data)>3).any(1)"
     ],
     "language": "python",
     "metadata": {},
     "outputs": [
      {
       "metadata": {},
       "output_type": "pyout",
       "prompt_number": 81,
       "text": [
        "0     False\n",
        "1     False\n",
        "2     False\n",
        "3     False\n",
        "4     False\n",
        "5      True\n",
        "6     False\n",
        "7     False\n",
        "8     False\n",
        "9     False\n",
        "10    False\n",
        "11    False\n",
        "12    False\n",
        "13    False\n",
        "14    False\n",
        "...\n",
        "985    False\n",
        "986    False\n",
        "987    False\n",
        "988    False\n",
        "989    False\n",
        "990    False\n",
        "991    False\n",
        "992    False\n",
        "993    False\n",
        "994    False\n",
        "995    False\n",
        "996    False\n",
        "997    False\n",
        "998    False\n",
        "999    False\n",
        "Length: 1000, dtype: bool"
       ]
      }
     ],
     "prompt_number": 81
    },
    {
     "cell_type": "code",
     "collapsed": false,
     "input": [
      "data[(np.abs(data[2])>3)]"
     ],
     "language": "python",
     "metadata": {},
     "outputs": [
      {
       "html": [
        "<div style=\"max-height:1000px;max-width:1500px;overflow:auto;\">\n",
        "<table border=\"1\" class=\"dataframe\">\n",
        "  <thead>\n",
        "    <tr style=\"text-align: right;\">\n",
        "      <th></th>\n",
        "      <th>0</th>\n",
        "      <th>1</th>\n",
        "      <th>2</th>\n",
        "      <th>3</th>\n",
        "    </tr>\n",
        "  </thead>\n",
        "  <tbody>\n",
        "    <tr>\n",
        "      <th>5  </th>\n",
        "      <td>-0.539741</td>\n",
        "      <td> 0.476985</td>\n",
        "      <td> 3.248944</td>\n",
        "      <td>-1.021228</td>\n",
        "    </tr>\n",
        "    <tr>\n",
        "      <th>102</th>\n",
        "      <td>-0.655054</td>\n",
        "      <td>-0.565230</td>\n",
        "      <td> 3.176873</td>\n",
        "      <td> 0.959533</td>\n",
        "    </tr>\n",
        "    <tr>\n",
        "      <th>324</th>\n",
        "      <td> 0.050188</td>\n",
        "      <td> 1.951312</td>\n",
        "      <td> 3.260383</td>\n",
        "      <td> 0.963301</td>\n",
        "    </tr>\n",
        "    <tr>\n",
        "      <th>499</th>\n",
        "      <td>-0.293333</td>\n",
        "      <td>-0.242459</td>\n",
        "      <td>-3.056990</td>\n",
        "      <td> 1.918403</td>\n",
        "    </tr>\n",
        "    <tr>\n",
        "      <th>586</th>\n",
        "      <td> 0.275144</td>\n",
        "      <td> 1.179227</td>\n",
        "      <td>-3.184377</td>\n",
        "      <td> 1.369891</td>\n",
        "    </tr>\n",
        "  </tbody>\n",
        "</table>\n",
        "<p>5 rows \u00d7 4 columns</p>\n",
        "</div>"
       ],
       "metadata": {},
       "output_type": "pyout",
       "prompt_number": 84,
       "text": [
        "            0         1         2         3\n",
        "5   -0.539741  0.476985  3.248944 -1.021228\n",
        "102 -0.655054 -0.565230  3.176873  0.959533\n",
        "324  0.050188  1.951312  3.260383  0.963301\n",
        "499 -0.293333 -0.242459 -3.056990  1.918403\n",
        "586  0.275144  1.179227 -3.184377  1.369891\n",
        "\n",
        "[5 rows x 4 columns]"
       ]
      }
     ],
     "prompt_number": 84
    },
    {
     "cell_type": "code",
     "collapsed": false,
     "input": [
      "pd.value_counts(np.sign(data[0]))"
     ],
     "language": "python",
     "metadata": {},
     "outputs": [
      {
       "metadata": {},
       "output_type": "pyout",
       "prompt_number": 90,
       "text": [
        "-1    546\n",
        " 1    454\n",
        "dtype: int64"
       ]
      }
     ],
     "prompt_number": 90
    },
    {
     "cell_type": "heading",
     "level": 1,
     "metadata": {},
     "source": [
      "Sampling and Permutations"
     ]
    },
    {
     "cell_type": "code",
     "collapsed": false,
     "input": [
      "df = DataFrame(np.arange(5*4).reshape(5,4))\n",
      "df"
     ],
     "language": "python",
     "metadata": {},
     "outputs": [
      {
       "html": [
        "<div style=\"max-height:1000px;max-width:1500px;overflow:auto;\">\n",
        "<table border=\"1\" class=\"dataframe\">\n",
        "  <thead>\n",
        "    <tr style=\"text-align: right;\">\n",
        "      <th></th>\n",
        "      <th>0</th>\n",
        "      <th>1</th>\n",
        "      <th>2</th>\n",
        "      <th>3</th>\n",
        "    </tr>\n",
        "  </thead>\n",
        "  <tbody>\n",
        "    <tr>\n",
        "      <th>0</th>\n",
        "      <td>  0</td>\n",
        "      <td>  1</td>\n",
        "      <td>  2</td>\n",
        "      <td>  3</td>\n",
        "    </tr>\n",
        "    <tr>\n",
        "      <th>1</th>\n",
        "      <td>  4</td>\n",
        "      <td>  5</td>\n",
        "      <td>  6</td>\n",
        "      <td>  7</td>\n",
        "    </tr>\n",
        "    <tr>\n",
        "      <th>2</th>\n",
        "      <td>  8</td>\n",
        "      <td>  9</td>\n",
        "      <td> 10</td>\n",
        "      <td> 11</td>\n",
        "    </tr>\n",
        "    <tr>\n",
        "      <th>3</th>\n",
        "      <td> 12</td>\n",
        "      <td> 13</td>\n",
        "      <td> 14</td>\n",
        "      <td> 15</td>\n",
        "    </tr>\n",
        "    <tr>\n",
        "      <th>4</th>\n",
        "      <td> 16</td>\n",
        "      <td> 17</td>\n",
        "      <td> 18</td>\n",
        "      <td> 19</td>\n",
        "    </tr>\n",
        "  </tbody>\n",
        "</table>\n",
        "<p>5 rows \u00d7 4 columns</p>\n",
        "</div>"
       ],
       "metadata": {},
       "output_type": "pyout",
       "prompt_number": 92,
       "text": [
        "    0   1   2   3\n",
        "0   0   1   2   3\n",
        "1   4   5   6   7\n",
        "2   8   9  10  11\n",
        "3  12  13  14  15\n",
        "4  16  17  18  19\n",
        "\n",
        "[5 rows x 4 columns]"
       ]
      }
     ],
     "prompt_number": 92
    },
    {
     "cell_type": "code",
     "collapsed": false,
     "input": [
      "sampler = np.random.permutation(5)"
     ],
     "language": "python",
     "metadata": {},
     "outputs": [],
     "prompt_number": 97
    },
    {
     "cell_type": "code",
     "collapsed": false,
     "input": [
      "sampler"
     ],
     "language": "python",
     "metadata": {},
     "outputs": [
      {
       "metadata": {},
       "output_type": "pyout",
       "prompt_number": 98,
       "text": [
        "array([1, 3, 0, 2, 4])"
       ]
      }
     ],
     "prompt_number": 98
    },
    {
     "cell_type": "code",
     "collapsed": false,
     "input": [
      "df.take(sampler)"
     ],
     "language": "python",
     "metadata": {},
     "outputs": [
      {
       "html": [
        "<div style=\"max-height:1000px;max-width:1500px;overflow:auto;\">\n",
        "<table border=\"1\" class=\"dataframe\">\n",
        "  <thead>\n",
        "    <tr style=\"text-align: right;\">\n",
        "      <th></th>\n",
        "      <th>0</th>\n",
        "      <th>1</th>\n",
        "      <th>2</th>\n",
        "      <th>3</th>\n",
        "    </tr>\n",
        "  </thead>\n",
        "  <tbody>\n",
        "    <tr>\n",
        "      <th>1</th>\n",
        "      <td>  4</td>\n",
        "      <td>  5</td>\n",
        "      <td>  6</td>\n",
        "      <td>  7</td>\n",
        "    </tr>\n",
        "    <tr>\n",
        "      <th>3</th>\n",
        "      <td> 12</td>\n",
        "      <td> 13</td>\n",
        "      <td> 14</td>\n",
        "      <td> 15</td>\n",
        "    </tr>\n",
        "    <tr>\n",
        "      <th>0</th>\n",
        "      <td>  0</td>\n",
        "      <td>  1</td>\n",
        "      <td>  2</td>\n",
        "      <td>  3</td>\n",
        "    </tr>\n",
        "    <tr>\n",
        "      <th>2</th>\n",
        "      <td>  8</td>\n",
        "      <td>  9</td>\n",
        "      <td> 10</td>\n",
        "      <td> 11</td>\n",
        "    </tr>\n",
        "    <tr>\n",
        "      <th>4</th>\n",
        "      <td> 16</td>\n",
        "      <td> 17</td>\n",
        "      <td> 18</td>\n",
        "      <td> 19</td>\n",
        "    </tr>\n",
        "  </tbody>\n",
        "</table>\n",
        "<p>5 rows \u00d7 4 columns</p>\n",
        "</div>"
       ],
       "metadata": {},
       "output_type": "pyout",
       "prompt_number": 99,
       "text": [
        "    0   1   2   3\n",
        "1   4   5   6   7\n",
        "3  12  13  14  15\n",
        "0   0   1   2   3\n",
        "2   8   9  10  11\n",
        "4  16  17  18  19\n",
        "\n",
        "[5 rows x 4 columns]"
       ]
      }
     ],
     "prompt_number": 99
    },
    {
     "cell_type": "heading",
     "level": 1,
     "metadata": {},
     "source": [
      "Dummies"
     ]
    },
    {
     "cell_type": "code",
     "collapsed": false,
     "input": [
      "df = DataFrame({'key' : ['b','b','a','c','a','b'],\n",
      "                'data1' : range(6)})"
     ],
     "language": "python",
     "metadata": {},
     "outputs": [],
     "prompt_number": 100
    },
    {
     "cell_type": "code",
     "collapsed": false,
     "input": [
      "dummies = pd.get_dummies(df['key'])\n",
      "df_with_dummy = df[['data1']].join(dummies)"
     ],
     "language": "python",
     "metadata": {},
     "outputs": [],
     "prompt_number": 107
    },
    {
     "cell_type": "code",
     "collapsed": false,
     "input": [
      "df_with_dummy"
     ],
     "language": "python",
     "metadata": {},
     "outputs": [
      {
       "html": [
        "<div style=\"max-height:1000px;max-width:1500px;overflow:auto;\">\n",
        "<table border=\"1\" class=\"dataframe\">\n",
        "  <thead>\n",
        "    <tr style=\"text-align: right;\">\n",
        "      <th></th>\n",
        "      <th>data1</th>\n",
        "      <th>a</th>\n",
        "      <th>b</th>\n",
        "      <th>c</th>\n",
        "    </tr>\n",
        "  </thead>\n",
        "  <tbody>\n",
        "    <tr>\n",
        "      <th>0</th>\n",
        "      <td> 0</td>\n",
        "      <td> 0</td>\n",
        "      <td> 1</td>\n",
        "      <td> 0</td>\n",
        "    </tr>\n",
        "    <tr>\n",
        "      <th>1</th>\n",
        "      <td> 1</td>\n",
        "      <td> 0</td>\n",
        "      <td> 1</td>\n",
        "      <td> 0</td>\n",
        "    </tr>\n",
        "    <tr>\n",
        "      <th>2</th>\n",
        "      <td> 2</td>\n",
        "      <td> 1</td>\n",
        "      <td> 0</td>\n",
        "      <td> 0</td>\n",
        "    </tr>\n",
        "    <tr>\n",
        "      <th>3</th>\n",
        "      <td> 3</td>\n",
        "      <td> 0</td>\n",
        "      <td> 0</td>\n",
        "      <td> 1</td>\n",
        "    </tr>\n",
        "    <tr>\n",
        "      <th>4</th>\n",
        "      <td> 4</td>\n",
        "      <td> 1</td>\n",
        "      <td> 0</td>\n",
        "      <td> 0</td>\n",
        "    </tr>\n",
        "    <tr>\n",
        "      <th>5</th>\n",
        "      <td> 5</td>\n",
        "      <td> 0</td>\n",
        "      <td> 1</td>\n",
        "      <td> 0</td>\n",
        "    </tr>\n",
        "  </tbody>\n",
        "</table>\n",
        "<p>6 rows \u00d7 4 columns</p>\n",
        "</div>"
       ],
       "metadata": {},
       "output_type": "pyout",
       "prompt_number": 108,
       "text": [
        "   data1  a  b  c\n",
        "0      0  0  1  0\n",
        "1      1  0  1  0\n",
        "2      2  1  0  0\n",
        "3      3  0  0  1\n",
        "4      4  1  0  0\n",
        "5      5  0  1  0\n",
        "\n",
        "[6 rows x 4 columns]"
       ]
      }
     ],
     "prompt_number": 108
    },
    {
     "cell_type": "code",
     "collapsed": false,
     "input": [
      "dummies\n"
     ],
     "language": "python",
     "metadata": {},
     "outputs": [
      {
       "html": [
        "<div style=\"max-height:1000px;max-width:1500px;overflow:auto;\">\n",
        "<table border=\"1\" class=\"dataframe\">\n",
        "  <thead>\n",
        "    <tr style=\"text-align: right;\">\n",
        "      <th></th>\n",
        "      <th>a</th>\n",
        "      <th>b</th>\n",
        "      <th>c</th>\n",
        "    </tr>\n",
        "  </thead>\n",
        "  <tbody>\n",
        "    <tr>\n",
        "      <th>0</th>\n",
        "      <td> 0</td>\n",
        "      <td> 1</td>\n",
        "      <td> 0</td>\n",
        "    </tr>\n",
        "    <tr>\n",
        "      <th>1</th>\n",
        "      <td> 0</td>\n",
        "      <td> 1</td>\n",
        "      <td> 0</td>\n",
        "    </tr>\n",
        "    <tr>\n",
        "      <th>2</th>\n",
        "      <td> 1</td>\n",
        "      <td> 0</td>\n",
        "      <td> 0</td>\n",
        "    </tr>\n",
        "    <tr>\n",
        "      <th>3</th>\n",
        "      <td> 0</td>\n",
        "      <td> 0</td>\n",
        "      <td> 1</td>\n",
        "    </tr>\n",
        "    <tr>\n",
        "      <th>4</th>\n",
        "      <td> 1</td>\n",
        "      <td> 0</td>\n",
        "      <td> 0</td>\n",
        "    </tr>\n",
        "    <tr>\n",
        "      <th>5</th>\n",
        "      <td> 0</td>\n",
        "      <td> 1</td>\n",
        "      <td> 0</td>\n",
        "    </tr>\n",
        "  </tbody>\n",
        "</table>\n",
        "<p>6 rows \u00d7 3 columns</p>\n",
        "</div>"
       ],
       "metadata": {},
       "output_type": "pyout",
       "prompt_number": 105,
       "text": [
        "   a  b  c\n",
        "0  0  1  0\n",
        "1  0  1  0\n",
        "2  1  0  0\n",
        "3  0  0  1\n",
        "4  1  0  0\n",
        "5  0  1  0\n",
        "\n",
        "[6 rows x 3 columns]"
       ]
      }
     ],
     "prompt_number": 105
    },
    {
     "cell_type": "code",
     "collapsed": false,
     "input": [
      "mnames = ['movie_id','title','genres']\n",
      "movies = pd.read_table('ch02/movielens/movies.dat',\n",
      "                       sep=\"::\",header=None,names=mnames)"
     ],
     "language": "python",
     "metadata": {},
     "outputs": [],
     "prompt_number": 122
    },
    {
     "cell_type": "code",
     "collapsed": false,
     "input": [
      "movies[:10]"
     ],
     "language": "python",
     "metadata": {},
     "outputs": [
      {
       "html": [
        "<div style=\"max-height:1000px;max-width:1500px;overflow:auto;\">\n",
        "<table border=\"1\" class=\"dataframe\">\n",
        "  <thead>\n",
        "    <tr style=\"text-align: right;\">\n",
        "      <th></th>\n",
        "      <th>movie_id</th>\n",
        "      <th>title</th>\n",
        "      <th>genres</th>\n",
        "    </tr>\n",
        "  </thead>\n",
        "  <tbody>\n",
        "    <tr>\n",
        "      <th>0</th>\n",
        "      <td>  1</td>\n",
        "      <td>                   Toy Story (1995)</td>\n",
        "      <td>  Animation|Children's|Comedy</td>\n",
        "    </tr>\n",
        "    <tr>\n",
        "      <th>1</th>\n",
        "      <td>  2</td>\n",
        "      <td>                     Jumanji (1995)</td>\n",
        "      <td> Adventure|Children's|Fantasy</td>\n",
        "    </tr>\n",
        "    <tr>\n",
        "      <th>2</th>\n",
        "      <td>  3</td>\n",
        "      <td>            Grumpier Old Men (1995)</td>\n",
        "      <td>               Comedy|Romance</td>\n",
        "    </tr>\n",
        "    <tr>\n",
        "      <th>3</th>\n",
        "      <td>  4</td>\n",
        "      <td>           Waiting to Exhale (1995)</td>\n",
        "      <td>                 Comedy|Drama</td>\n",
        "    </tr>\n",
        "    <tr>\n",
        "      <th>4</th>\n",
        "      <td>  5</td>\n",
        "      <td> Father of the Bride Part II (1995)</td>\n",
        "      <td>                       Comedy</td>\n",
        "    </tr>\n",
        "    <tr>\n",
        "      <th>5</th>\n",
        "      <td>  6</td>\n",
        "      <td>                        Heat (1995)</td>\n",
        "      <td>        Action|Crime|Thriller</td>\n",
        "    </tr>\n",
        "    <tr>\n",
        "      <th>6</th>\n",
        "      <td>  7</td>\n",
        "      <td>                     Sabrina (1995)</td>\n",
        "      <td>               Comedy|Romance</td>\n",
        "    </tr>\n",
        "    <tr>\n",
        "      <th>7</th>\n",
        "      <td>  8</td>\n",
        "      <td>                Tom and Huck (1995)</td>\n",
        "      <td>         Adventure|Children's</td>\n",
        "    </tr>\n",
        "    <tr>\n",
        "      <th>8</th>\n",
        "      <td>  9</td>\n",
        "      <td>                Sudden Death (1995)</td>\n",
        "      <td>                       Action</td>\n",
        "    </tr>\n",
        "    <tr>\n",
        "      <th>9</th>\n",
        "      <td> 10</td>\n",
        "      <td>                   GoldenEye (1995)</td>\n",
        "      <td>    Action|Adventure|Thriller</td>\n",
        "    </tr>\n",
        "  </tbody>\n",
        "</table>\n",
        "<p>10 rows \u00d7 3 columns</p>\n",
        "</div>"
       ],
       "metadata": {},
       "output_type": "pyout",
       "prompt_number": 123,
       "text": [
        "   movie_id                               title                        genres\n",
        "0         1                    Toy Story (1995)   Animation|Children's|Comedy\n",
        "1         2                      Jumanji (1995)  Adventure|Children's|Fantasy\n",
        "2         3             Grumpier Old Men (1995)                Comedy|Romance\n",
        "3         4            Waiting to Exhale (1995)                  Comedy|Drama\n",
        "4         5  Father of the Bride Part II (1995)                        Comedy\n",
        "5         6                         Heat (1995)         Action|Crime|Thriller\n",
        "6         7                      Sabrina (1995)                Comedy|Romance\n",
        "7         8                 Tom and Huck (1995)          Adventure|Children's\n",
        "8         9                 Sudden Death (1995)                        Action\n",
        "9        10                    GoldenEye (1995)     Action|Adventure|Thriller\n",
        "\n",
        "[10 rows x 3 columns]"
       ]
      }
     ],
     "prompt_number": 123
    },
    {
     "cell_type": "code",
     "collapsed": false,
     "input": [
      "#extract genres\n",
      "genre_iter = (set(x.split('|')) for x in movies.genres)\n",
      "genres = sorted(set.union(*genre_iter))"
     ],
     "language": "python",
     "metadata": {},
     "outputs": [],
     "prompt_number": 146
    },
    {
     "cell_type": "code",
     "collapsed": false,
     "input": [
      "dummies = DataFrame(np.zeros((len(movies),len(genres))),columns=genres)"
     ],
     "language": "python",
     "metadata": {},
     "outputs": [],
     "prompt_number": 173
    },
    {
     "cell_type": "code",
     "collapsed": false,
     "input": [
      "for i, gen in enumerate(movies.genres):\n",
      "    dummies.ix[i,gen.split(\"|\")] =1"
     ],
     "language": "python",
     "metadata": {},
     "outputs": [],
     "prompt_number": 174
    },
    {
     "cell_type": "code",
     "collapsed": false,
     "input": [
      "dummies[:5]"
     ],
     "language": "python",
     "metadata": {},
     "outputs": [
      {
       "html": [
        "<div style=\"max-height:1000px;max-width:1500px;overflow:auto;\">\n",
        "<table border=\"1\" class=\"dataframe\">\n",
        "  <thead>\n",
        "    <tr style=\"text-align: right;\">\n",
        "      <th></th>\n",
        "      <th>Action</th>\n",
        "      <th>Adventure</th>\n",
        "      <th>Animation</th>\n",
        "      <th>Children's</th>\n",
        "      <th>Comedy</th>\n",
        "      <th>Crime</th>\n",
        "      <th>Documentary</th>\n",
        "      <th>Drama</th>\n",
        "      <th>Fantasy</th>\n",
        "      <th>Film-Noir</th>\n",
        "      <th>Horror</th>\n",
        "      <th>Musical</th>\n",
        "      <th>Mystery</th>\n",
        "      <th>Romance</th>\n",
        "      <th>Sci-Fi</th>\n",
        "      <th>Thriller</th>\n",
        "      <th>War</th>\n",
        "      <th>Western</th>\n",
        "    </tr>\n",
        "  </thead>\n",
        "  <tbody>\n",
        "    <tr>\n",
        "      <th>0</th>\n",
        "      <td> 0</td>\n",
        "      <td> 0</td>\n",
        "      <td> 1</td>\n",
        "      <td> 1</td>\n",
        "      <td> 1</td>\n",
        "      <td> 0</td>\n",
        "      <td> 0</td>\n",
        "      <td> 0</td>\n",
        "      <td> 0</td>\n",
        "      <td> 0</td>\n",
        "      <td> 0</td>\n",
        "      <td> 0</td>\n",
        "      <td> 0</td>\n",
        "      <td> 0</td>\n",
        "      <td> 0</td>\n",
        "      <td> 0</td>\n",
        "      <td> 0</td>\n",
        "      <td> 0</td>\n",
        "    </tr>\n",
        "    <tr>\n",
        "      <th>1</th>\n",
        "      <td> 0</td>\n",
        "      <td> 1</td>\n",
        "      <td> 0</td>\n",
        "      <td> 1</td>\n",
        "      <td> 0</td>\n",
        "      <td> 0</td>\n",
        "      <td> 0</td>\n",
        "      <td> 0</td>\n",
        "      <td> 1</td>\n",
        "      <td> 0</td>\n",
        "      <td> 0</td>\n",
        "      <td> 0</td>\n",
        "      <td> 0</td>\n",
        "      <td> 0</td>\n",
        "      <td> 0</td>\n",
        "      <td> 0</td>\n",
        "      <td> 0</td>\n",
        "      <td> 0</td>\n",
        "    </tr>\n",
        "    <tr>\n",
        "      <th>2</th>\n",
        "      <td> 0</td>\n",
        "      <td> 0</td>\n",
        "      <td> 0</td>\n",
        "      <td> 0</td>\n",
        "      <td> 1</td>\n",
        "      <td> 0</td>\n",
        "      <td> 0</td>\n",
        "      <td> 0</td>\n",
        "      <td> 0</td>\n",
        "      <td> 0</td>\n",
        "      <td> 0</td>\n",
        "      <td> 0</td>\n",
        "      <td> 0</td>\n",
        "      <td> 1</td>\n",
        "      <td> 0</td>\n",
        "      <td> 0</td>\n",
        "      <td> 0</td>\n",
        "      <td> 0</td>\n",
        "    </tr>\n",
        "    <tr>\n",
        "      <th>3</th>\n",
        "      <td> 0</td>\n",
        "      <td> 0</td>\n",
        "      <td> 0</td>\n",
        "      <td> 0</td>\n",
        "      <td> 1</td>\n",
        "      <td> 0</td>\n",
        "      <td> 0</td>\n",
        "      <td> 1</td>\n",
        "      <td> 0</td>\n",
        "      <td> 0</td>\n",
        "      <td> 0</td>\n",
        "      <td> 0</td>\n",
        "      <td> 0</td>\n",
        "      <td> 0</td>\n",
        "      <td> 0</td>\n",
        "      <td> 0</td>\n",
        "      <td> 0</td>\n",
        "      <td> 0</td>\n",
        "    </tr>\n",
        "    <tr>\n",
        "      <th>4</th>\n",
        "      <td> 0</td>\n",
        "      <td> 0</td>\n",
        "      <td> 0</td>\n",
        "      <td> 0</td>\n",
        "      <td> 1</td>\n",
        "      <td> 0</td>\n",
        "      <td> 0</td>\n",
        "      <td> 0</td>\n",
        "      <td> 0</td>\n",
        "      <td> 0</td>\n",
        "      <td> 0</td>\n",
        "      <td> 0</td>\n",
        "      <td> 0</td>\n",
        "      <td> 0</td>\n",
        "      <td> 0</td>\n",
        "      <td> 0</td>\n",
        "      <td> 0</td>\n",
        "      <td> 0</td>\n",
        "    </tr>\n",
        "  </tbody>\n",
        "</table>\n",
        "<p>5 rows \u00d7 18 columns</p>\n",
        "</div>"
       ],
       "metadata": {},
       "output_type": "pyout",
       "prompt_number": 175,
       "text": [
        "   Action  Adventure  Animation  Children's  Comedy  Crime  Documentary  \\\n",
        "0       0          0          1           1       1      0            0   \n",
        "1       0          1          0           1       0      0            0   \n",
        "2       0          0          0           0       1      0            0   \n",
        "3       0          0          0           0       1      0            0   \n",
        "4       0          0          0           0       1      0            0   \n",
        "\n",
        "   Drama  Fantasy  Film-Noir  Horror  Musical  Mystery  Romance  Sci-Fi  \\\n",
        "0      0        0          0       0        0        0        0       0   \n",
        "1      0        1          0       0        0        0        0       0   \n",
        "2      0        0          0       0        0        0        1       0   \n",
        "3      1        0          0       0        0        0        0       0   \n",
        "4      0        0          0       0        0        0        0       0   \n",
        "\n",
        "   Thriller  War  Western  \n",
        "0         0    0        0  \n",
        "1         0    0        0  \n",
        "2         0    0        0  \n",
        "3         0    0        0  \n",
        "4         0    0        0  \n",
        "\n",
        "[5 rows x 18 columns]"
       ]
      }
     ],
     "prompt_number": 175
    },
    {
     "cell_type": "code",
     "collapsed": false,
     "input": [
      "movies_windic = movies.ix[:,:2].join(dummies.add_prefix('Genre_'))"
     ],
     "language": "python",
     "metadata": {},
     "outputs": [],
     "prompt_number": 182
    },
    {
     "cell_type": "code",
     "collapsed": false,
     "input": [
      "movies_windic.ix[:5,:]"
     ],
     "language": "python",
     "metadata": {},
     "outputs": [
      {
       "html": [
        "<div style=\"max-height:1000px;max-width:1500px;overflow:auto;\">\n",
        "<table border=\"1\" class=\"dataframe\">\n",
        "  <thead>\n",
        "    <tr style=\"text-align: right;\">\n",
        "      <th></th>\n",
        "      <th>movie_id</th>\n",
        "      <th>title</th>\n",
        "      <th>Genre_Action</th>\n",
        "      <th>Genre_Adventure</th>\n",
        "      <th>Genre_Animation</th>\n",
        "      <th>Genre_Children's</th>\n",
        "      <th>Genre_Comedy</th>\n",
        "      <th>Genre_Crime</th>\n",
        "      <th>Genre_Documentary</th>\n",
        "      <th>Genre_Drama</th>\n",
        "      <th>Genre_Fantasy</th>\n",
        "      <th>Genre_Film-Noir</th>\n",
        "      <th>Genre_Horror</th>\n",
        "      <th>Genre_Musical</th>\n",
        "      <th>Genre_Mystery</th>\n",
        "      <th>Genre_Romance</th>\n",
        "      <th>Genre_Sci-Fi</th>\n",
        "      <th>Genre_Thriller</th>\n",
        "      <th>Genre_War</th>\n",
        "      <th>Genre_Western</th>\n",
        "    </tr>\n",
        "  </thead>\n",
        "  <tbody>\n",
        "    <tr>\n",
        "      <th>0</th>\n",
        "      <td> 1</td>\n",
        "      <td>                   Toy Story (1995)</td>\n",
        "      <td> 0</td>\n",
        "      <td> 0</td>\n",
        "      <td> 1</td>\n",
        "      <td> 1</td>\n",
        "      <td> 1</td>\n",
        "      <td> 0</td>\n",
        "      <td> 0</td>\n",
        "      <td> 0</td>\n",
        "      <td> 0</td>\n",
        "      <td> 0</td>\n",
        "      <td> 0</td>\n",
        "      <td> 0</td>\n",
        "      <td> 0</td>\n",
        "      <td> 0</td>\n",
        "      <td> 0</td>\n",
        "      <td> 0</td>\n",
        "      <td> 0</td>\n",
        "      <td> 0</td>\n",
        "    </tr>\n",
        "    <tr>\n",
        "      <th>1</th>\n",
        "      <td> 2</td>\n",
        "      <td>                     Jumanji (1995)</td>\n",
        "      <td> 0</td>\n",
        "      <td> 1</td>\n",
        "      <td> 0</td>\n",
        "      <td> 1</td>\n",
        "      <td> 0</td>\n",
        "      <td> 0</td>\n",
        "      <td> 0</td>\n",
        "      <td> 0</td>\n",
        "      <td> 1</td>\n",
        "      <td> 0</td>\n",
        "      <td> 0</td>\n",
        "      <td> 0</td>\n",
        "      <td> 0</td>\n",
        "      <td> 0</td>\n",
        "      <td> 0</td>\n",
        "      <td> 0</td>\n",
        "      <td> 0</td>\n",
        "      <td> 0</td>\n",
        "    </tr>\n",
        "    <tr>\n",
        "      <th>2</th>\n",
        "      <td> 3</td>\n",
        "      <td>            Grumpier Old Men (1995)</td>\n",
        "      <td> 0</td>\n",
        "      <td> 0</td>\n",
        "      <td> 0</td>\n",
        "      <td> 0</td>\n",
        "      <td> 1</td>\n",
        "      <td> 0</td>\n",
        "      <td> 0</td>\n",
        "      <td> 0</td>\n",
        "      <td> 0</td>\n",
        "      <td> 0</td>\n",
        "      <td> 0</td>\n",
        "      <td> 0</td>\n",
        "      <td> 0</td>\n",
        "      <td> 1</td>\n",
        "      <td> 0</td>\n",
        "      <td> 0</td>\n",
        "      <td> 0</td>\n",
        "      <td> 0</td>\n",
        "    </tr>\n",
        "    <tr>\n",
        "      <th>3</th>\n",
        "      <td> 4</td>\n",
        "      <td>           Waiting to Exhale (1995)</td>\n",
        "      <td> 0</td>\n",
        "      <td> 0</td>\n",
        "      <td> 0</td>\n",
        "      <td> 0</td>\n",
        "      <td> 1</td>\n",
        "      <td> 0</td>\n",
        "      <td> 0</td>\n",
        "      <td> 1</td>\n",
        "      <td> 0</td>\n",
        "      <td> 0</td>\n",
        "      <td> 0</td>\n",
        "      <td> 0</td>\n",
        "      <td> 0</td>\n",
        "      <td> 0</td>\n",
        "      <td> 0</td>\n",
        "      <td> 0</td>\n",
        "      <td> 0</td>\n",
        "      <td> 0</td>\n",
        "    </tr>\n",
        "    <tr>\n",
        "      <th>4</th>\n",
        "      <td> 5</td>\n",
        "      <td> Father of the Bride Part II (1995)</td>\n",
        "      <td> 0</td>\n",
        "      <td> 0</td>\n",
        "      <td> 0</td>\n",
        "      <td> 0</td>\n",
        "      <td> 1</td>\n",
        "      <td> 0</td>\n",
        "      <td> 0</td>\n",
        "      <td> 0</td>\n",
        "      <td> 0</td>\n",
        "      <td> 0</td>\n",
        "      <td> 0</td>\n",
        "      <td> 0</td>\n",
        "      <td> 0</td>\n",
        "      <td> 0</td>\n",
        "      <td> 0</td>\n",
        "      <td> 0</td>\n",
        "      <td> 0</td>\n",
        "      <td> 0</td>\n",
        "    </tr>\n",
        "    <tr>\n",
        "      <th>5</th>\n",
        "      <td> 6</td>\n",
        "      <td>                        Heat (1995)</td>\n",
        "      <td> 1</td>\n",
        "      <td> 0</td>\n",
        "      <td> 0</td>\n",
        "      <td> 0</td>\n",
        "      <td> 0</td>\n",
        "      <td> 1</td>\n",
        "      <td> 0</td>\n",
        "      <td> 0</td>\n",
        "      <td> 0</td>\n",
        "      <td> 0</td>\n",
        "      <td> 0</td>\n",
        "      <td> 0</td>\n",
        "      <td> 0</td>\n",
        "      <td> 0</td>\n",
        "      <td> 0</td>\n",
        "      <td> 1</td>\n",
        "      <td> 0</td>\n",
        "      <td> 0</td>\n",
        "    </tr>\n",
        "  </tbody>\n",
        "</table>\n",
        "<p>6 rows \u00d7 20 columns</p>\n",
        "</div>"
       ],
       "metadata": {},
       "output_type": "pyout",
       "prompt_number": 183,
       "text": [
        "   movie_id                               title  Genre_Action  \\\n",
        "0         1                    Toy Story (1995)             0   \n",
        "1         2                      Jumanji (1995)             0   \n",
        "2         3             Grumpier Old Men (1995)             0   \n",
        "3         4            Waiting to Exhale (1995)             0   \n",
        "4         5  Father of the Bride Part II (1995)             0   \n",
        "5         6                         Heat (1995)             1   \n",
        "\n",
        "   Genre_Adventure  Genre_Animation  Genre_Children's  Genre_Comedy  \\\n",
        "0                0                1                 1             1   \n",
        "1                1                0                 1             0   \n",
        "2                0                0                 0             1   \n",
        "3                0                0                 0             1   \n",
        "4                0                0                 0             1   \n",
        "5                0                0                 0             0   \n",
        "\n",
        "   Genre_Crime  Genre_Documentary  Genre_Drama  Genre_Fantasy  \\\n",
        "0            0                  0            0              0   \n",
        "1            0                  0            0              1   \n",
        "2            0                  0            0              0   \n",
        "3            0                  0            1              0   \n",
        "4            0                  0            0              0   \n",
        "5            1                  0            0              0   \n",
        "\n",
        "   Genre_Film-Noir  Genre_Horror  Genre_Musical  Genre_Mystery  Genre_Romance  \\\n",
        "0                0             0              0              0              0   \n",
        "1                0             0              0              0              0   \n",
        "2                0             0              0              0              1   \n",
        "3                0             0              0              0              0   \n",
        "4                0             0              0              0              0   \n",
        "5                0             0              0              0              0   \n",
        "\n",
        "   Genre_Sci-Fi  Genre_Thriller  Genre_War  Genre_Western  \n",
        "0             0               0          0              0  \n",
        "1             0               0          0              0  \n",
        "2             0               0          0              0  \n",
        "3             0               0          0              0  \n",
        "4             0               0          0              0  \n",
        "5             0               1          0              0  \n",
        "\n",
        "[6 rows x 20 columns]"
       ]
      }
     ],
     "prompt_number": 183
    },
    {
     "cell_type": "code",
     "collapsed": false,
     "input": [
      "movies.ix[:,:3]"
     ],
     "language": "python",
     "metadata": {},
     "outputs": [
      {
       "html": [
        "<div style=\"max-height:1000px;max-width:1500px;overflow:auto;\">\n",
        "<table border=\"1\" class=\"dataframe\">\n",
        "  <thead>\n",
        "    <tr style=\"text-align: right;\">\n",
        "      <th></th>\n",
        "      <th>movie_id</th>\n",
        "      <th>title</th>\n",
        "      <th>genres</th>\n",
        "    </tr>\n",
        "  </thead>\n",
        "  <tbody>\n",
        "    <tr>\n",
        "      <th>0 </th>\n",
        "      <td>  1</td>\n",
        "      <td>                                  Toy Story (1995)</td>\n",
        "      <td>          Animation|Children's|Comedy</td>\n",
        "    </tr>\n",
        "    <tr>\n",
        "      <th>1 </th>\n",
        "      <td>  2</td>\n",
        "      <td>                                    Jumanji (1995)</td>\n",
        "      <td>         Adventure|Children's|Fantasy</td>\n",
        "    </tr>\n",
        "    <tr>\n",
        "      <th>2 </th>\n",
        "      <td>  3</td>\n",
        "      <td>                           Grumpier Old Men (1995)</td>\n",
        "      <td>                       Comedy|Romance</td>\n",
        "    </tr>\n",
        "    <tr>\n",
        "      <th>3 </th>\n",
        "      <td>  4</td>\n",
        "      <td>                          Waiting to Exhale (1995)</td>\n",
        "      <td>                         Comedy|Drama</td>\n",
        "    </tr>\n",
        "    <tr>\n",
        "      <th>4 </th>\n",
        "      <td>  5</td>\n",
        "      <td>                Father of the Bride Part II (1995)</td>\n",
        "      <td>                               Comedy</td>\n",
        "    </tr>\n",
        "    <tr>\n",
        "      <th>5 </th>\n",
        "      <td>  6</td>\n",
        "      <td>                                       Heat (1995)</td>\n",
        "      <td>                Action|Crime|Thriller</td>\n",
        "    </tr>\n",
        "    <tr>\n",
        "      <th>6 </th>\n",
        "      <td>  7</td>\n",
        "      <td>                                    Sabrina (1995)</td>\n",
        "      <td>                       Comedy|Romance</td>\n",
        "    </tr>\n",
        "    <tr>\n",
        "      <th>7 </th>\n",
        "      <td>  8</td>\n",
        "      <td>                               Tom and Huck (1995)</td>\n",
        "      <td>                 Adventure|Children's</td>\n",
        "    </tr>\n",
        "    <tr>\n",
        "      <th>8 </th>\n",
        "      <td>  9</td>\n",
        "      <td>                               Sudden Death (1995)</td>\n",
        "      <td>                               Action</td>\n",
        "    </tr>\n",
        "    <tr>\n",
        "      <th>9 </th>\n",
        "      <td> 10</td>\n",
        "      <td>                                  GoldenEye (1995)</td>\n",
        "      <td>            Action|Adventure|Thriller</td>\n",
        "    </tr>\n",
        "    <tr>\n",
        "      <th>10</th>\n",
        "      <td> 11</td>\n",
        "      <td>                    American President, The (1995)</td>\n",
        "      <td>                 Comedy|Drama|Romance</td>\n",
        "    </tr>\n",
        "    <tr>\n",
        "      <th>11</th>\n",
        "      <td> 12</td>\n",
        "      <td>                Dracula: Dead and Loving It (1995)</td>\n",
        "      <td>                        Comedy|Horror</td>\n",
        "    </tr>\n",
        "    <tr>\n",
        "      <th>12</th>\n",
        "      <td> 13</td>\n",
        "      <td>                                      Balto (1995)</td>\n",
        "      <td>                 Animation|Children's</td>\n",
        "    </tr>\n",
        "    <tr>\n",
        "      <th>13</th>\n",
        "      <td> 14</td>\n",
        "      <td>                                      Nixon (1995)</td>\n",
        "      <td>                                Drama</td>\n",
        "    </tr>\n",
        "    <tr>\n",
        "      <th>14</th>\n",
        "      <td> 15</td>\n",
        "      <td>                           Cutthroat Island (1995)</td>\n",
        "      <td>             Action|Adventure|Romance</td>\n",
        "    </tr>\n",
        "    <tr>\n",
        "      <th>15</th>\n",
        "      <td> 16</td>\n",
        "      <td>                                     Casino (1995)</td>\n",
        "      <td>                       Drama|Thriller</td>\n",
        "    </tr>\n",
        "    <tr>\n",
        "      <th>16</th>\n",
        "      <td> 17</td>\n",
        "      <td>                      Sense and Sensibility (1995)</td>\n",
        "      <td>                        Drama|Romance</td>\n",
        "    </tr>\n",
        "    <tr>\n",
        "      <th>17</th>\n",
        "      <td> 18</td>\n",
        "      <td>                                 Four Rooms (1995)</td>\n",
        "      <td>                             Thriller</td>\n",
        "    </tr>\n",
        "    <tr>\n",
        "      <th>18</th>\n",
        "      <td> 19</td>\n",
        "      <td>             Ace Ventura: When Nature Calls (1995)</td>\n",
        "      <td>                               Comedy</td>\n",
        "    </tr>\n",
        "    <tr>\n",
        "      <th>19</th>\n",
        "      <td> 20</td>\n",
        "      <td>                                Money Train (1995)</td>\n",
        "      <td>                               Action</td>\n",
        "    </tr>\n",
        "    <tr>\n",
        "      <th>20</th>\n",
        "      <td> 21</td>\n",
        "      <td>                                 Get Shorty (1995)</td>\n",
        "      <td>                  Action|Comedy|Drama</td>\n",
        "    </tr>\n",
        "    <tr>\n",
        "      <th>21</th>\n",
        "      <td> 22</td>\n",
        "      <td>                                    Copycat (1995)</td>\n",
        "      <td>                 Crime|Drama|Thriller</td>\n",
        "    </tr>\n",
        "    <tr>\n",
        "      <th>22</th>\n",
        "      <td> 23</td>\n",
        "      <td>                                  Assassins (1995)</td>\n",
        "      <td>                             Thriller</td>\n",
        "    </tr>\n",
        "    <tr>\n",
        "      <th>23</th>\n",
        "      <td> 24</td>\n",
        "      <td>                                     Powder (1995)</td>\n",
        "      <td>                         Drama|Sci-Fi</td>\n",
        "    </tr>\n",
        "    <tr>\n",
        "      <th>24</th>\n",
        "      <td> 25</td>\n",
        "      <td>                          Leaving Las Vegas (1995)</td>\n",
        "      <td>                        Drama|Romance</td>\n",
        "    </tr>\n",
        "    <tr>\n",
        "      <th>25</th>\n",
        "      <td> 26</td>\n",
        "      <td>                                    Othello (1995)</td>\n",
        "      <td>                                Drama</td>\n",
        "    </tr>\n",
        "    <tr>\n",
        "      <th>26</th>\n",
        "      <td> 27</td>\n",
        "      <td>                               Now and Then (1995)</td>\n",
        "      <td>                                Drama</td>\n",
        "    </tr>\n",
        "    <tr>\n",
        "      <th>27</th>\n",
        "      <td> 28</td>\n",
        "      <td>                                 Persuasion (1995)</td>\n",
        "      <td>                              Romance</td>\n",
        "    </tr>\n",
        "    <tr>\n",
        "      <th>28</th>\n",
        "      <td> 29</td>\n",
        "      <td>                 City of Lost Children, The (1995)</td>\n",
        "      <td>                     Adventure|Sci-Fi</td>\n",
        "    </tr>\n",
        "    <tr>\n",
        "      <th>29</th>\n",
        "      <td> 30</td>\n",
        "      <td> Shanghai Triad (Yao a yao yao dao waipo qiao) ...</td>\n",
        "      <td>                                Drama</td>\n",
        "    </tr>\n",
        "    <tr>\n",
        "      <th>30</th>\n",
        "      <td> 31</td>\n",
        "      <td>                            Dangerous Minds (1995)</td>\n",
        "      <td>                                Drama</td>\n",
        "    </tr>\n",
        "    <tr>\n",
        "      <th>31</th>\n",
        "      <td> 32</td>\n",
        "      <td>                             Twelve Monkeys (1995)</td>\n",
        "      <td>                         Drama|Sci-Fi</td>\n",
        "    </tr>\n",
        "    <tr>\n",
        "      <th>32</th>\n",
        "      <td> 33</td>\n",
        "      <td>                           Wings of Courage (1995)</td>\n",
        "      <td>                    Adventure|Romance</td>\n",
        "    </tr>\n",
        "    <tr>\n",
        "      <th>33</th>\n",
        "      <td> 34</td>\n",
        "      <td>                                       Babe (1995)</td>\n",
        "      <td>              Children's|Comedy|Drama</td>\n",
        "    </tr>\n",
        "    <tr>\n",
        "      <th>34</th>\n",
        "      <td> 35</td>\n",
        "      <td>                                 Carrington (1995)</td>\n",
        "      <td>                        Drama|Romance</td>\n",
        "    </tr>\n",
        "    <tr>\n",
        "      <th>35</th>\n",
        "      <td> 36</td>\n",
        "      <td>                           Dead Man Walking (1995)</td>\n",
        "      <td>                                Drama</td>\n",
        "    </tr>\n",
        "    <tr>\n",
        "      <th>36</th>\n",
        "      <td> 37</td>\n",
        "      <td>                     Across the Sea of Time (1995)</td>\n",
        "      <td>                          Documentary</td>\n",
        "    </tr>\n",
        "    <tr>\n",
        "      <th>37</th>\n",
        "      <td> 38</td>\n",
        "      <td>                               It Takes Two (1995)</td>\n",
        "      <td>                               Comedy</td>\n",
        "    </tr>\n",
        "    <tr>\n",
        "      <th>38</th>\n",
        "      <td> 39</td>\n",
        "      <td>                                   Clueless (1995)</td>\n",
        "      <td>                       Comedy|Romance</td>\n",
        "    </tr>\n",
        "    <tr>\n",
        "      <th>39</th>\n",
        "      <td> 40</td>\n",
        "      <td>                   Cry, the Beloved Country (1995)</td>\n",
        "      <td>                                Drama</td>\n",
        "    </tr>\n",
        "    <tr>\n",
        "      <th>40</th>\n",
        "      <td> 41</td>\n",
        "      <td>                                Richard III (1995)</td>\n",
        "      <td>                            Drama|War</td>\n",
        "    </tr>\n",
        "    <tr>\n",
        "      <th>41</th>\n",
        "      <td> 42</td>\n",
        "      <td>                            Dead Presidents (1995)</td>\n",
        "      <td>                   Action|Crime|Drama</td>\n",
        "    </tr>\n",
        "    <tr>\n",
        "      <th>42</th>\n",
        "      <td> 43</td>\n",
        "      <td>                                Restoration (1995)</td>\n",
        "      <td>                                Drama</td>\n",
        "    </tr>\n",
        "    <tr>\n",
        "      <th>43</th>\n",
        "      <td> 44</td>\n",
        "      <td>                              Mortal Kombat (1995)</td>\n",
        "      <td>                     Action|Adventure</td>\n",
        "    </tr>\n",
        "    <tr>\n",
        "      <th>44</th>\n",
        "      <td> 45</td>\n",
        "      <td>                                 To Die For (1995)</td>\n",
        "      <td>                         Comedy|Drama</td>\n",
        "    </tr>\n",
        "    <tr>\n",
        "      <th>45</th>\n",
        "      <td> 46</td>\n",
        "      <td>              How to Make an American Quilt (1995)</td>\n",
        "      <td>                        Drama|Romance</td>\n",
        "    </tr>\n",
        "    <tr>\n",
        "      <th>46</th>\n",
        "      <td> 47</td>\n",
        "      <td>                              Seven (Se7en) (1995)</td>\n",
        "      <td>                       Crime|Thriller</td>\n",
        "    </tr>\n",
        "    <tr>\n",
        "      <th>47</th>\n",
        "      <td> 48</td>\n",
        "      <td>                                 Pocahontas (1995)</td>\n",
        "      <td> Animation|Children's|Musical|Romance</td>\n",
        "    </tr>\n",
        "    <tr>\n",
        "      <th>48</th>\n",
        "      <td> 49</td>\n",
        "      <td>                      When Night Is Falling (1995)</td>\n",
        "      <td>                        Drama|Romance</td>\n",
        "    </tr>\n",
        "    <tr>\n",
        "      <th>49</th>\n",
        "      <td> 50</td>\n",
        "      <td>                        Usual Suspects, The (1995)</td>\n",
        "      <td>                       Crime|Thriller</td>\n",
        "    </tr>\n",
        "    <tr>\n",
        "      <th>50</th>\n",
        "      <td> 51</td>\n",
        "      <td>                             Guardian Angel (1994)</td>\n",
        "      <td>                Action|Drama|Thriller</td>\n",
        "    </tr>\n",
        "    <tr>\n",
        "      <th>51</th>\n",
        "      <td> 52</td>\n",
        "      <td>                           Mighty Aphrodite (1995)</td>\n",
        "      <td>                               Comedy</td>\n",
        "    </tr>\n",
        "    <tr>\n",
        "      <th>52</th>\n",
        "      <td> 53</td>\n",
        "      <td>                                   Lamerica (1994)</td>\n",
        "      <td>                                Drama</td>\n",
        "    </tr>\n",
        "    <tr>\n",
        "      <th>53</th>\n",
        "      <td> 54</td>\n",
        "      <td>                             Big Green, The (1995)</td>\n",
        "      <td>                    Children's|Comedy</td>\n",
        "    </tr>\n",
        "    <tr>\n",
        "      <th>54</th>\n",
        "      <td> 55</td>\n",
        "      <td>                                    Georgia (1995)</td>\n",
        "      <td>                                Drama</td>\n",
        "    </tr>\n",
        "    <tr>\n",
        "      <th>55</th>\n",
        "      <td> 56</td>\n",
        "      <td>                    Kids of the Round Table (1995)</td>\n",
        "      <td>         Adventure|Children's|Fantasy</td>\n",
        "    </tr>\n",
        "    <tr>\n",
        "      <th>56</th>\n",
        "      <td> 57</td>\n",
        "      <td>                      Home for the Holidays (1995)</td>\n",
        "      <td>                                Drama</td>\n",
        "    </tr>\n",
        "    <tr>\n",
        "      <th>57</th>\n",
        "      <td> 58</td>\n",
        "      <td>                  Postino, Il (The Postman) (1994)</td>\n",
        "      <td>                        Drama|Romance</td>\n",
        "    </tr>\n",
        "    <tr>\n",
        "      <th>58</th>\n",
        "      <td> 59</td>\n",
        "      <td>       Confessional, The (Le Confessionnal) (1995)</td>\n",
        "      <td>                        Drama|Mystery</td>\n",
        "    </tr>\n",
        "    <tr>\n",
        "      <th>59</th>\n",
        "      <td> 60</td>\n",
        "      <td>                Indian in the Cupboard, The (1995)</td>\n",
        "      <td>         Adventure|Children's|Fantasy</td>\n",
        "    </tr>\n",
        "    <tr>\n",
        "      <th></th>\n",
        "      <td>...</td>\n",
        "      <td>...</td>\n",
        "      <td>...</td>\n",
        "    </tr>\n",
        "  </tbody>\n",
        "</table>\n",
        "<p>3883 rows \u00d7 3 columns</p>\n",
        "</div>"
       ],
       "metadata": {},
       "output_type": "pyout",
       "prompt_number": 181,
       "text": [
        "    movie_id                                              title  \\\n",
        "0          1                                   Toy Story (1995)   \n",
        "1          2                                     Jumanji (1995)   \n",
        "2          3                            Grumpier Old Men (1995)   \n",
        "3          4                           Waiting to Exhale (1995)   \n",
        "4          5                 Father of the Bride Part II (1995)   \n",
        "5          6                                        Heat (1995)   \n",
        "6          7                                     Sabrina (1995)   \n",
        "7          8                                Tom and Huck (1995)   \n",
        "8          9                                Sudden Death (1995)   \n",
        "9         10                                   GoldenEye (1995)   \n",
        "10        11                     American President, The (1995)   \n",
        "11        12                 Dracula: Dead and Loving It (1995)   \n",
        "12        13                                       Balto (1995)   \n",
        "13        14                                       Nixon (1995)   \n",
        "14        15                            Cutthroat Island (1995)   \n",
        "15        16                                      Casino (1995)   \n",
        "16        17                       Sense and Sensibility (1995)   \n",
        "17        18                                  Four Rooms (1995)   \n",
        "18        19              Ace Ventura: When Nature Calls (1995)   \n",
        "19        20                                 Money Train (1995)   \n",
        "20        21                                  Get Shorty (1995)   \n",
        "21        22                                     Copycat (1995)   \n",
        "22        23                                   Assassins (1995)   \n",
        "23        24                                      Powder (1995)   \n",
        "24        25                           Leaving Las Vegas (1995)   \n",
        "25        26                                     Othello (1995)   \n",
        "26        27                                Now and Then (1995)   \n",
        "27        28                                  Persuasion (1995)   \n",
        "28        29                  City of Lost Children, The (1995)   \n",
        "29        30  Shanghai Triad (Yao a yao yao dao waipo qiao) ...   \n",
        "30        31                             Dangerous Minds (1995)   \n",
        "31        32                              Twelve Monkeys (1995)   \n",
        "32        33                            Wings of Courage (1995)   \n",
        "33        34                                        Babe (1995)   \n",
        "34        35                                  Carrington (1995)   \n",
        "35        36                            Dead Man Walking (1995)   \n",
        "36        37                      Across the Sea of Time (1995)   \n",
        "37        38                                It Takes Two (1995)   \n",
        "38        39                                    Clueless (1995)   \n",
        "39        40                    Cry, the Beloved Country (1995)   \n",
        "40        41                                 Richard III (1995)   \n",
        "41        42                             Dead Presidents (1995)   \n",
        "42        43                                 Restoration (1995)   \n",
        "43        44                               Mortal Kombat (1995)   \n",
        "44        45                                  To Die For (1995)   \n",
        "45        46               How to Make an American Quilt (1995)   \n",
        "46        47                               Seven (Se7en) (1995)   \n",
        "47        48                                  Pocahontas (1995)   \n",
        "48        49                       When Night Is Falling (1995)   \n",
        "49        50                         Usual Suspects, The (1995)   \n",
        "50        51                              Guardian Angel (1994)   \n",
        "51        52                            Mighty Aphrodite (1995)   \n",
        "52        53                                    Lamerica (1994)   \n",
        "53        54                              Big Green, The (1995)   \n",
        "54        55                                     Georgia (1995)   \n",
        "55        56                     Kids of the Round Table (1995)   \n",
        "56        57                       Home for the Holidays (1995)   \n",
        "57        58                   Postino, Il (The Postman) (1994)   \n",
        "58        59        Confessional, The (Le Confessionnal) (1995)   \n",
        "59        60                 Indian in the Cupboard, The (1995)   \n",
        "         ...                                                ...   \n",
        "\n",
        "                                  genres  \n",
        "0            Animation|Children's|Comedy  \n",
        "1           Adventure|Children's|Fantasy  \n",
        "2                         Comedy|Romance  \n",
        "3                           Comedy|Drama  \n",
        "4                                 Comedy  \n",
        "5                  Action|Crime|Thriller  \n",
        "6                         Comedy|Romance  \n",
        "7                   Adventure|Children's  \n",
        "8                                 Action  \n",
        "9              Action|Adventure|Thriller  \n",
        "10                  Comedy|Drama|Romance  \n",
        "11                         Comedy|Horror  \n",
        "12                  Animation|Children's  \n",
        "13                                 Drama  \n",
        "14              Action|Adventure|Romance  \n",
        "15                        Drama|Thriller  \n",
        "16                         Drama|Romance  \n",
        "17                              Thriller  \n",
        "18                                Comedy  \n",
        "19                                Action  \n",
        "20                   Action|Comedy|Drama  \n",
        "21                  Crime|Drama|Thriller  \n",
        "22                              Thriller  \n",
        "23                          Drama|Sci-Fi  \n",
        "24                         Drama|Romance  \n",
        "25                                 Drama  \n",
        "26                                 Drama  \n",
        "27                               Romance  \n",
        "28                      Adventure|Sci-Fi  \n",
        "29                                 Drama  \n",
        "30                                 Drama  \n",
        "31                          Drama|Sci-Fi  \n",
        "32                     Adventure|Romance  \n",
        "33               Children's|Comedy|Drama  \n",
        "34                         Drama|Romance  \n",
        "35                                 Drama  \n",
        "36                           Documentary  \n",
        "37                                Comedy  \n",
        "38                        Comedy|Romance  \n",
        "39                                 Drama  \n",
        "40                             Drama|War  \n",
        "41                    Action|Crime|Drama  \n",
        "42                                 Drama  \n",
        "43                      Action|Adventure  \n",
        "44                          Comedy|Drama  \n",
        "45                         Drama|Romance  \n",
        "46                        Crime|Thriller  \n",
        "47  Animation|Children's|Musical|Romance  \n",
        "48                         Drama|Romance  \n",
        "49                        Crime|Thriller  \n",
        "50                 Action|Drama|Thriller  \n",
        "51                                Comedy  \n",
        "52                                 Drama  \n",
        "53                     Children's|Comedy  \n",
        "54                                 Drama  \n",
        "55          Adventure|Children's|Fantasy  \n",
        "56                                 Drama  \n",
        "57                         Drama|Romance  \n",
        "58                         Drama|Mystery  \n",
        "59          Adventure|Children's|Fantasy  \n",
        "                                     ...  \n",
        "\n",
        "[3883 rows x 3 columns]"
       ]
      }
     ],
     "prompt_number": 181
    },
    {
     "cell_type": "heading",
     "level": 1,
     "metadata": {},
     "source": [
      "String manipulation"
     ]
    },
    {
     "cell_type": "code",
     "collapsed": false,
     "input": [
      "val = 'a,b, guido'"
     ],
     "language": "python",
     "metadata": {},
     "outputs": [],
     "prompt_number": 184
    },
    {
     "cell_type": "code",
     "collapsed": false,
     "input": [
      "val.split(',')"
     ],
     "language": "python",
     "metadata": {},
     "outputs": [
      {
       "metadata": {},
       "output_type": "pyout",
       "prompt_number": 185,
       "text": [
        "['a', 'b', ' guido']"
       ]
      }
     ],
     "prompt_number": 185
    },
    {
     "cell_type": "code",
     "collapsed": false,
     "input": [
      "pieces = [x.strip() for x in val.split(',')]"
     ],
     "language": "python",
     "metadata": {},
     "outputs": [],
     "prompt_number": 188
    },
    {
     "cell_type": "code",
     "collapsed": false,
     "input": [
      "pieces"
     ],
     "language": "python",
     "metadata": {},
     "outputs": [
      {
       "metadata": {},
       "output_type": "pyout",
       "prompt_number": 189,
       "text": [
        "['a', 'b', 'guido']"
       ]
      }
     ],
     "prompt_number": 189
    },
    {
     "cell_type": "code",
     "collapsed": false,
     "input": [
      "first, second, third = pieces\n",
      "first + '::' + second + '::' + third"
     ],
     "language": "python",
     "metadata": {},
     "outputs": [
      {
       "metadata": {},
       "output_type": "pyout",
       "prompt_number": 192,
       "text": [
        "'a::b::guido'"
       ]
      }
     ],
     "prompt_number": 192
    },
    {
     "cell_type": "code",
     "collapsed": false,
     "input": [
      "#better \n",
      "'::'.join(pieces)"
     ],
     "language": "python",
     "metadata": {},
     "outputs": [
      {
       "metadata": {},
       "output_type": "pyout",
       "prompt_number": 196,
       "text": [
        "'a::b::guido'"
       ]
      }
     ],
     "prompt_number": 196
    },
    {
     "cell_type": "code",
     "collapsed": false,
     "input": [
      "'guido' in val"
     ],
     "language": "python",
     "metadata": {},
     "outputs": [
      {
       "metadata": {},
       "output_type": "pyout",
       "prompt_number": 198,
       "text": [
        "True"
       ]
      }
     ],
     "prompt_number": 198
    },
    {
     "cell_type": "code",
     "collapsed": false,
     "input": [
      "val.index(',')"
     ],
     "language": "python",
     "metadata": {},
     "outputs": [
      {
       "metadata": {},
       "output_type": "pyout",
       "prompt_number": 200,
       "text": [
        "1"
       ]
      }
     ],
     "prompt_number": 200
    },
    {
     "cell_type": "code",
     "collapsed": false,
     "input": [
      "val.find(':')"
     ],
     "language": "python",
     "metadata": {},
     "outputs": [
      {
       "metadata": {},
       "output_type": "pyout",
       "prompt_number": 202,
       "text": [
        "-1"
       ]
      }
     ],
     "prompt_number": 202
    },
    {
     "cell_type": "code",
     "collapsed": false,
     "input": [
      "val.count(',')"
     ],
     "language": "python",
     "metadata": {},
     "outputs": [
      {
       "metadata": {},
       "output_type": "pyout",
       "prompt_number": 203,
       "text": [
        "2"
       ]
      }
     ],
     "prompt_number": 203
    },
    {
     "cell_type": "heading",
     "level": 1,
     "metadata": {},
     "source": [
      "REGEX"
     ]
    },
    {
     "cell_type": "code",
     "collapsed": false,
     "input": [
      "text = \"\"\"Dave dave@google.com Steve steve@gmail.com\n",
      "Rob rob@gmail.com\n",
      "Ryan ryan@yahoo.com\n",
      "mario@segal-family.com\n",
      "\"\"\""
     ],
     "language": "python",
     "metadata": {},
     "outputs": [],
     "prompt_number": 256
    },
    {
     "cell_type": "code",
     "collapsed": false,
     "input": [
      "text"
     ],
     "language": "python",
     "metadata": {},
     "outputs": [
      {
       "metadata": {},
       "output_type": "pyout",
       "prompt_number": 222,
       "text": [
        "'Dave dave@google.com Steve steve@gmail.com\\nRob rob@gmail.com\\nRyan ryan@yahoo.com\\nmario@segal-family.au\\n'"
       ]
      }
     ],
     "prompt_number": 222
    },
    {
     "cell_type": "code",
     "collapsed": false,
     "input": [
      "import re"
     ],
     "language": "python",
     "metadata": {},
     "outputs": [],
     "prompt_number": 223
    },
    {
     "cell_type": "code",
     "collapsed": false,
     "input": [
      "pattern = r'[A-Za-z0-9._-]+@[A-Za-z0-9.-]+[.][A-Za-z]{2,4}'"
     ],
     "language": "python",
     "metadata": {},
     "outputs": [],
     "prompt_number": 237
    },
    {
     "cell_type": "code",
     "collapsed": false,
     "input": [
      "regex = re.compile(pattern)"
     ],
     "language": "python",
     "metadata": {},
     "outputs": [],
     "prompt_number": 238
    },
    {
     "cell_type": "code",
     "collapsed": false,
     "input": [
      "regex.findall(text)"
     ],
     "language": "python",
     "metadata": {},
     "outputs": [
      {
       "metadata": {},
       "output_type": "pyout",
       "prompt_number": 240,
       "text": [
        "['dave@google.com',\n",
        " 'steve@gmail.com',\n",
        " 'rob@gmail.com',\n",
        " 'ryan@yahoo.com',\n",
        " 'mario@segal-family.au']"
       ]
      }
     ],
     "prompt_number": 240
    },
    {
     "cell_type": "code",
     "collapsed": false,
     "input": [
      "pattern = r'([A-Za-z0-9._-]+)@([A-Za-z0-9.-]+)[.]([A-Za-z]{2,4})'\n",
      "regex = re.compile(pattern)"
     ],
     "language": "python",
     "metadata": {},
     "outputs": [],
     "prompt_number": 249
    },
    {
     "cell_type": "code",
     "collapsed": false,
     "input": [
      "regex.findall(text)"
     ],
     "language": "python",
     "metadata": {},
     "outputs": [
      {
       "metadata": {},
       "output_type": "pyout",
       "prompt_number": 250,
       "text": [
        "[('dave', 'google', 'com'),\n",
        " ('steve', 'gmail', 'com'),\n",
        " ('rob', 'gmail', 'com'),\n",
        " ('ryan', 'yahoo', 'com'),\n",
        " ('mario', 'segal-family', 'au')]"
       ]
      }
     ],
     "prompt_number": 250
    },
    {
     "cell_type": "code",
     "collapsed": false,
     "input": [
      "data = DataFrame(regex.findall(text),columns=['username','domain','suffix'])"
     ],
     "language": "python",
     "metadata": {},
     "outputs": [],
     "prompt_number": 257
    },
    {
     "cell_type": "code",
     "collapsed": false,
     "input": [
      "data"
     ],
     "language": "python",
     "metadata": {},
     "outputs": [
      {
       "html": [
        "<div style=\"max-height:1000px;max-width:1500px;overflow:auto;\">\n",
        "<table border=\"1\" class=\"dataframe\">\n",
        "  <thead>\n",
        "    <tr style=\"text-align: right;\">\n",
        "      <th></th>\n",
        "      <th>username</th>\n",
        "      <th>domain</th>\n",
        "      <th>suffix</th>\n",
        "    </tr>\n",
        "  </thead>\n",
        "  <tbody>\n",
        "    <tr>\n",
        "      <th>0</th>\n",
        "      <td>  dave</td>\n",
        "      <td>       google</td>\n",
        "      <td> com</td>\n",
        "    </tr>\n",
        "    <tr>\n",
        "      <th>1</th>\n",
        "      <td> steve</td>\n",
        "      <td>        gmail</td>\n",
        "      <td> com</td>\n",
        "    </tr>\n",
        "    <tr>\n",
        "      <th>2</th>\n",
        "      <td>   rob</td>\n",
        "      <td>        gmail</td>\n",
        "      <td> com</td>\n",
        "    </tr>\n",
        "    <tr>\n",
        "      <th>3</th>\n",
        "      <td>  ryan</td>\n",
        "      <td>        yahoo</td>\n",
        "      <td> com</td>\n",
        "    </tr>\n",
        "    <tr>\n",
        "      <th>4</th>\n",
        "      <td> mario</td>\n",
        "      <td> segal-family</td>\n",
        "      <td> com</td>\n",
        "    </tr>\n",
        "  </tbody>\n",
        "</table>\n",
        "<p>5 rows \u00d7 3 columns</p>\n",
        "</div>"
       ],
       "metadata": {},
       "output_type": "pyout",
       "prompt_number": 258,
       "text": [
        "  username        domain suffix\n",
        "0     dave        google    com\n",
        "1    steve         gmail    com\n",
        "2      rob         gmail    com\n",
        "3     ryan         yahoo    com\n",
        "4    mario  segal-family    com\n",
        "\n",
        "[5 rows x 3 columns]"
       ]
      }
     ],
     "prompt_number": 258
    },
    {
     "cell_type": "code",
     "collapsed": false,
     "input": [
      "print regex.sub(r'Username: \\1, Domain: \\2, Suffix: \\3', text)"
     ],
     "language": "python",
     "metadata": {},
     "outputs": [
      {
       "output_type": "stream",
       "stream": "stdout",
       "text": [
        "Dave Username: dave, Domain: google, Suffix: com Steve Username: steve, Domain: gmail, Suffix: com\n",
        "Rob Username: rob, Domain: gmail, Suffix: com\n",
        "Ryan Username: ryan, Domain: yahoo, Suffix: com\n",
        "Username: mario, Domain: segal-family, Suffix: com\n",
        "\n"
       ]
      }
     ],
     "prompt_number": 259
    },
    {
     "cell_type": "code",
     "collapsed": false,
     "input": [
      "pattern = r'(?P<username>[A-Za-z0-9._-]+)@(?P<domain>[A-Za-z0-9.-]+)[.](?P<suffix>[A-Za-z]{2,4})'\n",
      "regex = re.compile(pattern,flags=re.VERBOSE)"
     ],
     "language": "python",
     "metadata": {},
     "outputs": [],
     "prompt_number": 278
    },
    {
     "cell_type": "code",
     "collapsed": false,
     "input": [
      "data = DataFrame(regex.findall(text))\n",
      "data"
     ],
     "language": "python",
     "metadata": {},
     "outputs": [
      {
       "html": [
        "<div style=\"max-height:1000px;max-width:1500px;overflow:auto;\">\n",
        "<table border=\"1\" class=\"dataframe\">\n",
        "  <thead>\n",
        "    <tr style=\"text-align: right;\">\n",
        "      <th></th>\n",
        "      <th>0</th>\n",
        "      <th>1</th>\n",
        "      <th>2</th>\n",
        "    </tr>\n",
        "  </thead>\n",
        "  <tbody>\n",
        "    <tr>\n",
        "      <th>0</th>\n",
        "      <td>  dave</td>\n",
        "      <td>       google</td>\n",
        "      <td> com</td>\n",
        "    </tr>\n",
        "    <tr>\n",
        "      <th>1</th>\n",
        "      <td> steve</td>\n",
        "      <td>        gmail</td>\n",
        "      <td> com</td>\n",
        "    </tr>\n",
        "    <tr>\n",
        "      <th>2</th>\n",
        "      <td>   rob</td>\n",
        "      <td>        gmail</td>\n",
        "      <td> com</td>\n",
        "    </tr>\n",
        "    <tr>\n",
        "      <th>3</th>\n",
        "      <td>  ryan</td>\n",
        "      <td>        yahoo</td>\n",
        "      <td> com</td>\n",
        "    </tr>\n",
        "    <tr>\n",
        "      <th>4</th>\n",
        "      <td> mario</td>\n",
        "      <td> segal-family</td>\n",
        "      <td> com</td>\n",
        "    </tr>\n",
        "  </tbody>\n",
        "</table>\n",
        "<p>5 rows \u00d7 3 columns</p>\n",
        "</div>"
       ],
       "metadata": {},
       "output_type": "pyout",
       "prompt_number": 279,
       "text": [
        "       0             1    2\n",
        "0   dave        google  com\n",
        "1  steve         gmail  com\n",
        "2    rob         gmail  com\n",
        "3   ryan         yahoo  com\n",
        "4  mario  segal-family  com\n",
        "\n",
        "[5 rows x 3 columns]"
       ]
      }
     ],
     "prompt_number": 279
    },
    {
     "cell_type": "code",
     "collapsed": false,
     "input": [
      "m =  regex.findall(text)"
     ],
     "language": "python",
     "metadata": {},
     "outputs": [],
     "prompt_number": 282
    },
    {
     "cell_type": "code",
     "collapsed": false,
     "input": [
      "regex"
     ],
     "language": "python",
     "metadata": {},
     "outputs": [
      {
       "metadata": {},
       "output_type": "pyout",
       "prompt_number": 283,
       "text": [
        "re.compile(r'(?P<username>[A-Za-z0-9._-]+)@(?P<domain>[A-Za-z0-9.-]+)[.](?P<suffix>[A-Za-z]{2,4})',\n",
        "re.VERBOSE)"
       ]
      }
     ],
     "prompt_number": 283
    },
    {
     "cell_type": "code",
     "collapsed": false,
     "input": [
      "regex.match('mario.segal@gmail.com').groupdict()"
     ],
     "language": "python",
     "metadata": {},
     "outputs": [
      {
       "metadata": {},
       "output_type": "pyout",
       "prompt_number": 286,
       "text": [
        "{'domain': 'gmail', 'suffix': 'com', 'username': 'mario.segal'}"
       ]
      }
     ],
     "prompt_number": 286
    },
    {
     "cell_type": "code",
     "collapsed": false,
     "input": [
      "re.findall(pattern,text)"
     ],
     "language": "python",
     "metadata": {},
     "outputs": [
      {
       "metadata": {},
       "output_type": "pyout",
       "prompt_number": 239,
       "text": [
        "['dave@google.com',\n",
        " 'steve@gmail.com',\n",
        " 'rob@gmail.com',\n",
        " 'ryan@yahoo.com',\n",
        " 'mario@segal-family.au']"
       ]
      }
     ],
     "prompt_number": 239
    },
    {
     "cell_type": "heading",
     "level": 1,
     "metadata": {},
     "source": [
      "Vecrorized Strings"
     ]
    },
    {
     "cell_type": "code",
     "collapsed": false,
     "input": [
      "data = {'Dave': 'dave@google.com', 'Steve': 'steve@gmail.com', 'Rob': 'rob@gmail.com', 'Wes': np.nan}"
     ],
     "language": "python",
     "metadata": {},
     "outputs": [],
     "prompt_number": 2
    },
    {
     "cell_type": "code",
     "collapsed": false,
     "input": [
      "data = Series(data)"
     ],
     "language": "python",
     "metadata": {},
     "outputs": [],
     "prompt_number": 4
    },
    {
     "cell_type": "code",
     "collapsed": false,
     "input": [
      "data"
     ],
     "language": "python",
     "metadata": {},
     "outputs": [
      {
       "metadata": {},
       "output_type": "pyout",
       "prompt_number": 6,
       "text": [
        "Dave     dave@google.com\n",
        "Rob        rob@gmail.com\n",
        "Steve    steve@gmail.com\n",
        "Wes                  NaN\n",
        "dtype: object"
       ]
      }
     ],
     "prompt_number": 6
    },
    {
     "cell_type": "code",
     "collapsed": false,
     "input": [
      "data.str.contains('gmail')"
     ],
     "language": "python",
     "metadata": {},
     "outputs": [
      {
       "metadata": {},
       "output_type": "pyout",
       "prompt_number": 7,
       "text": [
        "Dave     False\n",
        "Rob       True\n",
        "Steve     True\n",
        "Wes        NaN\n",
        "dtype: object"
       ]
      }
     ],
     "prompt_number": 7
    },
    {
     "cell_type": "code",
     "collapsed": false,
     "input": [
      "pattern = '([A-Z0-9._%+-]+)@([A-Z0-9.-]+)\\\\.([A-Z]{2,4})'\n",
      "data.str.findall(pattern,flags=re.IGNORECASE)"
     ],
     "language": "python",
     "metadata": {},
     "outputs": [
      {
       "metadata": {},
       "output_type": "pyout",
       "prompt_number": 12,
       "text": [
        "Dave     [(dave, google, com)]\n",
        "Rob        [(rob, gmail, com)]\n",
        "Steve    [(steve, gmail, com)]\n",
        "Wes                        NaN\n",
        "dtype: object"
       ]
      }
     ],
     "prompt_number": 12
    },
    {
     "cell_type": "code",
     "collapsed": false,
     "input": [
      "matches = data.str.match(pattern, flags=re.IGNORECASE)\n",
      "matches"
     ],
     "language": "python",
     "metadata": {},
     "outputs": [
      {
       "output_type": "stream",
       "stream": "stderr",
       "text": [
        "/Library/Python/2.7/site-packages/pandas-0.13.1_213_gc174c3d-py2.7-macosx-10.9-intel.egg/pandas/core/strings.py:367: UserWarning: In future versions of pandas, match will change to always return a bool indexer.\n",
        "  \" always return a bool indexer.\"\"\", UserWarning)\n"
       ]
      },
      {
       "metadata": {},
       "output_type": "pyout",
       "prompt_number": 13,
       "text": [
        "Dave     (dave, google, com)\n",
        "Rob        (rob, gmail, com)\n",
        "Steve    (steve, gmail, com)\n",
        "Wes                      NaN\n",
        "dtype: object"
       ]
      }
     ],
     "prompt_number": 13
    },
    {
     "cell_type": "code",
     "collapsed": false,
     "input": [
      "matches.str[0]"
     ],
     "language": "python",
     "metadata": {},
     "outputs": [
      {
       "metadata": {},
       "output_type": "pyout",
       "prompt_number": 14,
       "text": [
        "Dave      dave\n",
        "Rob        rob\n",
        "Steve    steve\n",
        "Wes        NaN\n",
        "dtype: object"
       ]
      }
     ],
     "prompt_number": 14
    },
    {
     "cell_type": "code",
     "collapsed": false,
     "input": [
      "matches.str.get(0)"
     ],
     "language": "python",
     "metadata": {},
     "outputs": [
      {
       "metadata": {},
       "output_type": "pyout",
       "prompt_number": 16,
       "text": [
        "Dave      dave\n",
        "Rob        rob\n",
        "Steve    steve\n",
        "Wes        NaN\n",
        "dtype: object"
       ]
      }
     ],
     "prompt_number": 16
    },
    {
     "cell_type": "code",
     "collapsed": false,
     "input": [
      "matches.get(0)"
     ],
     "language": "python",
     "metadata": {},
     "outputs": [
      {
       "metadata": {},
       "output_type": "pyout",
       "prompt_number": 17,
       "text": [
        "('dave', 'google', 'com')"
       ]
      }
     ],
     "prompt_number": 17
    },
    {
     "cell_type": "code",
     "collapsed": false,
     "input": [
      "data.str[:5]"
     ],
     "language": "python",
     "metadata": {},
     "outputs": [
      {
       "metadata": {},
       "output_type": "pyout",
       "prompt_number": 18,
       "text": [
        "Dave     dave@\n",
        "Rob      rob@g\n",
        "Steve    steve\n",
        "Wes        NaN\n",
        "dtype: object"
       ]
      }
     ],
     "prompt_number": 18
    },
    {
     "cell_type": "code",
     "collapsed": false,
     "input": [
      "! ls ch07/"
     ],
     "language": "python",
     "metadata": {},
     "outputs": [
      {
       "output_type": "stream",
       "stream": "stdout",
       "text": [
        "\u001b[31manalysis.py\u001b[m\u001b[m           \u001b[31mmacrodata.csv\u001b[m\u001b[m\r\n",
        "\u001b[31mfoods-2011-10-03.json\u001b[m\u001b[m \u001b[31molivier.txt\u001b[m\u001b[m\r\n"
       ]
      }
     ],
     "prompt_number": 20
    },
    {
     "cell_type": "code",
     "collapsed": false,
     "input": [
      "import json\n",
      "db = json.load(open('ch07/foods-2011-10-03.json'))"
     ],
     "language": "python",
     "metadata": {},
     "outputs": [],
     "prompt_number": 2
    },
    {
     "cell_type": "code",
     "collapsed": false,
     "input": [
      "db[0].keys()"
     ],
     "language": "python",
     "metadata": {},
     "outputs": [
      {
       "metadata": {},
       "output_type": "pyout",
       "prompt_number": 3,
       "text": [
        "[u'portions',\n",
        " u'description',\n",
        " u'tags',\n",
        " u'nutrients',\n",
        " u'group',\n",
        " u'id',\n",
        " u'manufacturer']"
       ]
      }
     ],
     "prompt_number": 3
    },
    {
     "cell_type": "code",
     "collapsed": false,
     "input": [
      "nutrients = DataFrame(db[0]['nutrients'])"
     ],
     "language": "python",
     "metadata": {},
     "outputs": [],
     "prompt_number": 4
    },
    {
     "cell_type": "code",
     "collapsed": false,
     "input": [
      "nutrients[:7]"
     ],
     "language": "python",
     "metadata": {},
     "outputs": [
      {
       "html": [
        "<div style=\"max-height:1000px;max-width:1500px;overflow:auto;\">\n",
        "<table border=\"1\" class=\"dataframe\">\n",
        "  <thead>\n",
        "    <tr style=\"text-align: right;\">\n",
        "      <th></th>\n",
        "      <th>description</th>\n",
        "      <th>group</th>\n",
        "      <th>units</th>\n",
        "      <th>value</th>\n",
        "    </tr>\n",
        "  </thead>\n",
        "  <tbody>\n",
        "    <tr>\n",
        "      <th>0</th>\n",
        "      <td>                     Protein</td>\n",
        "      <td> Composition</td>\n",
        "      <td>    g</td>\n",
        "      <td>   25.18</td>\n",
        "    </tr>\n",
        "    <tr>\n",
        "      <th>1</th>\n",
        "      <td>           Total lipid (fat)</td>\n",
        "      <td> Composition</td>\n",
        "      <td>    g</td>\n",
        "      <td>   29.20</td>\n",
        "    </tr>\n",
        "    <tr>\n",
        "      <th>2</th>\n",
        "      <td> Carbohydrate, by difference</td>\n",
        "      <td> Composition</td>\n",
        "      <td>    g</td>\n",
        "      <td>    3.06</td>\n",
        "    </tr>\n",
        "    <tr>\n",
        "      <th>3</th>\n",
        "      <td>                         Ash</td>\n",
        "      <td>       Other</td>\n",
        "      <td>    g</td>\n",
        "      <td>    3.28</td>\n",
        "    </tr>\n",
        "    <tr>\n",
        "      <th>4</th>\n",
        "      <td>                      Energy</td>\n",
        "      <td>      Energy</td>\n",
        "      <td> kcal</td>\n",
        "      <td>  376.00</td>\n",
        "    </tr>\n",
        "    <tr>\n",
        "      <th>5</th>\n",
        "      <td>                       Water</td>\n",
        "      <td> Composition</td>\n",
        "      <td>    g</td>\n",
        "      <td>   39.28</td>\n",
        "    </tr>\n",
        "    <tr>\n",
        "      <th>6</th>\n",
        "      <td>                      Energy</td>\n",
        "      <td>      Energy</td>\n",
        "      <td>   kJ</td>\n",
        "      <td> 1573.00</td>\n",
        "    </tr>\n",
        "  </tbody>\n",
        "</table>\n",
        "<p>7 rows \u00d7 4 columns</p>\n",
        "</div>"
       ],
       "metadata": {},
       "output_type": "pyout",
       "prompt_number": 5,
       "text": [
        "                   description        group units    value\n",
        "0                      Protein  Composition     g    25.18\n",
        "1            Total lipid (fat)  Composition     g    29.20\n",
        "2  Carbohydrate, by difference  Composition     g     3.06\n",
        "3                          Ash        Other     g     3.28\n",
        "4                       Energy       Energy  kcal   376.00\n",
        "5                        Water  Composition     g    39.28\n",
        "6                       Energy       Energy    kJ  1573.00\n",
        "\n",
        "[7 rows x 4 columns]"
       ]
      }
     ],
     "prompt_number": 5
    },
    {
     "cell_type": "code",
     "collapsed": false,
     "input": [
      "#convert to df\n",
      "info_keys = ['description', 'group', 'id', 'manufacturer']\n",
      "info = DataFrame(db, columns=info_keys)"
     ],
     "language": "python",
     "metadata": {},
     "outputs": [],
     "prompt_number": 6
    },
    {
     "cell_type": "code",
     "collapsed": false,
     "input": [
      "info[:5]"
     ],
     "language": "python",
     "metadata": {},
     "outputs": [
      {
       "html": [
        "<div style=\"max-height:1000px;max-width:1500px;overflow:auto;\">\n",
        "<table border=\"1\" class=\"dataframe\">\n",
        "  <thead>\n",
        "    <tr style=\"text-align: right;\">\n",
        "      <th></th>\n",
        "      <th>description</th>\n",
        "      <th>group</th>\n",
        "      <th>id</th>\n",
        "      <th>manufacturer</th>\n",
        "    </tr>\n",
        "  </thead>\n",
        "  <tbody>\n",
        "    <tr>\n",
        "      <th>0</th>\n",
        "      <td>                    Cheese, caraway</td>\n",
        "      <td> Dairy and Egg Products</td>\n",
        "      <td> 1008</td>\n",
        "      <td> </td>\n",
        "    </tr>\n",
        "    <tr>\n",
        "      <th>1</th>\n",
        "      <td>                    Cheese, cheddar</td>\n",
        "      <td> Dairy and Egg Products</td>\n",
        "      <td> 1009</td>\n",
        "      <td> </td>\n",
        "    </tr>\n",
        "    <tr>\n",
        "      <th>2</th>\n",
        "      <td>                       Cheese, edam</td>\n",
        "      <td> Dairy and Egg Products</td>\n",
        "      <td> 1018</td>\n",
        "      <td> </td>\n",
        "    </tr>\n",
        "    <tr>\n",
        "      <th>3</th>\n",
        "      <td>                       Cheese, feta</td>\n",
        "      <td> Dairy and Egg Products</td>\n",
        "      <td> 1019</td>\n",
        "      <td> </td>\n",
        "    </tr>\n",
        "    <tr>\n",
        "      <th>4</th>\n",
        "      <td> Cheese, mozzarella, part skim milk</td>\n",
        "      <td> Dairy and Egg Products</td>\n",
        "      <td> 1028</td>\n",
        "      <td> </td>\n",
        "    </tr>\n",
        "  </tbody>\n",
        "</table>\n",
        "<p>5 rows \u00d7 4 columns</p>\n",
        "</div>"
       ],
       "metadata": {},
       "output_type": "pyout",
       "prompt_number": 7,
       "text": [
        "                          description                   group    id  \\\n",
        "0                     Cheese, caraway  Dairy and Egg Products  1008   \n",
        "1                     Cheese, cheddar  Dairy and Egg Products  1009   \n",
        "2                        Cheese, edam  Dairy and Egg Products  1018   \n",
        "3                        Cheese, feta  Dairy and Egg Products  1019   \n",
        "4  Cheese, mozzarella, part skim milk  Dairy and Egg Products  1028   \n",
        "\n",
        "  manufacturer  \n",
        "0               \n",
        "1               \n",
        "2               \n",
        "3               \n",
        "4               \n",
        "\n",
        "[5 rows x 4 columns]"
       ]
      }
     ],
     "prompt_number": 7
    },
    {
     "cell_type": "code",
     "collapsed": false,
     "input": [
      "pd.value_counts(info.group)[:10]\n"
     ],
     "language": "python",
     "metadata": {},
     "outputs": [
      {
       "metadata": {},
       "output_type": "pyout",
       "prompt_number": 8,
       "text": [
        "Vegetables and Vegetable Products    812\n",
        "Beef Products                        618\n",
        "Baked Products                       496\n",
        "Breakfast Cereals                    403\n",
        "Legumes and Legume Products          365\n",
        "Fast Foods                           365\n",
        "Lamb, Veal, and Game Products        345\n",
        "Sweets                               341\n",
        "Fruits and Fruit Juices              328\n",
        "Pork Products                        328\n",
        "dtype: int64"
       ]
      }
     ],
     "prompt_number": 8
    },
    {
     "cell_type": "code",
     "collapsed": false,
     "input": [
      "nutrients = []\n",
      "for rec in db:\n",
      "    fnuts = DataFrame(rec['nutrients']) \n",
      "    fnuts['id'] = rec['id'] \n",
      "    nutrients.append(fnuts)\n",
      "    \n",
      "#this creates a list"
     ],
     "language": "python",
     "metadata": {},
     "outputs": [],
     "prompt_number": 9
    },
    {
     "cell_type": "code",
     "collapsed": false,
     "input": [
      "nutrients = pd.concat(nutrients, ignore_index=True)\n",
      "#this creates a df"
     ],
     "language": "python",
     "metadata": {},
     "outputs": [],
     "prompt_number": 10
    },
    {
     "cell_type": "code",
     "collapsed": false,
     "input": [
      "len(nutrients)"
     ],
     "language": "python",
     "metadata": {},
     "outputs": [
      {
       "metadata": {},
       "output_type": "pyout",
       "prompt_number": 11,
       "text": [
        "389355"
       ]
      }
     ],
     "prompt_number": 11
    },
    {
     "cell_type": "code",
     "collapsed": false,
     "input": [
      "nutrients.duplicated().sum()"
     ],
     "language": "python",
     "metadata": {},
     "outputs": [
      {
       "metadata": {},
       "output_type": "pyout",
       "prompt_number": 12,
       "text": [
        "14179"
       ]
      }
     ],
     "prompt_number": 12
    },
    {
     "cell_type": "code",
     "collapsed": false,
     "input": [
      "nutrients = nutrients.drop_duplicates()"
     ],
     "language": "python",
     "metadata": {},
     "outputs": [],
     "prompt_number": 13
    },
    {
     "cell_type": "code",
     "collapsed": false,
     "input": [
      "col_mapping = {'description' : 'food','group' : 'fgroup'}\n",
      "info = info.rename(columns=col_mapping, copy=False)"
     ],
     "language": "python",
     "metadata": {},
     "outputs": [],
     "prompt_number": 21
    },
    {
     "cell_type": "code",
     "collapsed": false,
     "input": [
      "info.dtypes"
     ],
     "language": "python",
     "metadata": {},
     "outputs": [
      {
       "metadata": {},
       "output_type": "pyout",
       "prompt_number": 22,
       "text": [
        "food            object\n",
        "fgroup          object\n",
        "id               int64\n",
        "manufacturer    object\n",
        "dtype: object"
       ]
      }
     ],
     "prompt_number": 22
    },
    {
     "cell_type": "code",
     "collapsed": false,
     "input": [
      "col_mapping = {'description': 'nutrient','group' : 'nutgroup'}\n",
      "nutrients = nutrients.rename(columns=col_mapping,copy=False)\n",
      "nutrients.head()"
     ],
     "language": "python",
     "metadata": {},
     "outputs": [
      {
       "html": [
        "<div style=\"max-height:1000px;max-width:1500px;overflow:auto;\">\n",
        "<table border=\"1\" class=\"dataframe\">\n",
        "  <thead>\n",
        "    <tr style=\"text-align: right;\">\n",
        "      <th></th>\n",
        "      <th>nutrient</th>\n",
        "      <th>nutgroup</th>\n",
        "      <th>units</th>\n",
        "      <th>value</th>\n",
        "      <th>id</th>\n",
        "    </tr>\n",
        "  </thead>\n",
        "  <tbody>\n",
        "    <tr>\n",
        "      <th>0</th>\n",
        "      <td>                     Protein</td>\n",
        "      <td> Composition</td>\n",
        "      <td>    g</td>\n",
        "      <td>  25.18</td>\n",
        "      <td> 1008</td>\n",
        "    </tr>\n",
        "    <tr>\n",
        "      <th>1</th>\n",
        "      <td>           Total lipid (fat)</td>\n",
        "      <td> Composition</td>\n",
        "      <td>    g</td>\n",
        "      <td>  29.20</td>\n",
        "      <td> 1008</td>\n",
        "    </tr>\n",
        "    <tr>\n",
        "      <th>2</th>\n",
        "      <td> Carbohydrate, by difference</td>\n",
        "      <td> Composition</td>\n",
        "      <td>    g</td>\n",
        "      <td>   3.06</td>\n",
        "      <td> 1008</td>\n",
        "    </tr>\n",
        "    <tr>\n",
        "      <th>3</th>\n",
        "      <td>                         Ash</td>\n",
        "      <td>       Other</td>\n",
        "      <td>    g</td>\n",
        "      <td>   3.28</td>\n",
        "      <td> 1008</td>\n",
        "    </tr>\n",
        "    <tr>\n",
        "      <th>4</th>\n",
        "      <td>                      Energy</td>\n",
        "      <td>      Energy</td>\n",
        "      <td> kcal</td>\n",
        "      <td> 376.00</td>\n",
        "      <td> 1008</td>\n",
        "    </tr>\n",
        "  </tbody>\n",
        "</table>\n",
        "<p>5 rows \u00d7 5 columns</p>\n",
        "</div>"
       ],
       "metadata": {},
       "output_type": "pyout",
       "prompt_number": 23,
       "text": [
        "                      nutrient     nutgroup units   value    id\n",
        "0                      Protein  Composition     g   25.18  1008\n",
        "1            Total lipid (fat)  Composition     g   29.20  1008\n",
        "2  Carbohydrate, by difference  Composition     g    3.06  1008\n",
        "3                          Ash        Other     g    3.28  1008\n",
        "4                       Energy       Energy  kcal  376.00  1008\n",
        "\n",
        "[5 rows x 5 columns]"
       ]
      }
     ],
     "prompt_number": 23
    },
    {
     "cell_type": "code",
     "collapsed": false,
     "input": [
      "ndata = pd.merge(nutrients,info,on='id',how='outer')\n",
      "ndata.ix[:5,:]"
     ],
     "language": "python",
     "metadata": {},
     "outputs": [
      {
       "html": [
        "<div style=\"max-height:1000px;max-width:1500px;overflow:auto;\">\n",
        "<table border=\"1\" class=\"dataframe\">\n",
        "  <thead>\n",
        "    <tr style=\"text-align: right;\">\n",
        "      <th></th>\n",
        "      <th>nutrient</th>\n",
        "      <th>nutgroup</th>\n",
        "      <th>units</th>\n",
        "      <th>value</th>\n",
        "      <th>id</th>\n",
        "      <th>food</th>\n",
        "      <th>fgroup</th>\n",
        "      <th>manufacturer</th>\n",
        "    </tr>\n",
        "  </thead>\n",
        "  <tbody>\n",
        "    <tr>\n",
        "      <th>0</th>\n",
        "      <td>                     Protein</td>\n",
        "      <td> Composition</td>\n",
        "      <td>    g</td>\n",
        "      <td>  25.18</td>\n",
        "      <td> 1008</td>\n",
        "      <td> Cheese, caraway</td>\n",
        "      <td> Dairy and Egg Products</td>\n",
        "      <td> </td>\n",
        "    </tr>\n",
        "    <tr>\n",
        "      <th>1</th>\n",
        "      <td>           Total lipid (fat)</td>\n",
        "      <td> Composition</td>\n",
        "      <td>    g</td>\n",
        "      <td>  29.20</td>\n",
        "      <td> 1008</td>\n",
        "      <td> Cheese, caraway</td>\n",
        "      <td> Dairy and Egg Products</td>\n",
        "      <td> </td>\n",
        "    </tr>\n",
        "    <tr>\n",
        "      <th>2</th>\n",
        "      <td> Carbohydrate, by difference</td>\n",
        "      <td> Composition</td>\n",
        "      <td>    g</td>\n",
        "      <td>   3.06</td>\n",
        "      <td> 1008</td>\n",
        "      <td> Cheese, caraway</td>\n",
        "      <td> Dairy and Egg Products</td>\n",
        "      <td> </td>\n",
        "    </tr>\n",
        "    <tr>\n",
        "      <th>3</th>\n",
        "      <td>                         Ash</td>\n",
        "      <td>       Other</td>\n",
        "      <td>    g</td>\n",
        "      <td>   3.28</td>\n",
        "      <td> 1008</td>\n",
        "      <td> Cheese, caraway</td>\n",
        "      <td> Dairy and Egg Products</td>\n",
        "      <td> </td>\n",
        "    </tr>\n",
        "    <tr>\n",
        "      <th>4</th>\n",
        "      <td>                      Energy</td>\n",
        "      <td>      Energy</td>\n",
        "      <td> kcal</td>\n",
        "      <td> 376.00</td>\n",
        "      <td> 1008</td>\n",
        "      <td> Cheese, caraway</td>\n",
        "      <td> Dairy and Egg Products</td>\n",
        "      <td> </td>\n",
        "    </tr>\n",
        "    <tr>\n",
        "      <th>5</th>\n",
        "      <td>                       Water</td>\n",
        "      <td> Composition</td>\n",
        "      <td>    g</td>\n",
        "      <td>  39.28</td>\n",
        "      <td> 1008</td>\n",
        "      <td> Cheese, caraway</td>\n",
        "      <td> Dairy and Egg Products</td>\n",
        "      <td> </td>\n",
        "    </tr>\n",
        "  </tbody>\n",
        "</table>\n",
        "<p>6 rows \u00d7 8 columns</p>\n",
        "</div>"
       ],
       "metadata": {},
       "output_type": "pyout",
       "prompt_number": 25,
       "text": [
        "                      nutrient     nutgroup units   value    id  \\\n",
        "0                      Protein  Composition     g   25.18  1008   \n",
        "1            Total lipid (fat)  Composition     g   29.20  1008   \n",
        "2  Carbohydrate, by difference  Composition     g    3.06  1008   \n",
        "3                          Ash        Other     g    3.28  1008   \n",
        "4                       Energy       Energy  kcal  376.00  1008   \n",
        "5                        Water  Composition     g   39.28  1008   \n",
        "\n",
        "              food                  fgroup manufacturer  \n",
        "0  Cheese, caraway  Dairy and Egg Products               \n",
        "1  Cheese, caraway  Dairy and Egg Products               \n",
        "2  Cheese, caraway  Dairy and Egg Products               \n",
        "3  Cheese, caraway  Dairy and Egg Products               \n",
        "4  Cheese, caraway  Dairy and Egg Products               \n",
        "5  Cheese, caraway  Dairy and Egg Products               \n",
        "\n",
        "[6 rows x 8 columns]"
       ]
      }
     ],
     "prompt_number": 25
    },
    {
     "cell_type": "code",
     "collapsed": false,
     "input": [
      "result = ndata.groupby(['nutrient','fgroup'])['value'].quantile(0.5)"
     ],
     "language": "python",
     "metadata": {},
     "outputs": [],
     "prompt_number": 26
    },
    {
     "cell_type": "code",
     "collapsed": false,
     "input": [
      "result['Protein'].order().plot(kind='barh')"
     ],
     "language": "python",
     "metadata": {},
     "outputs": [
      {
       "metadata": {},
       "output_type": "pyout",
       "prompt_number": 41,
       "text": [
        "<matplotlib.axes._subplots.AxesSubplot at 0x118274ad0>"
       ]
      },
      {
       "metadata": {},
       "output_type": "display_data",
       "png": "[encoded data removed]",
       "text": [
        "<matplotlib.figure.Figure at 0x11803d210>"
       ]
      }
     ],
     "prompt_number": 41
    },
    {
     "cell_type": "code",
     "collapsed": false,
     "input": [
      "result.index[:5]"
     ],
     "language": "python",
     "metadata": {},
     "outputs": [
      {
       "metadata": {},
       "output_type": "pyout",
       "prompt_number": 37,
       "text": [
        "MultiIndex(levels=[[u'Adjusted Protein', u'Alanine', u'Alcohol, ethyl', u'Arginine', u'Ash', u'Aspartic acid', u'Beta-sitosterol', u'Betaine', u'Caffeine', u'Calcium, Ca', u'Campesterol', u'Carbohydrate, by difference', u'Carotene, alpha', u'Carotene, beta', u'Cholesterol', u'Choline, total', u'Copper, Cu', u'Cryptoxanthin, beta', u'Cystine', u'Dihydrophylloquinone', u'Energy', u'Fatty acids, total monounsaturated', u'Fatty acids, total polyunsaturated', u'Fatty acids, total saturated', u'Fatty acids, total trans', u'Fatty acids, total trans-monoenoic', u'Fatty acids, total trans-polyenoic', u'Fiber, total dietary', u'Fluoride, F', u'Folate, DFE', u'Folate, food', u'Folate, total', u'Folic acid', u'Fructose', u'Galactose', u'Glucose (dextrose)', u'Glutamic acid', u'Glycine', u'Histidine', u'Hydroxyproline', u'Iron, Fe', u'Isoleucine', u'Lactose', u'Leucine', u'Lutein + zeaxanthin', u'Lycopene', u'Lysine', u'Magnesium, Mg', u'Maltose', u'Manganese, Mn', u'Menaquinone-4', u'Methionine', u'Niacin', u'Pantothenic acid', u'Phenylalanine', u'Phosphorus, P', u'Phytosterols', u'Potassium, K', u'Proline', u'Protein', u'Retinol', u'Riboflavin', u'Selenium, Se', u'Serine', u'Sodium, Na', u'Starch', u'Stigmasterol', u'Sucrose', u'Sugars, total', u'Theobromine', u'Thiamin', u'Threonine', u'Tocopherol, beta', u'Tocopherol, delta', u'Tocopherol, gamma', u'Total lipid (fat)', u'Tryptophan', u'Tyrosine', u'Valine', u'Vitamin A, IU', u'Vitamin A, RAE', u'Vitamin B-12', u'Vitamin B-12, added', u'Vitamin B-6', u'Vitamin C, total ascorbic acid', u'Vitamin D', u'Vitamin D (D2 + D3)', u'Vitamin D2 (ergocalciferol)', u'Vitamin D3 (cholecalciferol)', u'Vitamin E (alpha-tocopherol)', u'Vitamin E, added', u'Vitamin K (phylloquinone)', u'Water', u'Zinc, Zn'], [u'Baby Foods', u'Baked Products', u'Beef Products', u'Beverages', u'Breakfast Cereals', u'Cereal Grains and Pasta', u'Dairy and Egg Products', u'Ethnic Foods', u'Fast Foods', u'Fats and Oils', u'Finfish and Shellfish Products', u'Fruits and Fruit Juices', u'Lamb, Veal, and Game Products', u'Legumes and Legume Products', u'Meals, Entrees, and Sidedishes', u'Nut and Seed Products', u'Pork Products', u'Poultry Products', u'Restaurant Foods', u'Sausages and Luncheon Meats', u'Snacks', u'Soups, Sauces, and Gravies', u'Spices and Herbs', u'Sweets', u'Vegetables and Vegetable Products']],\n",
        "           labels=[[0, 0, 1, 1, 1], [23, 24, 0, 1, 2]],\n",
        "           names=[u'nutrient', u'fgroup'])"
       ]
      }
     ],
     "prompt_number": 37
    },
    {
     "cell_type": "code",
     "collapsed": false,
     "input": [
      "by_nutrient = ndata.groupby(['nutgroup','nutrient'])\n",
      "get_maximum = lambda x: x.xs(x.value.idxmax())\n",
      "get_minimum = lambda x: x.xs(x.value,idxmin())"
     ],
     "language": "python",
     "metadata": {},
     "outputs": [],
     "prompt_number": 45
    },
    {
     "cell_type": "code",
     "collapsed": false,
     "input": [
      "max_foods = by_nutrient.apply(get_maximum)[['value','food']]"
     ],
     "language": "python",
     "metadata": {},
     "outputs": [],
     "prompt_number": 46
    },
    {
     "cell_type": "code",
     "collapsed": false,
     "input": [
      "max_foods.food = max_foods.food.str[:50]\n",
      "max_foods.ix['Amino Acids']['food']"
     ],
     "language": "python",
     "metadata": {},
     "outputs": [
      {
       "metadata": {},
       "output_type": "pyout",
       "prompt_number": 50,
       "text": [
        "nutrient\n",
        "Alanine                           Gelatins, dry powder, unsweetened\n",
        "Arginine                               Seeds, sesame flour, low-fat\n",
        "Aspartic acid                                   Soy protein isolate\n",
        "Cystine                Seeds, cottonseed flour, low fat (glandless)\n",
        "Glutamic acid                                   Soy protein isolate\n",
        "Glycine                           Gelatins, dry powder, unsweetened\n",
        "Histidine                Whale, beluga, meat, dried (Alaska Native)\n",
        "Hydroxyproline    KENTUCKY FRIED CHICKEN, Fried Chicken, ORIGINA...\n",
        "Isoleucine        Soy protein isolate, PROTEIN TECHNOLOGIES INTE...\n",
        "Leucine           Soy protein isolate, PROTEIN TECHNOLOGIES INTE...\n",
        "Lysine            Seal, bearded (Oogruk), meat, dried (Alaska Na...\n",
        "Methionine                    Fish, cod, Atlantic, dried and salted\n",
        "Phenylalanine     Soy protein isolate, PROTEIN TECHNOLOGIES INTE...\n",
        "Proline                           Gelatins, dry powder, unsweetened\n",
        "Serine            Soy protein isolate, PROTEIN TECHNOLOGIES INTE...\n",
        "Threonine         Soy protein isolate, PROTEIN TECHNOLOGIES INTE...\n",
        "Tryptophan         Sea lion, Steller, meat with fat (Alaska Native)\n",
        "Tyrosine          Soy protein isolate, PROTEIN TECHNOLOGIES INTE...\n",
        "Valine            Soy protein isolate, PROTEIN TECHNOLOGIES INTE...\n",
        "Name: food, dtype: object"
       ]
      }
     ],
     "prompt_number": 50
    },
    {
     "cell_type": "code",
     "collapsed": false,
     "input": [],
     "language": "python",
     "metadata": {},
     "outputs": []
    }
   ],
   "metadata": {}
  }
 ]
}