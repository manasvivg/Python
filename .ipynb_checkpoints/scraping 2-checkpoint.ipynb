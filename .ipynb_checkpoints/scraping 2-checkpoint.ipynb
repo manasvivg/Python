{
 "metadata": {
  "name": "",
  "signature": "sha256:ac930f1782f51fbbfeb6bea10a85e78be92673eac1a8b7b161af067d2cad4620"
 },
 "nbformat": 3,
 "nbformat_minor": 0,
 "worksheets": [
  {
   "cells": [
    {
     "cell_type": "code",
     "collapsed": false,
     "input": [
      "## all imports\n",
      "from IPython.display import HTML\n",
      "import numpy as np\n",
      "import urllib2\n",
      "import bs4 #this is beautiful soup\n",
      "\n",
      "from pandas import Series\n",
      "import pandas as pd\n",
      "from pandas import DataFrame"
     ],
     "language": "python",
     "metadata": {},
     "outputs": [],
     "prompt_number": 1
    },
    {
     "cell_type": "code",
     "collapsed": false,
     "input": [
      "url = 'http://www.crummy.com/software/BeautifulSoup'\n",
      "source = urllib2.urlopen(url).read()"
     ],
     "language": "python",
     "metadata": {},
     "outputs": [],
     "prompt_number": 2
    },
    {
     "cell_type": "code",
     "collapsed": false,
     "input": [
      "print 'Alice' in source\n"
     ],
     "language": "python",
     "metadata": {},
     "outputs": [
      {
       "output_type": "stream",
       "stream": "stdout",
       "text": [
        "False\n"
       ]
      }
     ],
     "prompt_number": 4
    },
    {
     "cell_type": "code",
     "collapsed": false,
     "input": [
      "print source.count('Soup')"
     ],
     "language": "python",
     "metadata": {},
     "outputs": [
      {
       "output_type": "stream",
       "stream": "stdout",
       "text": [
        "41\n"
       ]
      }
     ],
     "prompt_number": 5
    },
    {
     "cell_type": "code",
     "collapsed": false,
     "input": [
      "position =  source.find('alien video games')\n",
      "print position"
     ],
     "language": "python",
     "metadata": {},
     "outputs": [
      {
       "output_type": "stream",
       "stream": "stdout",
       "text": [
        "1695\n"
       ]
      }
     ],
     "prompt_number": 6
    },
    {
     "cell_type": "code",
     "collapsed": false,
     "input": [
      "print source[position:position + 17]"
     ],
     "language": "python",
     "metadata": {},
     "outputs": [
      {
       "output_type": "stream",
       "stream": "stdout",
       "text": [
        "alien video games\n"
       ]
      }
     ],
     "prompt_number": 8
    },
    {
     "cell_type": "code",
     "collapsed": false,
     "input": [
      "soup = bs4.BeautifulSoup(source)"
     ],
     "language": "python",
     "metadata": {},
     "outputs": [],
     "prompt_number": 9
    },
    {
     "cell_type": "code",
     "collapsed": false,
     "input": [
      "soup.findAll('a')\n"
     ],
     "language": "python",
     "metadata": {},
     "outputs": [
      {
       "metadata": {},
       "output_type": "pyout",
       "prompt_number": 12,
       "text": [
        "[<a href=\"bs4/download/\"><h1>Beautiful Soup</h1></a>,\n",
        " <a href=\"http://www.awaretek.com/python/index.html\">Python411\n",
        " Podcast</a>,\n",
        " <a href=\"#Download\">Download</a>,\n",
        " <a href=\"bs4/doc/\">Documentation</a>,\n",
        " <a href=\"#HallOfFame\">Hall of Fame</a>,\n",
        " <a href=\"https://code.launchpad.net/beautifulsoup\">Source</a>,\n",
        " <a href=\"https://groups.google.com/forum/?fromgroups#!forum/beautifulsoup\">Discussion group</a>,\n",
        " <a href=\"http://www.candlemarkandgleam.com/shop/constellation-games/\"><i>Constellation\n",
        " Games</i>, my sci-fi novel about alien video games</a>,\n",
        " <a href=\"http://constellation.crummy.com/Constellation%20Games%20excerpt.html\">read\n",
        " the first two chapters for free</a>,\n",
        " <a href=\"https://groups.google.com/forum/?fromgroups#!forum/beautifulsoup\">the discussion\n",
        " group</a>,\n",
        " <a href=\"https://bugs.launchpad.net/beautifulsoup/\">file it</a>,\n",
        " <a href=\"http://lxml.de/\">lxml</a>,\n",
        " <a href=\"http://code.google.com/p/html5lib/\">html5lib</a>,\n",
        " <a href=\"bs4/doc/\">Read more.</a>,\n",
        " <a name=\"Download\"><h2>Download Beautiful Soup</h2></a>,\n",
        " <a href=\"bs4/download/\">Beautiful Soup\n",
        " 4.3.2</a>,\n",
        " <a href=\"http://www.crummy.com/software/BeautifulSoup/bs3/documentation.html\">Here's\n",
        " the Beautiful Soup 3 documentation.</a>,\n",
        " <a href=\"download/3.x/BeautifulSoup-3.2.1.tar.gz\">3.2.1</a>,\n",
        " <a name=\"HallOfFame\"><h2>Hall of Fame</h2></a>,\n",
        " <a href=\"http://www.nytimes.com/2007/10/25/arts/design/25vide.html\">\"Movable\n",
        "  Type\"</a>,\n",
        " <a href=\"https://github.com/reddit/reddit/blob/85f9cff3e2ab9bb8f19b96acd8da4ebacc079f04/r2/r2/lib/media.py\">parse\n",
        " a page that's been linked to and find a representative image</a>,\n",
        " <a href=\"http://www.harrowell.org.uk/viktormap.html\">track the business\n",
        "  activities</a>,\n",
        " <a href=\"http://svn.python.org/view/tracker/importer/\">migrate the Python\n",
        " bug tracker from Sourceforge to Roundup</a>,\n",
        " <a href=\"http://www2.ljworld.com/\">Lawrence Journal-World</a>,\n",
        " <a href=\"http://www.b-list.org/weblog/2010/nov/02/news-done-broke/\">gather\n",
        " statewide election results</a>,\n",
        " <a href=\"http://esrl.noaa.gov/gsd/fab/\">NOAA's Forecast\n",
        " Applications Branch</a>,\n",
        " <a href=\"http://laps.noaa.gov/topograbber/\">TopoGrabber</a>,\n",
        " <a href=\"http://groups.google.com/group/beautifulsoup/\">the discussion\n",
        " group</a>,\n",
        " <a href=\"https://launchpad.net/beautifulsoup\">Launchpad</a>,\n",
        " <a href=\"https://code.launchpad.net/beautifulsoup/\">get the source\n",
        " code</a>,\n",
        " <a href=\"https://bugs.launchpad.net/beautifulsoup/\">file\n",
        " bugs</a>,\n",
        " <a href=\"/source/software/BeautifulSoup/index.bhtml\">source</a>,\n",
        " <a href=\"/self/\">Leonard Richardson</a>,\n",
        " <a href=\"/self/contact.html\">contact information</a>,\n",
        " <a href=\"http://creativecommons.org/licenses/by-sa/2.0/\"><img border=\"0\" src=\"/nb//resources/img/somerights20.jpg\"/></a>,\n",
        " <a href=\"http://creativecommons.org/licenses/by-sa/2.0/\">Creative Commons License</a>,\n",
        " <a href=\"http://www.crummy.com/\">http://www.crummy.com/</a>,\n",
        " <a href=\"http://www.crummy.com/software/\">software/</a>,\n",
        " <a href=\"http://www.crummy.com/software/BeautifulSoup/\">BeautifulSoup/</a>]"
       ]
      }
     ],
     "prompt_number": 12
    },
    {
     "cell_type": "code",
     "collapsed": false,
     "input": [
      "first_tag = soup.find('a')\n",
      "\n",
      "## get attribute `href`\n",
      "first_tag.get('href')\n"
     ],
     "language": "python",
     "metadata": {},
     "outputs": [
      {
       "metadata": {},
       "output_type": "pyout",
       "prompt_number": 13,
       "text": [
        "'bs4/download/'"
       ]
      }
     ],
     "prompt_number": 13
    },
    {
     "cell_type": "code",
     "collapsed": false,
     "input": [
      "link_list = [l.get('href') for l in soup.findAll('a')]"
     ],
     "language": "python",
     "metadata": {},
     "outputs": [],
     "prompt_number": 14
    },
    {
     "cell_type": "code",
     "collapsed": false,
     "input": [
      "external_links = []\n",
      "\n",
      "for l in link_list:\n",
      "    if l is not None and l[:4] == 'http':\n",
      "        external_links.append(l)\n",
      "        \n",
      "external_links"
     ],
     "language": "python",
     "metadata": {},
     "outputs": [
      {
       "metadata": {},
       "output_type": "pyout",
       "prompt_number": 20,
       "text": [
        "['http://www.awaretek.com/python/index.html',\n",
        " 'https://code.launchpad.net/beautifulsoup',\n",
        " 'https://groups.google.com/forum/?fromgroups#!forum/beautifulsoup',\n",
        " 'http://www.candlemarkandgleam.com/shop/constellation-games/',\n",
        " 'http://constellation.crummy.com/Constellation%20Games%20excerpt.html',\n",
        " 'https://groups.google.com/forum/?fromgroups#!forum/beautifulsoup',\n",
        " 'https://bugs.launchpad.net/beautifulsoup/',\n",
        " 'http://lxml.de/',\n",
        " 'http://code.google.com/p/html5lib/',\n",
        " 'http://www.crummy.com/software/BeautifulSoup/bs3/documentation.html',\n",
        " 'http://www.nytimes.com/2007/10/25/arts/design/25vide.html',\n",
        " 'https://github.com/reddit/reddit/blob/85f9cff3e2ab9bb8f19b96acd8da4ebacc079f04/r2/r2/lib/media.py',\n",
        " 'http://www.harrowell.org.uk/viktormap.html',\n",
        " 'http://svn.python.org/view/tracker/importer/',\n",
        " 'http://www2.ljworld.com/',\n",
        " 'http://www.b-list.org/weblog/2010/nov/02/news-done-broke/',\n",
        " 'http://esrl.noaa.gov/gsd/fab/',\n",
        " 'http://laps.noaa.gov/topograbber/',\n",
        " 'http://groups.google.com/group/beautifulsoup/',\n",
        " 'https://launchpad.net/beautifulsoup',\n",
        " 'https://code.launchpad.net/beautifulsoup/',\n",
        " 'https://bugs.launchpad.net/beautifulsoup/',\n",
        " 'http://creativecommons.org/licenses/by-sa/2.0/',\n",
        " 'http://creativecommons.org/licenses/by-sa/2.0/',\n",
        " 'http://www.crummy.com/',\n",
        " 'http://www.crummy.com/software/',\n",
        " 'http://www.crummy.com/software/BeautifulSoup/']"
       ]
      }
     ],
     "prompt_number": 20
    },
    {
     "cell_type": "code",
     "collapsed": false,
     "input": [
      "[l for l in link_list if l is not None and l.startswith('http')]"
     ],
     "language": "python",
     "metadata": {},
     "outputs": [
      {
       "metadata": {},
       "output_type": "pyout",
       "prompt_number": 21,
       "text": [
        "['http://www.awaretek.com/python/index.html',\n",
        " 'https://code.launchpad.net/beautifulsoup',\n",
        " 'https://groups.google.com/forum/?fromgroups#!forum/beautifulsoup',\n",
        " 'http://www.candlemarkandgleam.com/shop/constellation-games/',\n",
        " 'http://constellation.crummy.com/Constellation%20Games%20excerpt.html',\n",
        " 'https://groups.google.com/forum/?fromgroups#!forum/beautifulsoup',\n",
        " 'https://bugs.launchpad.net/beautifulsoup/',\n",
        " 'http://lxml.de/',\n",
        " 'http://code.google.com/p/html5lib/',\n",
        " 'http://www.crummy.com/software/BeautifulSoup/bs3/documentation.html',\n",
        " 'http://www.nytimes.com/2007/10/25/arts/design/25vide.html',\n",
        " 'https://github.com/reddit/reddit/blob/85f9cff3e2ab9bb8f19b96acd8da4ebacc079f04/r2/r2/lib/media.py',\n",
        " 'http://www.harrowell.org.uk/viktormap.html',\n",
        " 'http://svn.python.org/view/tracker/importer/',\n",
        " 'http://www2.ljworld.com/',\n",
        " 'http://www.b-list.org/weblog/2010/nov/02/news-done-broke/',\n",
        " 'http://esrl.noaa.gov/gsd/fab/',\n",
        " 'http://laps.noaa.gov/topograbber/',\n",
        " 'http://groups.google.com/group/beautifulsoup/',\n",
        " 'https://launchpad.net/beautifulsoup',\n",
        " 'https://code.launchpad.net/beautifulsoup/',\n",
        " 'https://bugs.launchpad.net/beautifulsoup/',\n",
        " 'http://creativecommons.org/licenses/by-sa/2.0/',\n",
        " 'http://creativecommons.org/licenses/by-sa/2.0/',\n",
        " 'http://www.crummy.com/',\n",
        " 'http://www.crummy.com/software/',\n",
        " 'http://www.crummy.com/software/BeautifulSoup/']"
       ]
      }
     ],
     "prompt_number": 21
    },
    {
     "cell_type": "code",
     "collapsed": false,
     "input": [
      "# redifining `s` without any line breaks\n",
      "s = \"\"\"<!DOCTYPE html><html><head><title>This is a title</title></head><body><h3> Test </h3><p>Hello world!</p></body></html>\"\"\"\n",
      "## get bs4 object\n",
      "tree = bs4.BeautifulSoup(s)\n",
      "\n",
      "## get html root node\n",
      "root_node = tree.html\n",
      "\n",
      "## get head from root using contents\n",
      "head = root_node.contents[0]\n",
      "\n",
      "## get body from root\n",
      "body = root_node.contents[1]\n",
      "\n",
      "## could directly access body\n",
      "tree.body"
     ],
     "language": "python",
     "metadata": {},
     "outputs": [
      {
       "metadata": {},
       "output_type": "pyout",
       "prompt_number": 22,
       "text": [
        "<body><h3> Test </h3><p>Hello world!</p></body>"
       ]
      }
     ],
     "prompt_number": 22
    },
    {
     "cell_type": "code",
     "collapsed": false,
     "input": [
      "tree"
     ],
     "language": "python",
     "metadata": {},
     "outputs": [
      {
       "metadata": {},
       "output_type": "pyout",
       "prompt_number": 23,
       "text": [
        "<!DOCTYPE html>\n",
        "<html><head><title>This is a title</title></head><body><h3> Test </h3><p>Hello world!</p></body></html>"
       ]
      }
     ],
     "prompt_number": 23
    },
    {
     "cell_type": "code",
     "collapsed": false,
     "input": [
      "root_node"
     ],
     "language": "python",
     "metadata": {},
     "outputs": [
      {
       "metadata": {},
       "output_type": "pyout",
       "prompt_number": 24,
       "text": [
        "<html><head><title>This is a title</title></head><body><h3> Test </h3><p>Hello world!</p></body></html>"
       ]
      }
     ],
     "prompt_number": 24
    },
    {
     "cell_type": "code",
     "collapsed": false,
     "input": [
      "head"
     ],
     "language": "python",
     "metadata": {},
     "outputs": [
      {
       "metadata": {},
       "output_type": "pyout",
       "prompt_number": 25,
       "text": [
        "<head><title>This is a title</title></head>"
       ]
      }
     ],
     "prompt_number": 25
    },
    {
     "cell_type": "code",
     "collapsed": false,
     "input": [
      "import json"
     ],
     "language": "python",
     "metadata": {},
     "outputs": [],
     "prompt_number": 26
    },
    {
     "cell_type": "code",
     "collapsed": false,
     "input": [
      "a = {'a': 1, 'b':2}\n",
      "print a\n",
      "s = json.dumps(a)\n",
      "print s\n",
      "a2 = json.loads(s)"
     ],
     "language": "python",
     "metadata": {},
     "outputs": [
      {
       "output_type": "stream",
       "stream": "stdout",
       "text": [
        "{'a': 1, 'b': 2}\n",
        "{\"a\": 1, \"b\": 2}\n"
       ]
      }
     ],
     "prompt_number": 27
    },
    {
     "cell_type": "code",
     "collapsed": false,
     "input": [
      "print a2"
     ],
     "language": "python",
     "metadata": {},
     "outputs": [
      {
       "output_type": "stream",
       "stream": "stdout",
       "text": [
        "{u'a': 1, u'b': 2}\n"
       ]
      }
     ],
     "prompt_number": 28
    },
    {
     "cell_type": "code",
     "collapsed": false,
     "input": [
      "mykey = '6ss2myf4ywbegfadb2mk3uvx'\n",
      "url = 'http://api.rottentomatoes.com/api/public/v1.0/lists/dvds/top_rentals.json?apikey=' + mykey\n",
      "data = urllib2.urlopen(url).read()\n"
     ],
     "language": "python",
     "metadata": {},
     "outputs": [],
     "prompt_number": 36
    },
    {
     "cell_type": "code",
     "collapsed": false,
     "input": [
      "\n",
      "movies = dataDict['movies']\n",
      "\n",
      "# critics scores list\n",
      "critics_scores = [m['ratings']['critics_score'] for m in movies]\n",
      "\n",
      "# audience scores list\n",
      "audience_scores = [m['ratings']['audience_score'] for m in movies]\n"
     ],
     "language": "python",
     "metadata": {},
     "outputs": [],
     "prompt_number": 37
    },
    {
     "cell_type": "code",
     "collapsed": false,
     "input": [
      "critics_scores"
     ],
     "language": "python",
     "metadata": {},
     "outputs": [
      {
       "metadata": {},
       "output_type": "pyout",
       "prompt_number": 38,
       "text": [
        "[92, 89, 18, 92, 49, 73, 90, 73, 59, 80]"
       ]
      }
     ],
     "prompt_number": 38
    },
    {
     "cell_type": "code",
     "collapsed": false,
     "input": [
      "audience_scores"
     ],
     "language": "python",
     "metadata": {},
     "outputs": [
      {
       "metadata": {},
       "output_type": "pyout",
       "prompt_number": 39,
       "text": [
        "[92, 93, 53, 91, 72, 68, 91, 66, 54, 87]"
       ]
      }
     ],
     "prompt_number": 39
    },
    {
     "cell_type": "code",
     "collapsed": false,
     "input": [
      "scores = pd.DataFrame(data=[critics_scores, audience_scores]).transpose()\n",
      "scores.columns = ['critics', 'audience']\n",
      "\n",
      "## also create a list with all movie titles\n",
      "movie_titles = [m['title'] for m in movies]\n",
      "\n",
      "## set index of dataFrame BEWARE of inplace!\n",
      "scores.set_index([movie_titles])\n",
      "\n",
      "## the line above does not changes scores!\n",
      "## You need to either reassign\n",
      "\n",
      "scores = scores.set_index([movie_titles])\n",
      "\n",
      "## or set the inplace argument to True\n",
      "scores.set_index([movie_titles], inplace=True)\n",
      "scores.head(3)"
     ],
     "language": "python",
     "metadata": {},
     "outputs": [
      {
       "html": [
        "<div style=\"max-height:1000px;max-width:1500px;overflow:auto;\">\n",
        "<table border=\"1\" class=\"dataframe\">\n",
        "  <thead>\n",
        "    <tr style=\"text-align: right;\">\n",
        "      <th></th>\n",
        "      <th>critics</th>\n",
        "      <th>audience</th>\n",
        "    </tr>\n",
        "  </thead>\n",
        "  <tbody>\n",
        "    <tr>\n",
        "      <th>X-Men: Days of Future Past</th>\n",
        "      <td> 92</td>\n",
        "      <td> 92</td>\n",
        "    </tr>\n",
        "    <tr>\n",
        "      <th>Captain America: The Winter Soldier</th>\n",
        "      <td> 89</td>\n",
        "      <td> 93</td>\n",
        "    </tr>\n",
        "    <tr>\n",
        "      <th>Transformers: Age of Extinction</th>\n",
        "      <td> 18</td>\n",
        "      <td> 53</td>\n",
        "    </tr>\n",
        "  </tbody>\n",
        "</table>\n",
        "</div>"
       ],
       "metadata": {},
       "output_type": "pyout",
       "prompt_number": 41,
       "text": [
        "                                     critics  audience\n",
        "X-Men: Days of Future Past                92        92\n",
        "Captain America: The Winter Soldier       89        93\n",
        "Transformers: Age of Extinction           18        53"
       ]
      }
     ],
     "prompt_number": 41
    },
    {
     "cell_type": "code",
     "collapsed": false,
     "input": [
      "scores"
     ],
     "language": "python",
     "metadata": {},
     "outputs": [
      {
       "html": [
        "<div style=\"max-height:1000px;max-width:1500px;overflow:auto;\">\n",
        "<table border=\"1\" class=\"dataframe\">\n",
        "  <thead>\n",
        "    <tr style=\"text-align: right;\">\n",
        "      <th></th>\n",
        "      <th>critics</th>\n",
        "      <th>audience</th>\n",
        "    </tr>\n",
        "  </thead>\n",
        "  <tbody>\n",
        "    <tr>\n",
        "      <th>X-Men: Days of Future Past</th>\n",
        "      <td> 92</td>\n",
        "      <td> 92</td>\n",
        "    </tr>\n",
        "    <tr>\n",
        "      <th>Captain America: The Winter Soldier</th>\n",
        "      <td> 89</td>\n",
        "      <td> 93</td>\n",
        "    </tr>\n",
        "    <tr>\n",
        "      <th>Transformers: Age of Extinction</th>\n",
        "      <td> 18</td>\n",
        "      <td> 53</td>\n",
        "    </tr>\n",
        "    <tr>\n",
        "      <th>How to Train Your Dragon 2</th>\n",
        "      <td> 92</td>\n",
        "      <td> 91</td>\n",
        "    </tr>\n",
        "    <tr>\n",
        "      <th>Maleficent</th>\n",
        "      <td> 49</td>\n",
        "      <td> 72</td>\n",
        "    </tr>\n",
        "    <tr>\n",
        "      <th>Godzilla</th>\n",
        "      <td> 73</td>\n",
        "      <td> 68</td>\n",
        "    </tr>\n",
        "    <tr>\n",
        "      <th>Live Die Repeat: Edge of Tomorrow</th>\n",
        "      <td> 90</td>\n",
        "      <td> 91</td>\n",
        "    </tr>\n",
        "    <tr>\n",
        "      <th>Neighbors</th>\n",
        "      <td> 73</td>\n",
        "      <td> 66</td>\n",
        "    </tr>\n",
        "    <tr>\n",
        "      <th>Hercules</th>\n",
        "      <td> 59</td>\n",
        "      <td> 54</td>\n",
        "    </tr>\n",
        "    <tr>\n",
        "      <th>The Fault In Our Stars</th>\n",
        "      <td> 80</td>\n",
        "      <td> 87</td>\n",
        "    </tr>\n",
        "  </tbody>\n",
        "</table>\n",
        "</div>"
       ],
       "metadata": {},
       "output_type": "pyout",
       "prompt_number": 42,
       "text": [
        "                                     critics  audience\n",
        "X-Men: Days of Future Past                92        92\n",
        "Captain America: The Winter Soldier       89        93\n",
        "Transformers: Age of Extinction           18        53\n",
        "How to Train Your Dragon 2                92        91\n",
        "Maleficent                                49        72\n",
        "Godzilla                                  73        68\n",
        "Live Die Repeat: Edge of Tomorrow         90        91\n",
        "Neighbors                                 73        66\n",
        "Hercules                                  59        54\n",
        "The Fault In Our Stars                    80        87"
       ]
      }
     ],
     "prompt_number": 42
    },
    {
     "cell_type": "code",
     "collapsed": false,
     "input": [
      "from matplotlib import pyplot as plt\n",
      "%matplotlib inline"
     ],
     "language": "python",
     "metadata": {},
     "outputs": [],
     "prompt_number": 49
    },
    {
     "cell_type": "code",
     "collapsed": false,
     "input": [
      "fig = plt.figure(figsize=(20,12))\n",
      "ax = fig.add_subplot(1,1,1)\n",
      "ax.scatter(x=scores.critics,y=scores.audience)\n",
      "ax.set_xlabel('Critics')\n",
      "ax.set_ylabel('Audience')\n",
      "ax.plot((0,120),(0,120),'r:')\n",
      "ax.set_xlim([0,120])\n",
      "ax.set_ylim([0,120])\n",
      "for i in range(len(scores)):\n",
      "    ax.annotate(scores.index[i],(scores.ix[i,].critics, scores.ix[i,].audience))\n",
      "    \n"
     ],
     "language": "python",
     "metadata": {},
     "outputs": [
      {
       "metadata": {},
       "output_type": "display_data",
       "png": "[encoded data removed]",
       "text": [
        "<matplotlib.figure.Figure at 0x10fcd5c90>"
       ]
      }
     ],
     "prompt_number": 79
    },
    {
     "cell_type": "code",
     "collapsed": false,
     "input": [
      "scores.ix[1,].critics"
     ],
     "language": "python",
     "metadata": {},
     "outputs": [
      {
       "metadata": {},
       "output_type": "pyout",
       "prompt_number": 66,
       "text": [
        "89"
       ]
      }
     ],
     "prompt_number": 66
    },
    {
     "cell_type": "code",
     "collapsed": false,
     "input": [
      "i = 0\n"
     ],
     "language": "python",
     "metadata": {},
     "outputs": [],
     "prompt_number": 67
    },
    {
     "cell_type": "code",
     "collapsed": false,
     "input": [
      "scores.ix[i,].index"
     ],
     "language": "python",
     "metadata": {},
     "outputs": [
      {
       "metadata": {},
       "output_type": "pyout",
       "prompt_number": 69,
       "text": [
        "Index([u'critics', u'audience'], dtype='object')"
       ]
      }
     ],
     "prompt_number": 69
    },
    {
     "cell_type": "code",
     "collapsed": false,
     "input": [
      "scores.index[i]"
     ],
     "language": "python",
     "metadata": {},
     "outputs": [
      {
       "metadata": {},
       "output_type": "pyout",
       "prompt_number": 72,
       "text": [
        "u'X-Men: Days of Future Past'"
       ]
      }
     ],
     "prompt_number": 72
    },
    {
     "cell_type": "code",
     "collapsed": false,
     "input": [
      "url"
     ],
     "language": "python",
     "metadata": {},
     "outputs": [
      {
       "metadata": {},
       "output_type": "pyout",
       "prompt_number": 80,
       "text": [
        "'http://api.rottentomatoes.com/api/public/v1.0/lists/dvds/top_rentals.json?apikey=6ss2myf4ywbegfadb2mk3uvx'"
       ]
      }
     ],
     "prompt_number": 80
    }
   ],
   "metadata": {}
  }
 ]
}